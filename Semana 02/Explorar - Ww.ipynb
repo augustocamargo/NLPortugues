{
 "cells": [
  {
   "cell_type": "markdown",
   "metadata": {},
   "source": [
    "<img src=\"https://raw.githubusercontent.com/alan-barzilay/NLPortugues/master/imagens/logo_nlportugues.png\"  style=\"height:65%\" align=\"right\">\n",
    "\n",
    "\n",
    "# Lista 2 - NN & Backpropagation\n",
    "**Nome:**\n",
    "\n",
    "**Numero Usp:**\n",
    "\n",
    "\n",
    "_________________________________________\n",
    "\n",
    "Antes de começar o exercício,  não se esqueça de instalar todos os pacotes necessários para a sua execução.  "
   ]
  },
  {
   "cell_type": "code",
   "execution_count": 2,
   "metadata": {},
   "outputs": [
    {
     "name": "stdout",
     "output_type": "stream",
     "text": [
      "/home/wseidel/workspaces/NLPortugues/Semana 02\n"
     ]
    }
   ],
   "source": [
    "import tensorflow as tf\n",
    "import pandas as pd\n",
    "import numpy as np\n",
    "import matplotlib.pyplot as plt\n",
    "import seaborn as sns\n",
    "from tensorflow import keras\n",
    "from sklearn.model_selection import train_test_split\n",
    "%matplotlib inline\n",
    "tf.__version__\n",
    "\n",
    "import os\n",
    "path = os.getcwd()\n",
    "print(path)\n"
   ]
  },
  {
   "cell_type": "markdown",
   "metadata": {},
   "source": [
    "# Prevendo se vai chover na Austrália"
   ]
  },
  {
   "cell_type": "markdown",
   "metadata": {},
   "source": [
    "## Pré processamento dos dados\n",
    "Já definimos uma função basica para lhe ajudar a explorar os dados, você precisara escrever uma função para carregar os dados, uma de pré-processamento e outra para fazer a separação em teste e treino."
   ]
  },
  {
   "cell_type": "code",
   "execution_count": 27,
   "metadata": {},
   "outputs": [],
   "source": [
    "def visualize_data(data):\n",
    "    \"\"\"Gera graficos das distribuicoes das features e salva em disco\"\"\"\n",
    "\n",
    "    ibm_pltt = ['#648FFF', '#785EF0', '#DC267F',\n",
    "                '#FE6100', '#FFB000']  # Paleta colorblind-friendly\n",
    "    plt.figure(figsize=(8, 6))\n",
    "\n",
    "    # RainToday:\n",
    "    sns.set()\n",
    "    sns.set_palette(sns.color_palette([ibm_pltt[2], ibm_pltt[0]]))\n",
    "    sns.countplot(data.RainToday)\n",
    "    plt.xlabel('Choveu Hoje?')\n",
    "    plt.ylabel('Contagem')\n",
    "    plt.title(\"Valores de 'RainToday' para os dados pré-processados\")\n",
    "    plt.savefig('data_RainToday.png')\n",
    "    plt.clf()\n",
    "\n",
    "    # RainTomorrow:\n",
    "    sns.set()\n",
    "    sns.set_palette(sns.color_palette([ibm_pltt[3], ibm_pltt[1]]))\n",
    "    sns.countplot(data.RainTomorrow)\n",
    "    plt.xlabel('Choverá Amanhã?')\n",
    "    plt.ylabel('Contagem')\n",
    "    plt.title(\"Valores de 'RainTomorrow' para os dados pré-processados\")\n",
    "    plt.savefig('data_Rainomorrow.png')\n",
    "    plt.clf()\n",
    "\n",
    "    # Humidity3pm:\n",
    "    sns.set()\n",
    "    sns.distplot(data.Humidity3pm, color=ibm_pltt[0])\n",
    "    plt.xlabel('Umidade às 3PM')\n",
    "    plt.ylabel('Densidade normalizada')\n",
    "    plt.title(\"Distribuição da variável 'Humidity3pm' para os dados pré-processados\")\n",
    "    plt.savefig('data_Humidity3pm.png')\n",
    "    plt.clf()\n",
    "\n",
    "    # Pressure9am:\n",
    "    sns.set()\n",
    "    sns.distplot(data.Pressure9am, color=ibm_pltt[4])\n",
    "    plt.xlabel('Pressão atmosférica às 9AM')\n",
    "    plt.ylabel('Densidade normalizada')\n",
    "    plt.title(\"Distribuição da variável 'Pressure9amm' para os dados pré-processados\")\n",
    "    plt.savefig('data_Pressure9am.png')\n",
    "    plt.clf()\n",
    "\n",
    "    # Rainfall:\n",
    "    sns.set()\n",
    "    sns.distplot(data.Rainfall, color=ibm_pltt[1], bins=500, kde=False)\n",
    "    plt.xlim(0, 10)\n",
    "    plt.xlabel('Pluviosidade')\n",
    "    plt.ylabel('Densidade normalizada')\n",
    "    plt.title(\"Distribuição da variável 'Rainfall' para os dados pré-processados\")\n",
    "    plt.savefig('data_Rainfall.png')\n",
    "    plt.clf()\n",
    "\n",
    "    return\n"
   ]
  },
  {
   "cell_type": "markdown",
   "metadata": {},
   "source": [
    "# <font color='blue'>Questão 3 </font>\n",
    "Complete as funções aqui descritas seguindo a assinatura sugerida\n",
    "\n",
    "Para separar em treino e teste, de uma olhada na função [train_test_split()](https://scikit-learn.org/stable/modules/generated/sklearn.model_selection.train_test_split.html) do Scikit-Learn"
   ]
  },
  {
   "cell_type": "code",
   "execution_count": 32,
   "metadata": {},
   "outputs": [],
   "source": [
    "from sklearn.model_selection import train_test_split\n",
    "\n",
    "def load_data(data_path='data/weatherAUS.csv')-> pd.DataFrame:\n",
    "    \"\"\"Funcao que importa dados de um arquivo csv, usando pandas\"\"\"\n",
    "    raw_data = pd.read_csv(data_path)  \n",
    "    return raw_data\n",
    "\n",
    "def pre_processing(raw_data:pd.DataFrame)-> pd.DataFrame:\n",
    "    \"\"\"Funcao que filtra e limpa os dados meteorologicos para o treinamento\"\"\"\n",
    "    #Seu código aqui\n",
    "#     processed_data = raw_data[['RainToday', 'RainTomorrow', 'Humidity3pm', 'Pressure9am', 'Rainfall']]\n",
    "    processed_data = raw_data[['RainToday', 'RainTomorrow', 'Humidity3pm', 'Pressure9am', 'Rainfall']]\n",
    "    processed_data = processed_data.replace(('Yes', 'No'), (1, 0))\n",
    "\n",
    "    processed_data.dropna(inplace=True)\n",
    "\n",
    "\n",
    "    return processed_data\n",
    "\n",
    "def split_data(data:pd.DataFrame, val_size= 0.2)-> np.array:\n",
    "    \"\"\"Funcao que separa seus dados em teste e treino conforme a proporcao val_size\"\"\"\n",
    "    #Seu código aqui\n",
    "    y_column = 'RainTomorrow'\n",
    "    x_train, x_val, y_train, y_val = train_test_split(\n",
    "        data.drop(columns = [y_column], axis = 1), \n",
    "        data[y_column], \n",
    "        test_size=val_size)\n",
    "    return x_train, x_val, y_train, y_val\n"
   ]
  },
  {
   "cell_type": "code",
   "execution_count": 33,
   "metadata": {},
   "outputs": [
    {
     "data": {
      "text/plain": [
       "<Figure size 576x432 with 0 Axes>"
      ]
     },
     "metadata": {},
     "output_type": "display_data"
    }
   ],
   "source": [
    "# %matplotlib inline\n",
    "df = load_data()\n",
    "visualize_data(df)\n",
    "df = pre_processing(df)\n",
    "x_train, x_val, y_train, y_val = split_data(df,)\n",
    "# len( x_val ) / ( len( x_train ) + len( x_val ) )"
   ]
  },
  {
   "cell_type": "code",
   "execution_count": 35,
   "metadata": {},
   "outputs": [],
   "source": [
    "df = load_data()"
   ]
  },
  {
   "cell_type": "code",
   "execution_count": 37,
   "metadata": {},
   "outputs": [
    {
     "data": {
      "text/html": [
       "<div>\n",
       "<style scoped>\n",
       "    .dataframe tbody tr th:only-of-type {\n",
       "        vertical-align: middle;\n",
       "    }\n",
       "\n",
       "    .dataframe tbody tr th {\n",
       "        vertical-align: top;\n",
       "    }\n",
       "\n",
       "    .dataframe thead th {\n",
       "        text-align: right;\n",
       "    }\n",
       "</style>\n",
       "<table border=\"1\" class=\"dataframe\">\n",
       "  <thead>\n",
       "    <tr style=\"text-align: right;\">\n",
       "      <th></th>\n",
       "      <th>RainToday</th>\n",
       "      <th>RainTomorrow</th>\n",
       "      <th>Humidity3pm</th>\n",
       "      <th>Pressure9am</th>\n",
       "      <th>Rainfall</th>\n",
       "    </tr>\n",
       "  </thead>\n",
       "  <tbody>\n",
       "    <tr>\n",
       "      <th>0</th>\n",
       "      <td>0.0</td>\n",
       "      <td>0</td>\n",
       "      <td>22.0</td>\n",
       "      <td>1007.7</td>\n",
       "      <td>0.6</td>\n",
       "    </tr>\n",
       "    <tr>\n",
       "      <th>1</th>\n",
       "      <td>0.0</td>\n",
       "      <td>0</td>\n",
       "      <td>25.0</td>\n",
       "      <td>1010.6</td>\n",
       "      <td>0.0</td>\n",
       "    </tr>\n",
       "    <tr>\n",
       "      <th>2</th>\n",
       "      <td>0.0</td>\n",
       "      <td>0</td>\n",
       "      <td>30.0</td>\n",
       "      <td>1007.6</td>\n",
       "      <td>0.0</td>\n",
       "    </tr>\n",
       "    <tr>\n",
       "      <th>3</th>\n",
       "      <td>0.0</td>\n",
       "      <td>0</td>\n",
       "      <td>16.0</td>\n",
       "      <td>1017.6</td>\n",
       "      <td>0.0</td>\n",
       "    </tr>\n",
       "    <tr>\n",
       "      <th>4</th>\n",
       "      <td>0.0</td>\n",
       "      <td>0</td>\n",
       "      <td>33.0</td>\n",
       "      <td>1010.8</td>\n",
       "      <td>1.0</td>\n",
       "    </tr>\n",
       "    <tr>\n",
       "      <th>...</th>\n",
       "      <td>...</td>\n",
       "      <td>...</td>\n",
       "      <td>...</td>\n",
       "      <td>...</td>\n",
       "      <td>...</td>\n",
       "    </tr>\n",
       "    <tr>\n",
       "      <th>142188</th>\n",
       "      <td>0.0</td>\n",
       "      <td>0</td>\n",
       "      <td>27.0</td>\n",
       "      <td>1024.7</td>\n",
       "      <td>0.0</td>\n",
       "    </tr>\n",
       "    <tr>\n",
       "      <th>142189</th>\n",
       "      <td>0.0</td>\n",
       "      <td>0</td>\n",
       "      <td>24.0</td>\n",
       "      <td>1024.6</td>\n",
       "      <td>0.0</td>\n",
       "    </tr>\n",
       "    <tr>\n",
       "      <th>142190</th>\n",
       "      <td>0.0</td>\n",
       "      <td>0</td>\n",
       "      <td>21.0</td>\n",
       "      <td>1023.5</td>\n",
       "      <td>0.0</td>\n",
       "    </tr>\n",
       "    <tr>\n",
       "      <th>142191</th>\n",
       "      <td>0.0</td>\n",
       "      <td>0</td>\n",
       "      <td>24.0</td>\n",
       "      <td>1021.0</td>\n",
       "      <td>0.0</td>\n",
       "    </tr>\n",
       "    <tr>\n",
       "      <th>142192</th>\n",
       "      <td>0.0</td>\n",
       "      <td>0</td>\n",
       "      <td>24.0</td>\n",
       "      <td>1019.4</td>\n",
       "      <td>0.0</td>\n",
       "    </tr>\n",
       "  </tbody>\n",
       "</table>\n",
       "<p>124689 rows × 5 columns</p>\n",
       "</div>"
      ],
      "text/plain": [
       "        RainToday  RainTomorrow  Humidity3pm  Pressure9am  Rainfall\n",
       "0             0.0             0         22.0       1007.7       0.6\n",
       "1             0.0             0         25.0       1010.6       0.0\n",
       "2             0.0             0         30.0       1007.6       0.0\n",
       "3             0.0             0         16.0       1017.6       0.0\n",
       "4             0.0             0         33.0       1010.8       1.0\n",
       "...           ...           ...          ...          ...       ...\n",
       "142188        0.0             0         27.0       1024.7       0.0\n",
       "142189        0.0             0         24.0       1024.6       0.0\n",
       "142190        0.0             0         21.0       1023.5       0.0\n",
       "142191        0.0             0         24.0       1021.0       0.0\n",
       "142192        0.0             0         24.0       1019.4       0.0\n",
       "\n",
       "[124689 rows x 5 columns]"
      ]
     },
     "execution_count": 37,
     "metadata": {},
     "output_type": "execute_result"
    }
   ],
   "source": [
    "pre = df[['RainToday', 'RainTomorrow', 'Humidity3pm', 'Pressure9am', 'Rainfall']]\n",
    "pre = pre.replace(('Yes', 'No'), (1, 0))\n",
    "\n",
    "pre.dropna(inplace=True)\n",
    "\n",
    "# visualize_data(pre)\n",
    "pre\n"
   ]
  },
  {
   "cell_type": "code",
   "execution_count": null,
   "metadata": {},
   "outputs": [],
   "source": []
  }
 ],
 "metadata": {
  "kernelspec": {
   "display_name": "Python 3",
   "language": "python",
   "name": "python3"
  },
  "language_info": {
   "codemirror_mode": {
    "name": "ipython",
    "version": 3
   },
   "file_extension": ".py",
   "mimetype": "text/x-python",
   "name": "python",
   "nbconvert_exporter": "python",
   "pygments_lexer": "ipython3",
   "version": "3.8.2"
  }
 },
 "nbformat": 4,
 "nbformat_minor": 4
}
