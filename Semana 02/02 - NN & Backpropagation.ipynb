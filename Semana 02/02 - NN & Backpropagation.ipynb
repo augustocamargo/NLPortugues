{
 "cells": [
  {
   "cell_type": "markdown",
   "metadata": {},
   "source": [
    "<img src=\"https://raw.githubusercontent.com/alan-barzilay/NLPortugues/master/imagens/logo_nlportugues.png\"  style=\"height:65%\" align=\"right\">\n",
    "\n",
    "\n",
    "# Lista 2 - NN & Backpropagation\n",
    "**Nome:**\n",
    "\n",
    "**Numero Usp:**\n",
    "\n",
    "\n",
    "_________________________________________\n",
    "\n",
    "Antes de começar o exercício,  não se esqueça de instalar todos os pacotes necessários para a sua execução.  "
   ]
  },
  {
   "cell_type": "code",
   "execution_count": 860,
   "metadata": {},
   "outputs": [
    {
     "data": {
      "text/plain": [
       "'2.3.0'"
      ]
     },
     "execution_count": 860,
     "metadata": {},
     "output_type": "execute_result"
    }
   ],
   "source": [
    "import tensorflow as tf\n",
    "import tensorflow_addons as tfa\n",
    "import pandas as pd\n",
    "import numpy as np\n",
    "import matplotlib.pyplot as plt\n",
    "import seaborn as sns\n",
    "from tensorflow import keras\n",
    "from tensorflow.python.keras.layers import LeakyReLU\n",
    "from sklearn.model_selection import train_test_split\n",
    "from tqdm import tqdm, tqdm_notebook\n",
    "%matplotlib inline\n",
    "tf.__version__"
   ]
  },
  {
   "cell_type": "markdown",
   "metadata": {},
   "source": [
    "## Perceptron\n",
    "\n",
    "O perceptron é uma \"rede neural\" de um só neurônio.  No nosso caso, temos a rede mais simpes possível, com uma só entrada e uma só saída, sem ativação.\n",
    "\n",
    "Temos 100 dados que serão usados para treinar 300 épocas do percéptron.\n",
    "\n",
    "Vamos utilizar o modelo perceptron para aprender uma simples regressão linear, o objetivo é faze-lo aprender uma simples equação linear e tambem se acostumar com a sintaxe e funcionamento do TensorFlow\n"
   ]
  },
  {
   "cell_type": "code",
   "execution_count": 861,
   "metadata": {},
   "outputs": [],
   "source": [
    "def f1(x):\n",
    "    '''\n",
    "    Funcao a ser aprendida\n",
    "    '''\n",
    "    return 5 + 10*x"
   ]
  },
  {
   "cell_type": "code",
   "execution_count": 862,
   "metadata": {},
   "outputs": [
    {
     "name": "stdout",
     "output_type": "stream",
     "text": [
      "100 xs= [ 0.          0.1010101   0.2020202   0.3030303   0.4040404   0.50505051\n",
      "  0.60606061  0.70707071  0.80808081  0.90909091  1.01010101  1.11111111\n",
      "  1.21212121  1.31313131  1.41414141  1.51515152  1.61616162  1.71717172\n",
      "  1.81818182  1.91919192  2.02020202  2.12121212  2.22222222  2.32323232\n",
      "  2.42424242  2.52525253  2.62626263  2.72727273  2.82828283  2.92929293\n",
      "  3.03030303  3.13131313  3.23232323  3.33333333  3.43434343  3.53535354\n",
      "  3.63636364  3.73737374  3.83838384  3.93939394  4.04040404  4.14141414\n",
      "  4.24242424  4.34343434  4.44444444  4.54545455  4.64646465  4.74747475\n",
      "  4.84848485  4.94949495  5.05050505  5.15151515  5.25252525  5.35353535\n",
      "  5.45454545  5.55555556  5.65656566  5.75757576  5.85858586  5.95959596\n",
      "  6.06060606  6.16161616  6.26262626  6.36363636  6.46464646  6.56565657\n",
      "  6.66666667  6.76767677  6.86868687  6.96969697  7.07070707  7.17171717\n",
      "  7.27272727  7.37373737  7.47474747  7.57575758  7.67676768  7.77777778\n",
      "  7.87878788  7.97979798  8.08080808  8.18181818  8.28282828  8.38383838\n",
      "  8.48484848  8.58585859  8.68686869  8.78787879  8.88888889  8.98989899\n",
      "  9.09090909  9.19191919  9.29292929  9.39393939  9.49494949  9.5959596\n",
      "  9.6969697   9.7979798   9.8989899  10.        ]\n",
      "100 ys= [  5.           6.01010101   7.02020202   8.03030303   9.04040404\n",
      "  10.05050505  11.06060606  12.07070707  13.08080808  14.09090909\n",
      "  15.1010101   16.11111111  17.12121212  18.13131313  19.14141414\n",
      "  20.15151515  21.16161616  22.17171717  23.18181818  24.19191919\n",
      "  25.2020202   26.21212121  27.22222222  28.23232323  29.24242424\n",
      "  30.25252525  31.26262626  32.27272727  33.28282828  34.29292929\n",
      "  35.3030303   36.31313131  37.32323232  38.33333333  39.34343434\n",
      "  40.35353535  41.36363636  42.37373737  43.38383838  44.39393939\n",
      "  45.4040404   46.41414141  47.42424242  48.43434343  49.44444444\n",
      "  50.45454545  51.46464646  52.47474747  53.48484848  54.49494949\n",
      "  55.50505051  56.51515152  57.52525253  58.53535354  59.54545455\n",
      "  60.55555556  61.56565657  62.57575758  63.58585859  64.5959596\n",
      "  65.60606061  66.61616162  67.62626263  68.63636364  69.64646465\n",
      "  70.65656566  71.66666667  72.67676768  73.68686869  74.6969697\n",
      "  75.70707071  76.71717172  77.72727273  78.73737374  79.74747475\n",
      "  80.75757576  81.76767677  82.77777778  83.78787879  84.7979798\n",
      "  85.80808081  86.81818182  87.82828283  88.83838384  89.84848485\n",
      "  90.85858586  91.86868687  92.87878788  93.88888889  94.8989899\n",
      "  95.90909091  96.91919192  97.92929293  98.93939394  99.94949495\n",
      " 100.95959596 101.96969697 102.97979798 103.98989899 105.        ]\n"
     ]
    }
   ],
   "source": [
    "xs = np.linspace(0,10,100)  # gera 100 valores no intervalo [0.10]\n",
    "ys = f1(xs)                 # computa o valor de f1 nestes 100 valores\n",
    "print(len(xs), \"xs=\", xs)\n",
    "print(len(ys), \"ys=\", ys)\n"
   ]
  },
  {
   "cell_type": "code",
   "execution_count": 863,
   "metadata": {
    "scrolled": true
   },
   "outputs": [],
   "source": [
    "#Definindo, compilando e treinando nosso modelo\n",
    "model = tf.keras.Sequential([\n",
    "    keras.Input(shape=(1,)),\n",
    "    keras.layers.Dense(units=1),\n",
    "])\n",
    "\n",
    "model.compile(optimizer=\"sgd\", loss=\"mean_squared_error\")\n",
    "# model.fit(xs,ys,epochs=300)"
   ]
  },
  {
   "cell_type": "code",
   "execution_count": 864,
   "metadata": {},
   "outputs": [
    {
     "name": "stdout",
     "output_type": "stream",
     "text": [
      "Model: \"sequential_86\"\n",
      "_________________________________________________________________\n",
      "Layer (type)                 Output Shape              Param #   \n",
      "=================================================================\n",
      "dense_231 (Dense)            (None, 1)                 2         \n",
      "=================================================================\n",
      "Total params: 2\n",
      "Trainable params: 2\n",
      "Non-trainable params: 0\n",
      "_________________________________________________________________\n"
     ]
    }
   ],
   "source": [
    "model.summary()"
   ]
  },
  {
   "cell_type": "code",
   "execution_count": 865,
   "metadata": {},
   "outputs": [
    {
     "name": "stdout",
     "output_type": "stream",
     "text": [
      "prediction: [[-23.682583]]      real value: 175\n"
     ]
    }
   ],
   "source": [
    "print(\"prediction: \"+ str(model.predict([17]))+\"      real value: \" + str(f1(17)))"
   ]
  },
  {
   "cell_type": "code",
   "execution_count": 866,
   "metadata": {},
   "outputs": [
    {
     "name": "stdout",
     "output_type": "stream",
     "text": [
      "2/2 [==============================] - 0s 762us/step - loss: 4956.3003\n"
     ]
    },
    {
     "data": {
      "text/plain": [
       "4956.30029296875"
      ]
     },
     "execution_count": 866,
     "metadata": {},
     "output_type": "execute_result"
    }
   ],
   "source": [
    "val = np.linspace(0,10,63)\n",
    "model.evaluate(x=val, y=f1(val))"
   ]
  },
  {
   "cell_type": "markdown",
   "metadata": {},
   "source": [
    "A função `evaluate` retorna o \"custo\" (loss) da avaliação, definido na compilação.  Nesse caso, o valor reportado é o erro quadrático médio (MSE). "
   ]
  },
  {
   "cell_type": "markdown",
   "metadata": {},
   "source": [
    "## Aprendendo uma função não linear"
   ]
  },
  {
   "cell_type": "code",
   "execution_count": 867,
   "metadata": {},
   "outputs": [],
   "source": [
    "def f2(x):\n",
    "    '''\n",
    "    Funcao não linear a ser aprendida\n",
    "    '''\n",
    "    #return (x*2 + x*3 + 4)\n",
    "    return (x**2 + x*3 + 4)/200"
   ]
  },
  {
   "cell_type": "code",
   "execution_count": 868,
   "metadata": {},
   "outputs": [],
   "source": [
    "x = np.linspace(0,10,100)\n",
    "y = f2(x)"
   ]
  },
  {
   "cell_type": "markdown",
   "metadata": {},
   "source": [
    "# <font color='blue'>Questão 1 </font>\n",
    "Defina as camadas para esta rede neural e treine seu modelo, note que a saída unitária _não deve_ ter função de ativação (por que?)."
   ]
  },
  {
   "cell_type": "code",
   "execution_count": 869,
   "metadata": {},
   "outputs": [],
   "source": [
    "# A saída unitária não deve ter função de ativação pq não iremos normalizar os dados de saída."
   ]
  },
  {
   "cell_type": "code",
   "execution_count": null,
   "metadata": {},
   "outputs": [],
   "source": []
  },
  {
   "cell_type": "code",
   "execution_count": 870,
   "metadata": {},
   "outputs": [
    {
     "name": "stderr",
     "output_type": "stream",
     "text": [
      "100%|██████████| 400/400 [00:01<00:00, 386.35it/s]\n"
     ]
    }
   ],
   "source": [
    "with tqdm(total=400) as pbar:\n",
    "    \n",
    "    #create model\n",
    "    model = tf.keras.Sequential([    \n",
    "        keras.Input(shape=(1,)),\n",
    "        keras.layers.Dense(units=32,activation=\"tanh\"),\n",
    "        keras.layers.Dense(units=16,activation=\"tanh\"),\n",
    "        keras.layers.Dense(units=8,activation=\"tanh\"),\n",
    "        keras.layers.Dense(units=1),\n",
    "    ])\n",
    "\n",
    "    \n",
    "    \n",
    "    #compile model\n",
    "    model.compile(optimizer=\"adam\", loss=\"mean_squared_error\")     \n",
    "    \n",
    "    # initialize tqdm callback with default parameters\n",
    "    class ctqdm_callback(keras.callbacks.Callback):\n",
    "        def on_epoch_end(a,b,c):\n",
    "             pbar.update()            \n",
    "    tqdm_callback = ctqdm_callback()\n",
    "\n",
    "    #fit model\n",
    "    history = model.fit(x,y,epochs=400,verbose=0,callbacks=[tqdm_callback])\n",
    "\n",
    "    # list all data in history\n",
    "    #    print(history.history.keys())\n",
    "    "
   ]
  },
  {
   "cell_type": "code",
   "execution_count": 871,
   "metadata": {},
   "outputs": [
    {
     "name": "stdout",
     "output_type": "stream",
     "text": [
      "Model: \"sequential_87\"\n",
      "_________________________________________________________________\n",
      "Layer (type)                 Output Shape              Param #   \n",
      "=================================================================\n",
      "dense_232 (Dense)            (None, 32)                64        \n",
      "_________________________________________________________________\n",
      "dense_233 (Dense)            (None, 16)                528       \n",
      "_________________________________________________________________\n",
      "dense_234 (Dense)            (None, 8)                 136       \n",
      "_________________________________________________________________\n",
      "dense_235 (Dense)            (None, 1)                 9         \n",
      "=================================================================\n",
      "Total params: 737\n",
      "Trainable params: 737\n",
      "Non-trainable params: 0\n",
      "_________________________________________________________________\n"
     ]
    }
   ],
   "source": [
    "model.summary()"
   ]
  },
  {
   "cell_type": "code",
   "execution_count": 872,
   "metadata": {},
   "outputs": [
    {
     "data": {
      "image/png": "[encoded data removed]",
      "text/plain": [
       "<Figure size 432x288 with 1 Axes>"
      ]
     },
     "metadata": {
      "needs_background": "light"
     },
     "output_type": "display_data"
    }
   ],
   "source": [
    "# summarize history for loss\n",
    "plt.plot(history.history['loss'])\n",
    "plt.title('model loss')\n",
    "plt.ylabel('loss')\n",
    "plt.xlabel('epoch')\n",
    "plt.legend(['train'], loc='upper left')\n",
    "plt.show()"
   ]
  },
  {
   "cell_type": "code",
   "execution_count": null,
   "metadata": {},
   "outputs": [],
   "source": []
  },
  {
   "cell_type": "code",
   "execution_count": 873,
   "metadata": {},
   "outputs": [],
   "source": [
    "x_val_tensor =  tf.convert_to_tensor(x_val)"
   ]
  },
  {
   "cell_type": "code",
   "execution_count": 874,
   "metadata": {},
   "outputs": [
    {
     "name": "stdout",
     "output_type": "stream",
     "text": [
      "2/2 [==============================] - 0s 867us/step - loss: 1.5250e-05\n"
     ]
    },
    {
     "data": {
      "text/plain": [
       "1.52504271682119e-05"
      ]
     },
     "execution_count": 874,
     "metadata": {},
     "output_type": "execute_result"
    }
   ],
   "source": [
    "model.evaluate(x=x_val_tensor,y=y_val)"
   ]
  },
  {
   "cell_type": "code",
   "execution_count": null,
   "metadata": {},
   "outputs": [],
   "source": [
    "\n",
    "    "
   ]
  },
  {
   "cell_type": "markdown",
   "metadata": {},
   "source": [
    "____________________________\n",
    "# <font color='blue'>Questão 2 </font>\n",
    "\n",
    "\n",
    "\n",
    "O que acontece se você muda as funções de ativação? Teste algumas diferentes e descreva seus resultados, em especial a tangente hiperbolica\n",
    "\n"
   ]
  },
  {
   "cell_type": "markdown",
   "metadata": {},
   "source": [
    "\n",
    "**<font color='red'> Sua resposta aqui </font>**"
   ]
  },
  {
   "cell_type": "markdown",
   "metadata": {},
   "source": [
    "\n",
    "O que acontece se você mudar a função de otimização? Teste diferentes funções e descreva seus resultados, em especial as funções SDG e RMSprop\n"
   ]
  },
  {
   "cell_type": "markdown",
   "metadata": {},
   "source": [
    "Volte a primeira parte desse notebook e troque a função de ativação da rede de uma camada (pérceptron) de sdg para adam, o que acontece?\n",
    "\n"
   ]
  },
  {
   "cell_type": "markdown",
   "metadata": {},
   "source": [
    "\n",
    "**<font color='red'> Sua resposta aqui </font>**"
   ]
  },
  {
   "cell_type": "markdown",
   "metadata": {},
   "source": [
    "A avaliação de performance que realizamos foi apenas para pontos contidos no mesmo intervalo que o conjunto de treino, ou seja, foi apenas uma interpolação. Sem alterar sua rede repita o teste realizando uma extrapolação, com pontos fora do intervalo [0;10] e descreva seus resultados. O que aconteceu com a performance?"
   ]
  },
  {
   "cell_type": "code",
   "execution_count": 891,
   "metadata": {},
   "outputs": [
    {
     "name": "stdout",
     "output_type": "stream",
     "text": [
      "2/2 [==============================] - 0s 960us/step - loss: 1.5250e-05\n",
      "\n",
      "fx\n",
      "[5.051e+01 4.951e+01 4.852e+01 4.754e+01 4.657e+01 4.561e+01 4.466e+01\n",
      " 4.372e+01 4.279e+01 4.187e+01 4.096e+01 4.006e+01 3.917e+01 3.829e+01\n",
      " 3.742e+01 3.656e+01 3.571e+01 3.487e+01 3.404e+01 3.322e+01 3.241e+01\n",
      " 3.161e+01 3.082e+01 3.004e+01 2.927e+01 2.851e+01 2.776e+01 2.702e+01\n",
      " 2.629e+01 2.557e+01 2.486e+01 2.416e+01 2.347e+01 2.279e+01 2.212e+01\n",
      " 2.146e+01 2.081e+01 2.017e+01 1.954e+01 1.892e+01 1.831e+01 1.771e+01\n",
      " 1.712e+01 1.654e+01 1.597e+01 1.541e+01 1.486e+01 1.432e+01 1.379e+01\n",
      " 1.327e+01 1.276e+01 1.226e+01 1.177e+01 1.129e+01 1.082e+01 1.036e+01\n",
      " 9.910e+00 9.470e+00 9.040e+00 8.620e+00 8.210e+00 7.810e+00 7.420e+00\n",
      " 7.040e+00 6.670e+00 6.310e+00 5.960e+00 5.620e+00 5.290e+00 4.970e+00\n",
      " 4.660e+00 4.360e+00 4.070e+00 3.790e+00 3.520e+00 3.260e+00 3.010e+00\n",
      " 2.770e+00 2.540e+00 2.320e+00 2.110e+00 1.910e+00 1.720e+00 1.540e+00\n",
      " 1.370e+00 1.210e+00 1.060e+00 9.200e-01 7.900e-01 6.700e-01 5.600e-01\n",
      " 4.600e-01 3.700e-01 2.900e-01 2.200e-01 1.600e-01 1.100e-01 7.000e-02\n",
      " 4.000e-02 2.000e-02 1.000e-02 1.000e-02 2.000e-02 4.000e-02 7.000e-02\n",
      " 1.100e-01 1.600e-01 2.200e-01 2.900e-01 3.700e-01 4.600e-01 5.600e-01\n",
      " 6.700e-01 7.900e-01 9.200e-01 1.060e+00 1.210e+00 1.370e+00 1.540e+00\n",
      " 1.720e+00 1.910e+00 2.110e+00 2.320e+00 2.540e+00 2.770e+00 3.010e+00\n",
      " 3.260e+00 3.520e+00 3.790e+00 4.070e+00 4.360e+00 4.660e+00 4.970e+00\n",
      " 5.290e+00 5.620e+00 5.960e+00 6.310e+00 6.670e+00 7.040e+00 7.420e+00\n",
      " 7.810e+00 8.210e+00 8.620e+00 9.040e+00 9.470e+00 9.910e+00 1.036e+01\n",
      " 1.082e+01 1.129e+01 1.177e+01 1.226e+01 1.276e+01 1.327e+01 1.379e+01\n",
      " 1.432e+01 1.486e+01 1.541e+01 1.597e+01 1.654e+01 1.712e+01 1.771e+01\n",
      " 1.831e+01 1.892e+01 1.954e+01 2.017e+01 2.081e+01 2.146e+01 2.212e+01\n",
      " 2.279e+01 2.347e+01 2.416e+01 2.486e+01 2.557e+01 2.629e+01 2.702e+01\n",
      " 2.776e+01 2.851e+01 2.927e+01 3.004e+01 3.082e+01 3.161e+01 3.241e+01\n",
      " 3.322e+01 3.404e+01 3.487e+01 3.571e+01 3.656e+01 3.742e+01 3.829e+01\n",
      " 3.917e+01 4.006e+01 4.096e+01 4.187e+01 4.279e+01 4.372e+01 4.466e+01\n",
      " 4.561e+01 4.657e+01 4.754e+01 4.852e+01]\n",
      "\n",
      "pred\n",
      "[ 1.5248096   1.52394462  1.52305841  1.52215123  1.52122188  1.52027023\n",
      "  1.51929545  1.51829767  1.51727581  1.51622975  1.51515877  1.51406252\n",
      "  1.51294029  1.51179183  1.51061642  1.50941372  1.508183    1.50692356\n",
      "  1.50563526  1.50431728  1.50296903  1.50159013  1.50017977  1.49873734\n",
      "  1.497262    1.49575365  1.49421108  1.49263406  1.49102163  1.48937309\n",
      "  1.48768771  1.48596478  1.48420322  1.48240256  1.48056126  1.47867906\n",
      "  1.47675443  1.47478628  1.47277367  1.47071505  1.46860886  1.46645379\n",
      "  1.46424806  1.4619894   1.45967615  1.45730543  1.45487475  1.45238113\n",
      "  1.44982076  1.44718993  1.444484    1.44169831  1.43882608  1.43586111\n",
      "  1.43279505  1.42961943  1.42632318  1.4228946   1.41931903  1.41558039\n",
      "  1.41165924  1.40753305  1.40317583  1.39855647  1.39363885  1.38838065\n",
      "  1.3827312   1.37663174  1.37001216  1.36278915  1.3548646   1.34612095\n",
      "  1.33641815  1.32558966  1.31343508  1.29971468  1.28414154  1.26637113\n",
      "  1.24599016  1.222507    1.1953373   1.16379714  1.12709844  1.08436084\n",
      "  1.03464842  0.97704858  0.91081417  0.8355872   0.75169694  0.66048491\n",
      "  0.56453854  0.46767694  0.37457457  0.29002979  0.21792644  0.15981184\n",
      "  0.11316423  0.07183258  0.03656778  0.02494963  0.01511694 -0.03229347\n",
      " -0.09779677 -0.17011011 -0.25058109 -0.33966973 -0.43496007 -0.53254998\n",
      " -0.62838423 -0.7190901  -0.80237699 -0.87706876 -0.94290656 -1.00026011\n",
      " -1.04986107 -1.09259474 -1.12937021 -1.16104341 -1.18838334 -1.21205997\n",
      " -1.23264563 -1.25062513 -1.2664057  -1.28032792 -1.29267693 -1.30369067\n",
      " -1.31356835 -1.32247663 -1.33055556 -1.33792233 -1.34467626 -1.35090017\n",
      " -1.35666513 -1.36203063 -1.36704731 -1.37175846 -1.37620068 -1.38040459\n",
      " -1.38439798 -1.38820291 -1.3918395  -1.39532447 -1.39867234 -1.40189528\n",
      " -1.40500426 -1.40800881 -1.41091681 -1.41373563 -1.41647089 -1.41912842\n",
      " -1.42171264 -1.4242276  -1.42667735 -1.42906463 -1.43139279 -1.43366385\n",
      " -1.43588066 -1.43804455 -1.44015825 -1.44222236 -1.4442395  -1.44621062\n",
      " -1.44813681 -1.45001948 -1.45185971 -1.45365846 -1.45541692 -1.4571358\n",
      " -1.45881641 -1.46045923 -1.46206498 -1.46363473 -1.46516931 -1.46666884\n",
      " -1.46813452 -1.46956718 -1.47096694 -1.47233498 -1.47367156 -1.47497749\n",
      " -1.47625351 -1.47749996 -1.47871745 -1.4799068  -1.48106837 -1.48220277\n",
      " -1.4833107  -1.48439217 -1.48544836 -1.48647964 -1.48748624 -1.488469\n",
      " -1.48942804 -1.49036431 -1.49127817 -1.49216974 -1.49303973 -1.49388909\n",
      " -1.49471748 -1.49552584]\n",
      "\n",
      "variacao%\n",
      "[ 9.69811728e+01  9.50030794e+01  9.30448259e+01  9.11064121e+01\n",
      "  8.91878403e+01  8.72891106e+01  8.54102248e+01  8.35511826e+01\n",
      "  8.17119861e+01  7.98926356e+01  7.80931325e+01  7.63134775e+01\n",
      "  7.45536720e+01  7.28137164e+01  7.10936123e+01  6.93933603e+01\n",
      "  6.77129618e+01  6.60524182e+01  6.44117298e+01  6.27908983e+01\n",
      "  6.11899247e+01  5.96088099e+01  5.80475554e+01  5.65061625e+01\n",
      "  5.49846327e+01  5.34829665e+01  5.20011660e+01  5.05392317e+01\n",
      "  4.90971656e+01  4.76749691e+01  4.62726436e+01  4.48901905e+01\n",
      "  4.35276119e+01  4.21849088e+01  4.08620842e+01  3.95591387e+01\n",
      "  3.82760752e+01  3.70128959e+01  3.57696027e+01  3.45461987e+01\n",
      "  3.33426869e+01  3.21590699e+01  3.09953513e+01  2.98515355e+01\n",
      "  2.87276259e+01  2.76236281e+01  2.65395471e+01  2.54753888e+01\n",
      "  2.44311606e+01  2.34068701e+01  2.24025262e+01  2.14181384e+01\n",
      "  2.04537199e+01  1.95092831e+01  1.85848445e+01  1.76804208e+01\n",
      "  1.67960341e+01  1.59317074e+01  1.50874697e+01  1.42633530e+01\n",
      "  1.34593957e+01  1.26756423e+01  1.19121445e+01  1.11689636e+01\n",
      "  1.04461714e+01  9.74385142e+00  9.06210414e+00  8.40104586e+00\n",
      "  7.76081536e+00  7.14157760e+00  6.54352683e+00  5.96689576e+00\n",
      "  5.41196169e+00  4.87905433e+00  4.36857043e+00  3.88098459e+00\n",
      "  3.41686490e+00  2.97689343e+00  2.56188842e+00  2.17282320e+00\n",
      "  1.81085469e+00  1.47733688e+00  1.17383005e+00  9.02077137e-01\n",
      "  6.63931066e-01  4.61198622e-01  2.95359006e-01  1.67120959e-01\n",
      "  7.58326188e-02  1.88380321e-02 -8.98542557e-03 -1.51988469e-02\n",
      " -9.05676470e-03 -5.89862953e-05  4.10524129e-03  3.72521359e-04\n",
      " -6.26456381e-03 -3.62815750e-03  6.79512008e-03 -9.79931219e-03\n",
      " -1.01305452e-02  8.37328622e-02  2.33214745e-01  4.15977245e-01\n",
      "  6.34688350e-01  8.90258828e-01  1.17790550e+00  1.48990294e+00\n",
      "  1.81822259e+00  2.15618710e+00  2.49926150e+00  2.84511732e+00\n",
      "  3.19324205e+00  3.54436768e+00  3.89994273e+00  4.26171994e+00\n",
      "  4.63149913e+00  5.01097487e+00  5.40166965e+00  5.80490987e+00\n",
      "  6.22182861e+00  6.65338573e+00  7.10038745e+00  7.56350805e+00\n",
      "  8.04331207e+00  8.54027058e+00  9.05477797e+00  9.58716418e+00\n",
      "  1.01377065e+01  1.07066370e+01  1.12941522e+01  1.19004161e+01\n",
      "  1.25255695e+01  1.31697300e+01  1.38329980e+01  1.45154592e+01\n",
      "  1.52171861e+01  1.59382391e+01  1.66786735e+01  1.74385328e+01\n",
      "  1.82178569e+01  1.90166788e+01  1.98350274e+01  2.06729267e+01\n",
      "  2.15303985e+01  2.24074615e+01  2.33041315e+01  2.42204229e+01\n",
      "  2.51563470e+01  2.61119153e+01  2.70871365e+01  2.80820186e+01\n",
      "  2.90965697e+01  3.01307952e+01  3.11847016e+01  3.22582931e+01\n",
      "  3.33515753e+01  3.44645507e+01  3.55972248e+01  3.67495988e+01\n",
      "  3.79216779e+01  3.91134639e+01  4.03249590e+01  4.15561661e+01\n",
      "  4.28070871e+01  4.40777241e+01  4.53680794e+01  4.66781544e+01\n",
      "  4.80079517e+01  4.93574722e+01  5.07267174e+01  5.21156894e+01\n",
      "  5.35243898e+01  5.49528189e+01  5.64009791e+01  5.78688719e+01\n",
      "  5.93564976e+01  6.08638586e+01  6.23909554e+01  6.39377895e+01\n",
      "  6.55043625e+01  6.70906750e+01  6.86967283e+01  7.03225239e+01\n",
      "  7.19680625e+01  7.36333454e+01  7.53183740e+01  7.70231482e+01\n",
      "  7.87476705e+01  8.04919415e+01  8.22559617e+01  8.40397327e+01\n",
      "  8.58432549e+01  8.76665300e+01  8.95095588e+01  9.13723416e+01\n",
      "  9.32548797e+01  9.51571750e+01  9.70792268e+01  9.90210371e+01]\n",
      "\n",
      "err std\n",
      "14.915569486358018\n",
      "\n",
      "err avg\n",
      "16.678411202761346\n",
      "\n",
      "err cv%\n",
      "89.43039780604843\n"
     ]
    },
    {
     "data": {
      "image/png": "[encoded data removed]",
      "text/plain": [
       "<Figure size 1080x1440 with 1 Axes>"
      ]
     },
     "metadata": {
      "needs_background": "light"
     },
     "output_type": "display_data"
    }
   ],
   "source": [
    "model.evaluate(x=x_val_tensor,y=y_val)\n",
    "\n",
    "# Exeperimentos feitos com pontos [-100,100] com o código abaixo e com 3 funções de ativação mostraram que resultados das predições tentando extraploar os dados\n",
    "# foram péssimos. Vide gráfico acima.\n",
    "f_= np.array([])\n",
    "p =  np.array([])\n",
    "result=[]\n",
    "for i in range(-100,100):\n",
    "    pred = model.predict([i])[0][0]\n",
    "    f= f2(i)\n",
    "    f_ = np.insert(f_,0,f)\n",
    "    p = np.insert(p,0,pred)\n",
    "    er = (f-pred)/f*100\n",
    "    result.append(f-pred)\n",
    "    #print(np.mean(result))\n",
    "    #print(np.std(result))\n",
    "    std=np.std(result)\n",
    "    avg=np.mean(result)\n",
    "    #print(\"avg:\" + str(avg))\n",
    "    #print(\"cv:\" + str(std/avg*100))\n",
    "    #print(\"i:\" +str(i) + \" f: \" + str(f) + \" pred: \" + str(pred)+ \" err: \" + str(round(er,2)) + \"%\")\n",
    "z=(f_-p)/f*100\n",
    "z_=(f_-p)\n",
    "print('\\nfx')\n",
    "print(f_)\n",
    "print('\\npred')\n",
    "print(p)\n",
    "print('\\nvariacao%')\n",
    "print(z)\n",
    "print('\\nerr std')\n",
    "print(np.std(z_))\n",
    "print('\\nerr avg')\n",
    "print(np.mean(z_))\n",
    "print('\\nerr cv%')\n",
    "print(np.std(z_)/np.mean(z_)*100)\n",
    "line, = plt.plot(f_, label='f(x)')\n",
    "plt.legend()\n",
    "line, = plt.plot(p,label='prediction')\n",
    "plt.legend()\n",
    "plt.rcParams[\"figure.figsize\"] = (15,20)\n",
    "plt.show()\n"
   ]
  },
  {
   "cell_type": "markdown",
   "metadata": {},
   "source": [
    "\n",
    "**<font color='red'> Sua resposta aqui </font>**"
   ]
  },
  {
   "cell_type": "markdown",
   "metadata": {},
   "source": [
    "# Prevendo se vai chover na Austrália"
   ]
  },
  {
   "cell_type": "markdown",
   "metadata": {},
   "source": [
    "## Pré processamento dos dados\n",
    "Já definimos uma função basica para lhe ajudar a explorar os dados, você precisara escrever uma função para carregar os dados, uma de pré-processamento e outra para fazer a separação em teste e treino."
   ]
  },
  {
   "cell_type": "code",
   "execution_count": 876,
   "metadata": {},
   "outputs": [],
   "source": [
    "def visualize_data(data):\n",
    "    \"\"\"Gera graficos das distribuicoes das features e salva em disco\"\"\"\n",
    "\n",
    "    ibm_pltt = ['#648FFF', '#785EF0', '#DC267F',\n",
    "                '#FE6100', '#FFB000']  # Paleta colorblind-friendly\n",
    "    plt.figure(figsize=(8, 6))\n",
    "\n",
    "    # RainToday:\n",
    "    sns.set()\n",
    "    sns.set_palette(sns.color_palette([ibm_pltt[2], ibm_pltt[0]]))\n",
    "    sns.countplot(data.RainToday)\n",
    "    plt.xlabel('Choveu Hoje?')\n",
    "    plt.ylabel('Contagem')\n",
    "    plt.title(\"Valores de 'RainToday' para os dados pré-processados\")\n",
    "    plt.savefig('data_RainToday.png')\n",
    "    plt.clf()\n",
    "\n",
    "    # RainTomorrow:\n",
    "    sns.set()\n",
    "    sns.set_palette(sns.color_palette([ibm_pltt[3], ibm_pltt[1]]))\n",
    "    sns.countplot(data.RainTomorrow)\n",
    "    plt.xlabel('Choverá Amanhã?')\n",
    "    plt.ylabel('Contagem')\n",
    "    plt.title(\"Valores de 'RainTomorrow' para os dados pré-processados\")\n",
    "    plt.savefig('data_Rainomorrow.png')\n",
    "    plt.clf()\n",
    "\n",
    "    # Humidity3pm:\n",
    "    sns.set()\n",
    "    sns.distplot(data.Humidity3pm, color=ibm_pltt[0])\n",
    "    plt.xlabel('Umidade às 3PM')\n",
    "    plt.ylabel('Densidade normalizada')\n",
    "    plt.title(\"Distribuição da variável 'Humidity3pm' para os dados pré-processados\")\n",
    "    plt.savefig('data_Humidity3pm.png')\n",
    "    plt.clf()\n",
    "\n",
    "    # Pressure9am:\n",
    "    sns.set()\n",
    "    sns.distplot(data.Pressure9am, color=ibm_pltt[4])\n",
    "    plt.xlabel('Pressão atmosférica às 9AM')\n",
    "    plt.ylabel('Densidade normalizada')\n",
    "    plt.title(\"Distribuição da variável 'Pressure9amm' para os dados pré-processados\")\n",
    "    plt.savefig('data_Pressure9am.png')\n",
    "    plt.clf()\n",
    "\n",
    "    # Rainfall:\n",
    "    sns.set()\n",
    "    sns.distplot(data.Rainfall, color=ibm_pltt[1], bins=500, kde=False)\n",
    "    plt.xlim(0, 10)\n",
    "    plt.xlabel('Pluviosidade')\n",
    "    plt.ylabel('Densidade normalizada')\n",
    "    plt.title(\"Distribuição da variável 'Rainfall' para os dados pré-processados\")\n",
    "    plt.savefig('data_Rainfall.png')\n",
    "    plt.clf()\n",
    "\n",
    "    return\n"
   ]
  },
  {
   "cell_type": "markdown",
   "metadata": {},
   "source": [
    "# <font color='blue'>Questão 3 </font>\n",
    "Complete as funções aqui descritas seguindo a assinatura sugerida\n",
    "\n",
    "Para separar em treino e teste, de uma olhada na função [train_test_split()](https://scikit-learn.org/stable/modules/generated/sklearn.model_selection.train_test_split.html) do Scikit-Learn"
   ]
  },
  {
   "cell_type": "code",
   "execution_count": 877,
   "metadata": {},
   "outputs": [],
   "source": [
    "def load_data(data_path='data/weatherAUS.csv')-> pd.DataFrame:\n",
    "    \"\"\"Funcao que importa dados de um arquivo csv, usando pandas\"\"\"\n",
    "    #Seu código aqui\n",
    "\n",
    "    return raw_data\n",
    "\n",
    "def pre_processing(raw_data:pd.DataFrame)-> pd.DataFrame:\n",
    "    \"\"\"Funcao que filtra e limpa os dados meteorologicos para o treinamento\"\"\"\n",
    "    #Seu código aqui\n",
    "    \n",
    "\n",
    "    return processed_data\n",
    "\n",
    "\n",
    "def split_data(data:pd.DataFrame, val_size= 0.2)-> np.array:\n",
    "    \"\"\"Funcao que separa seus dados em teste e treino conforme a proporcao val_size\"\"\"\n",
    "    #Seu código aqui\n",
    "    \n",
    "   \n",
    "    return x_train, x_val, y_train, y_val\n"
   ]
  },
  {
   "cell_type": "code",
   "execution_count": 878,
   "metadata": {},
   "outputs": [
    {
     "ename": "NameError",
     "evalue": "name 'raw_data' is not defined",
     "output_type": "error",
     "traceback": [
      "\u001b[0;31m---------------------------------------------------------------------------\u001b[0m",
      "\u001b[0;31mNameError\u001b[0m                                 Traceback (most recent call last)",
      "\u001b[0;32m<ipython-input-878-94a1eb75bb36>\u001b[0m in \u001b[0;36m<module>\u001b[0;34m\u001b[0m\n\u001b[0;32m----> 1\u001b[0;31m \u001b[0mdf\u001b[0m \u001b[0;34m=\u001b[0m \u001b[0mload_data\u001b[0m\u001b[0;34m(\u001b[0m\u001b[0;34m)\u001b[0m\u001b[0;34m\u001b[0m\u001b[0;34m\u001b[0m\u001b[0m\n\u001b[0m\u001b[1;32m      2\u001b[0m \u001b[0mvisualize_data\u001b[0m\u001b[0;34m(\u001b[0m\u001b[0mdf\u001b[0m\u001b[0;34m)\u001b[0m\u001b[0;34m\u001b[0m\u001b[0;34m\u001b[0m\u001b[0m\n\u001b[1;32m      3\u001b[0m \u001b[0mdf\u001b[0m \u001b[0;34m=\u001b[0m \u001b[0mpre_processing\u001b[0m\u001b[0;34m(\u001b[0m\u001b[0mdf\u001b[0m\u001b[0;34m)\u001b[0m\u001b[0;34m\u001b[0m\u001b[0;34m\u001b[0m\u001b[0m\n\u001b[1;32m      4\u001b[0m \u001b[0mx_train\u001b[0m\u001b[0;34m,\u001b[0m \u001b[0mx_val\u001b[0m\u001b[0;34m,\u001b[0m \u001b[0my_train\u001b[0m\u001b[0;34m,\u001b[0m \u001b[0my_val\u001b[0m \u001b[0;34m=\u001b[0m \u001b[0msplit_data\u001b[0m\u001b[0;34m(\u001b[0m\u001b[0mdf\u001b[0m\u001b[0;34m,\u001b[0m\u001b[0;34m)\u001b[0m\u001b[0;34m\u001b[0m\u001b[0;34m\u001b[0m\u001b[0m\n",
      "\u001b[0;32m<ipython-input-877-358ac40f2c5a>\u001b[0m in \u001b[0;36mload_data\u001b[0;34m(data_path)\u001b[0m\n\u001b[1;32m      3\u001b[0m     \u001b[0;31m#Seu código aqui\u001b[0m\u001b[0;34m\u001b[0m\u001b[0;34m\u001b[0m\u001b[0;34m\u001b[0m\u001b[0m\n\u001b[1;32m      4\u001b[0m \u001b[0;34m\u001b[0m\u001b[0m\n\u001b[0;32m----> 5\u001b[0;31m     \u001b[0;32mreturn\u001b[0m \u001b[0mraw_data\u001b[0m\u001b[0;34m\u001b[0m\u001b[0;34m\u001b[0m\u001b[0m\n\u001b[0m\u001b[1;32m      6\u001b[0m \u001b[0;34m\u001b[0m\u001b[0m\n\u001b[1;32m      7\u001b[0m \u001b[0;32mdef\u001b[0m \u001b[0mpre_processing\u001b[0m\u001b[0;34m(\u001b[0m\u001b[0mraw_data\u001b[0m\u001b[0;34m:\u001b[0m\u001b[0mpd\u001b[0m\u001b[0;34m.\u001b[0m\u001b[0mDataFrame\u001b[0m\u001b[0;34m)\u001b[0m\u001b[0;34m->\u001b[0m \u001b[0mpd\u001b[0m\u001b[0;34m.\u001b[0m\u001b[0mDataFrame\u001b[0m\u001b[0;34m:\u001b[0m\u001b[0;34m\u001b[0m\u001b[0;34m\u001b[0m\u001b[0m\n",
      "\u001b[0;31mNameError\u001b[0m: name 'raw_data' is not defined"
     ]
    }
   ],
   "source": [
    "df = load_data()\n",
    "visualize_data(df)\n",
    "df = pre_processing(df)\n",
    "x_train, x_val, y_train, y_val = split_data(df,)"
   ]
  },
  {
   "cell_type": "markdown",
   "metadata": {},
   "source": [
    "# <font color='blue'>Questão 4 </font>\n",
    "Agora que você ja ganhou uma familiaridade com a API Keras, escreva sozinho do começo ao fim um modelo que ira dizer se amanhã vai chover ou não e avalie sua performance.\n"
   ]
  },
  {
   "cell_type": "markdown",
   "metadata": {},
   "source": [
    "# Seu código aqui"
   ]
  }
 ],
 "metadata": {
  "kernelspec": {
   "display_name": "Python 3",
   "language": "python",
   "name": "python3"
  },
  "language_info": {
   "codemirror_mode": {
    "name": "ipython",
    "version": 3
   },
   "file_extension": ".py",
   "mimetype": "text/x-python",
   "name": "python",
   "nbconvert_exporter": "python",
   "pygments_lexer": "ipython3",
   "version": "3.8.2"
  }
 },
 "nbformat": 4,
 "nbformat_minor": 4
}
