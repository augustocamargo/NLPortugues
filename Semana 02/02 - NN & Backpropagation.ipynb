{
 "cells": [
  {
   "cell_type": "markdown",
   "metadata": {},
   "source": [
    "<img src=\"https://raw.githubusercontent.com/alan-barzilay/NLPortugues/master/imagens/logo_nlportugues.png\"  style=\"height:65%\" align=\"right\">\n",
    "\n",
    "\n",
    "# Lista 2 - NN & Backpropagation\n",
    "**Nome:**\n",
    "\n",
    "**Numero Usp:**\n",
    "\n",
    "\n",
    "_________________________________________\n",
    "\n",
    "Antes de começar o exercício,  não se esqueça de instalar todos os pacotes necessários para a sua execução.  "
   ]
  },
  {
   "cell_type": "code",
   "execution_count": 494,
   "metadata": {},
   "outputs": [
    {
     "data": {
      "text/plain": [
       "'2.3.0'"
      ]
     },
     "execution_count": 494,
     "metadata": {},
     "output_type": "execute_result"
    }
   ],
   "source": [
    "import tensorflow as tf\n",
    "import tensorflow_addons as tfa\n",
    "import pandas as pd\n",
    "import numpy as np\n",
    "import matplotlib.pyplot as plt\n",
    "import seaborn as sns\n",
    "from tensorflow import keras\n",
    "from tensorflow.python.keras.layers import LeakyReLU\n",
    "from sklearn.model_selection import train_test_split\n",
    "from tqdm import tqdm, tqdm_notebook\n",
    "%matplotlib inline\n",
    "tf.__version__"
   ]
  },
  {
   "cell_type": "markdown",
   "metadata": {},
   "source": [
    "## Perceptron\n",
    "\n",
    "O perceptron é uma \"rede neural\" de um só neurônio.  No nosso caso, temos a rede mais simpes possível, com uma só entrada e uma só saída, sem ativação.\n",
    "\n",
    "Temos 100 dados que serão usados para treinar 300 épocas do percéptron.\n",
    "\n",
    "Vamos utilizar o modelo perceptron para aprender uma simples regressão linear, o objetivo é faze-lo aprender uma simples equação linear e tambem se acostumar com a sintaxe e funcionamento do TensorFlow\n"
   ]
  },
  {
   "cell_type": "code",
   "execution_count": 495,
   "metadata": {},
   "outputs": [],
   "source": [
    "def f1(x):\n",
    "    '''\n",
    "    Funcao a ser aprendida\n",
    "    '''\n",
    "    return 5 + 10*x"
   ]
  },
  {
   "cell_type": "code",
   "execution_count": 496,
   "metadata": {},
   "outputs": [
    {
     "name": "stdout",
     "output_type": "stream",
     "text": [
      "100 xs= [ 0.          0.1010101   0.2020202   0.3030303   0.4040404   0.50505051\n",
      "  0.60606061  0.70707071  0.80808081  0.90909091  1.01010101  1.11111111\n",
      "  1.21212121  1.31313131  1.41414141  1.51515152  1.61616162  1.71717172\n",
      "  1.81818182  1.91919192  2.02020202  2.12121212  2.22222222  2.32323232\n",
      "  2.42424242  2.52525253  2.62626263  2.72727273  2.82828283  2.92929293\n",
      "  3.03030303  3.13131313  3.23232323  3.33333333  3.43434343  3.53535354\n",
      "  3.63636364  3.73737374  3.83838384  3.93939394  4.04040404  4.14141414\n",
      "  4.24242424  4.34343434  4.44444444  4.54545455  4.64646465  4.74747475\n",
      "  4.84848485  4.94949495  5.05050505  5.15151515  5.25252525  5.35353535\n",
      "  5.45454545  5.55555556  5.65656566  5.75757576  5.85858586  5.95959596\n",
      "  6.06060606  6.16161616  6.26262626  6.36363636  6.46464646  6.56565657\n",
      "  6.66666667  6.76767677  6.86868687  6.96969697  7.07070707  7.17171717\n",
      "  7.27272727  7.37373737  7.47474747  7.57575758  7.67676768  7.77777778\n",
      "  7.87878788  7.97979798  8.08080808  8.18181818  8.28282828  8.38383838\n",
      "  8.48484848  8.58585859  8.68686869  8.78787879  8.88888889  8.98989899\n",
      "  9.09090909  9.19191919  9.29292929  9.39393939  9.49494949  9.5959596\n",
      "  9.6969697   9.7979798   9.8989899  10.        ]\n",
      "100 ys= [  5.           6.01010101   7.02020202   8.03030303   9.04040404\n",
      "  10.05050505  11.06060606  12.07070707  13.08080808  14.09090909\n",
      "  15.1010101   16.11111111  17.12121212  18.13131313  19.14141414\n",
      "  20.15151515  21.16161616  22.17171717  23.18181818  24.19191919\n",
      "  25.2020202   26.21212121  27.22222222  28.23232323  29.24242424\n",
      "  30.25252525  31.26262626  32.27272727  33.28282828  34.29292929\n",
      "  35.3030303   36.31313131  37.32323232  38.33333333  39.34343434\n",
      "  40.35353535  41.36363636  42.37373737  43.38383838  44.39393939\n",
      "  45.4040404   46.41414141  47.42424242  48.43434343  49.44444444\n",
      "  50.45454545  51.46464646  52.47474747  53.48484848  54.49494949\n",
      "  55.50505051  56.51515152  57.52525253  58.53535354  59.54545455\n",
      "  60.55555556  61.56565657  62.57575758  63.58585859  64.5959596\n",
      "  65.60606061  66.61616162  67.62626263  68.63636364  69.64646465\n",
      "  70.65656566  71.66666667  72.67676768  73.68686869  74.6969697\n",
      "  75.70707071  76.71717172  77.72727273  78.73737374  79.74747475\n",
      "  80.75757576  81.76767677  82.77777778  83.78787879  84.7979798\n",
      "  85.80808081  86.81818182  87.82828283  88.83838384  89.84848485\n",
      "  90.85858586  91.86868687  92.87878788  93.88888889  94.8989899\n",
      "  95.90909091  96.91919192  97.92929293  98.93939394  99.94949495\n",
      " 100.95959596 101.96969697 102.97979798 103.98989899 105.        ]\n"
     ]
    }
   ],
   "source": [
    "xs = np.linspace(0,10,100)  # gera 100 valores no intervalo [0.10]\n",
    "ys = f1(xs)                 # computa o valor de f1 nestes 100 valores\n",
    "print(len(xs), \"xs=\", xs)\n",
    "print(len(ys), \"ys=\", ys)\n"
   ]
  },
  {
   "cell_type": "code",
   "execution_count": 497,
   "metadata": {
    "scrolled": true
   },
   "outputs": [],
   "source": [
    "#Definindo, compilando e treinando nosso modelo\n",
    "model = tf.keras.Sequential([\n",
    "    keras.Input(shape=(1,)),\n",
    "    keras.layers.Dense(units=1),\n",
    "])\n",
    "\n",
    "model.compile(optimizer=\"sgd\", loss=\"mean_squared_error\")\n",
    "# model.fit(xs,ys,epochs=300)"
   ]
  },
  {
   "cell_type": "code",
   "execution_count": 498,
   "metadata": {},
   "outputs": [
    {
     "name": "stdout",
     "output_type": "stream",
     "text": [
      "Model: \"sequential_53\"\n",
      "_________________________________________________________________\n",
      "Layer (type)                 Output Shape              Param #   \n",
      "=================================================================\n",
      "dense_147 (Dense)            (None, 1)                 2         \n",
      "=================================================================\n",
      "Total params: 2\n",
      "Trainable params: 2\n",
      "Non-trainable params: 0\n",
      "_________________________________________________________________\n"
     ]
    }
   ],
   "source": [
    "model.summary()"
   ]
  },
  {
   "cell_type": "code",
   "execution_count": 499,
   "metadata": {},
   "outputs": [
    {
     "name": "stdout",
     "output_type": "stream",
     "text": [
      "prediction: [[-20.555357]]      real value: 175\n"
     ]
    }
   ],
   "source": [
    "print(\"prediction: \"+ str(model.predict([17]))+\"      real value: \" + str(f1(17)))"
   ]
  },
  {
   "cell_type": "code",
   "execution_count": 500,
   "metadata": {},
   "outputs": [
    {
     "name": "stdout",
     "output_type": "stream",
     "text": [
      "WARNING:tensorflow:6 out of the last 11 calls to <function Model.make_test_function.<locals>.test_function at 0x7efc7c2fa820> triggered tf.function retracing. Tracing is expensive and the excessive number of tracings could be due to (1) creating @tf.function repeatedly in a loop, (2) passing tensors with different shapes, (3) passing Python objects instead of tensors. For (1), please define your @tf.function outside of the loop. For (2), @tf.function has experimental_relax_shapes=True option that relaxes argument shapes that can avoid unnecessary retracing. For (3), please refer to https://www.tensorflow.org/tutorials/customization/performance#python_or_tensor_args and https://www.tensorflow.org/api_docs/python/tf/function for  more details.\n",
      "2/2 [==============================] - 0s 731us/step - loss: 4807.3921\n"
     ]
    },
    {
     "data": {
      "text/plain": [
       "4807.39208984375"
      ]
     },
     "execution_count": 500,
     "metadata": {},
     "output_type": "execute_result"
    }
   ],
   "source": [
    "val = np.linspace(0,10,63)\n",
    "model.evaluate(x=val, y=f1(val))"
   ]
  },
  {
   "cell_type": "markdown",
   "metadata": {},
   "source": [
    "A função `evaluate` retorna o \"custo\" (loss) da avaliação, definido na compilação.  Nesse caso, o valor reportado é o erro quadrático médio (MSE). "
   ]
  },
  {
   "cell_type": "markdown",
   "metadata": {},
   "source": [
    "## Aprendendo uma função não linear"
   ]
  },
  {
   "cell_type": "code",
   "execution_count": 501,
   "metadata": {},
   "outputs": [],
   "source": [
    "def f2(x):\n",
    "    '''\n",
    "    Funcao não linear a ser aprendida\n",
    "    '''\n",
    "    return (x**2 + x*3 + 4)/200"
   ]
  },
  {
   "cell_type": "code",
   "execution_count": 502,
   "metadata": {},
   "outputs": [],
   "source": [
    "x = np.linspace(0,10,100)\n",
    "y = f2(x)"
   ]
  },
  {
   "cell_type": "markdown",
   "metadata": {},
   "source": [
    "# <font color='blue'>Questão 1 </font>\n",
    "Defina as camadas para esta rede neural e treine seu modelo, note que a saída unitária _não deve_ ter função de ativação (por que?)."
   ]
  },
  {
   "cell_type": "code",
   "execution_count": 503,
   "metadata": {},
   "outputs": [],
   "source": [
    "# A saída unitária não deve ter função de ativação pq não iremos normalizar os dados de saída."
   ]
  },
  {
   "cell_type": "code",
   "execution_count": null,
   "metadata": {},
   "outputs": [],
   "source": []
  },
  {
   "cell_type": "code",
   "execution_count": 504,
   "metadata": {},
   "outputs": [
    {
     "name": "stderr",
     "output_type": "stream",
     "text": [
      "100%|██████████| 400/400 [00:00<00:00, 488.29it/s]\n"
     ]
    }
   ],
   "source": [
    "with tqdm(total=400) as pbar:\n",
    "    \n",
    "    #create model\n",
    "    model = tf.keras.Sequential([    \n",
    "        keras.Input(shape=(1,)),\n",
    "        keras.layers.Dense(units=32,activation=\"tanh\"),\n",
    "        keras.layers.Dense(units=16,activation=\"tanh\"),\n",
    "        keras.layers.Dense(units=8,activation=\"tanh\"),\n",
    "        keras.layers.Dense(units=1),\n",
    "    ])\n",
    "\n",
    "    \n",
    "    \n",
    "    #compile model\n",
    "    model.compile(optimizer=\"sgd\", loss=\"mean_squared_error\")     \n",
    "    \n",
    "    # initialize tqdm callback with default parameters\n",
    "    class ctqdm_callback(keras.callbacks.Callback):\n",
    "        def on_epoch_end(a,b,c):\n",
    "             pbar.update()            \n",
    "    tqdm_callback = ctqdm_callback()\n",
    "\n",
    "    #fit model\n",
    "    history = model.fit(x,y,epochs=400,verbose=0,callbacks=[tqdm_callback])\n",
    "\n",
    "    # list all data in history\n",
    "    #    print(history.history.keys())\n",
    "    "
   ]
  },
  {
   "cell_type": "code",
   "execution_count": 505,
   "metadata": {},
   "outputs": [
    {
     "name": "stdout",
     "output_type": "stream",
     "text": [
      "Model: \"sequential_54\"\n",
      "_________________________________________________________________\n",
      "Layer (type)                 Output Shape              Param #   \n",
      "=================================================================\n",
      "dense_148 (Dense)            (None, 32)                64        \n",
      "_________________________________________________________________\n",
      "dense_149 (Dense)            (None, 16)                528       \n",
      "_________________________________________________________________\n",
      "dense_150 (Dense)            (None, 8)                 136       \n",
      "_________________________________________________________________\n",
      "dense_151 (Dense)            (None, 1)                 9         \n",
      "=================================================================\n",
      "Total params: 737\n",
      "Trainable params: 737\n",
      "Non-trainable params: 0\n",
      "_________________________________________________________________\n"
     ]
    }
   ],
   "source": [
    "model.summary()"
   ]
  },
  {
   "cell_type": "code",
   "execution_count": 506,
   "metadata": {},
   "outputs": [
    {
     "data": {
      "image/png": "[encoded data removed]",
      "text/plain": [
       "<Figure size 432x288 with 1 Axes>"
      ]
     },
     "metadata": {
      "needs_background": "light"
     },
     "output_type": "display_data"
    }
   ],
   "source": [
    "# summarize history for loss\n",
    "plt.plot(history.history['loss'])\n",
    "plt.title('model loss')\n",
    "plt.ylabel('loss')\n",
    "plt.xlabel('epoch')\n",
    "plt.legend(['train'], loc='upper left')\n",
    "plt.show()"
   ]
  },
  {
   "cell_type": "code",
   "execution_count": null,
   "metadata": {},
   "outputs": [],
   "source": []
  },
  {
   "cell_type": "code",
   "execution_count": 507,
   "metadata": {},
   "outputs": [],
   "source": [
    "x_val_tensor =  tf.convert_to_tensor(x_val)"
   ]
  },
  {
   "cell_type": "code",
   "execution_count": 508,
   "metadata": {},
   "outputs": [
    {
     "name": "stdout",
     "output_type": "stream",
     "text": [
      "WARNING:tensorflow:6 out of the last 11 calls to <function Model.make_test_function.<locals>.test_function at 0x7efcc4472c10> triggered tf.function retracing. Tracing is expensive and the excessive number of tracings could be due to (1) creating @tf.function repeatedly in a loop, (2) passing tensors with different shapes, (3) passing Python objects instead of tensors. For (1), please define your @tf.function outside of the loop. For (2), @tf.function has experimental_relax_shapes=True option that relaxes argument shapes that can avoid unnecessary retracing. For (3), please refer to https://www.tensorflow.org/tutorials/customization/performance#python_or_tensor_args and https://www.tensorflow.org/api_docs/python/tf/function for  more details.\n",
      "2/2 [==============================] - 0s 551us/step - loss: 5.9930e-04\n"
     ]
    },
    {
     "data": {
      "text/plain": [
       "0.0005993015947751701"
      ]
     },
     "execution_count": 508,
     "metadata": {},
     "output_type": "execute_result"
    }
   ],
   "source": [
    "model.evaluate(x=x_val_tensor,y=y_val)"
   ]
  },
  {
   "cell_type": "code",
   "execution_count": null,
   "metadata": {},
   "outputs": [],
   "source": [
    "\n",
    "    "
   ]
  },
  {
   "cell_type": "markdown",
   "metadata": {},
   "source": [
    "____________________________\n",
    "# <font color='blue'>Questão 2 </font>\n",
    "\n",
    "\n",
    "\n",
    "O que acontece se você muda as funções de ativação? Teste algumas diferentes e descreva seus resultados, em especial a tangente hiperbolica\n",
    "\n"
   ]
  },
  {
   "attachments": {
    "13f3e577-a4af-45e6-b661-cd17edf083b6.png": {
     "image/png": "[encoded data removed]"
    }
   },
   "cell_type": "markdown",
   "metadata": {},
   "source": [
    "\n",
    "**<font color='red'> Sua resposta aqui </font>**\n",
    "![image.png](attachment:13f3e577-a4af-45e6-b661-cd17edf083b6.png)"
   ]
  },
  {
   "cell_type": "markdown",
   "metadata": {},
   "source": [
    "\n",
    "O que acontece se você mudar a função de otimização? Teste diferentes funções e descreva seus resultados, em especial as funções SDG e RMSprop\n"
   ]
  },
  {
   "cell_type": "markdown",
   "metadata": {},
   "source": [
    "Volte a primeira parte desse notebook e troque a função de ativação da rede de uma camada (pérceptron) de sdg para adam, o que acontece?\n",
    "\n"
   ]
  },
  {
   "cell_type": "markdown",
   "metadata": {},
   "source": [
    "\n",
    "**<font color='red'> Sua resposta aqui </font>**"
   ]
  },
  {
   "attachments": {
    "40e9c2a0-bda6-4bd2-a413-b7f410409799.png": {
     "image/png": "[encoded data removed]"
    }
   },
   "cell_type": "markdown",
   "metadata": {},
   "source": [
    "A avaliação de performance que realizamos foi apenas para pontos contidos no mesmo intervalo que o conjunto de treino, ou seja, foi apenas uma interpolação. Sem alterar sua rede repita o teste realizando uma extrapolação, com pontos fora do intervalo [0;10] e descreva seus resultados. O que aconteceu com a performance?\n",
    "![image.png](attachment:40e9c2a0-bda6-4bd2-a413-b7f410409799.png)"
   ]
  },
  {
   "cell_type": "code",
   "execution_count": 509,
   "metadata": {},
   "outputs": [
    {
     "name": "stdout",
     "output_type": "stream",
     "text": [
      "i:-100 f: 48.52 pred: -0.721528 err: 101.49%\n",
      "i:-99 f: 47.54 pred: -0.72211176 err: 101.52%\n",
      "i:-98 f: 46.57 pred: -0.7227031 err: 101.55%\n",
      "i:-97 f: 45.61 pred: -0.7233022 err: 101.59%\n",
      "i:-96 f: 44.66 pred: -0.7239092 err: 101.62%\n",
      "i:-95 f: 43.72 pred: -0.7245239 err: 101.66%\n",
      "i:-94 f: 42.79 pred: -0.72514635 err: 101.69%\n",
      "i:-93 f: 41.87 pred: -0.72577685 err: 101.73%\n",
      "i:-92 f: 40.96 pred: -0.7264155 err: 101.77%\n",
      "i:-91 f: 40.06 pred: -0.7270623 err: 101.81%\n",
      "i:-90 f: 39.17 pred: -0.7277169 err: 101.86%\n",
      "i:-89 f: 38.29 pred: -0.72838 err: 101.9%\n",
      "i:-88 f: 37.42 pred: -0.72905123 err: 101.95%\n",
      "i:-87 f: 36.56 pred: -0.72973084 err: 102.0%\n",
      "i:-86 f: 35.71 pred: -0.7304185 err: 102.05%\n",
      "i:-85 f: 34.87 pred: -0.7311144 err: 102.1%\n",
      "i:-84 f: 34.04 pred: -0.731819 err: 102.15%\n",
      "i:-83 f: 33.22 pred: -0.7325321 err: 102.21%\n",
      "i:-82 f: 32.41 pred: -0.7332533 err: 102.26%\n",
      "i:-81 f: 31.61 pred: -0.73398334 err: 102.32%\n",
      "i:-80 f: 30.82 pred: -0.73472166 err: 102.38%\n",
      "i:-79 f: 30.04 pred: -0.73546845 err: 102.45%\n",
      "i:-78 f: 29.27 pred: -0.7362239 err: 102.52%\n",
      "i:-77 f: 28.51 pred: -0.7369879 err: 102.59%\n",
      "i:-76 f: 27.76 pred: -0.73776007 err: 102.66%\n",
      "i:-75 f: 27.02 pred: -0.738541 err: 102.73%\n",
      "i:-74 f: 26.29 pred: -0.7393304 err: 102.81%\n",
      "i:-73 f: 25.57 pred: -0.7401282 err: 102.89%\n",
      "i:-72 f: 24.86 pred: -0.7409341 err: 102.98%\n",
      "i:-71 f: 24.16 pred: -0.7417485 err: 103.07%\n",
      "i:-70 f: 23.47 pred: -0.7425714 err: 103.16%\n",
      "i:-69 f: 22.79 pred: -0.7434025 err: 103.26%\n",
      "i:-68 f: 22.12 pred: -0.7442418 err: 103.36%\n",
      "i:-67 f: 21.46 pred: -0.74508893 err: 103.47%\n",
      "i:-66 f: 20.81 pred: -0.7459442 err: 103.58%\n",
      "i:-65 f: 20.17 pred: -0.7468072 err: 103.7%\n",
      "i:-64 f: 19.54 pred: -0.74767786 err: 103.83%\n",
      "i:-63 f: 18.92 pred: -0.7485557 err: 103.96%\n",
      "i:-62 f: 18.31 pred: -0.74944115 err: 104.09%\n",
      "i:-61 f: 17.71 pred: -0.7503336 err: 104.24%\n",
      "i:-60 f: 17.12 pred: -0.7512329 err: 104.39%\n",
      "i:-59 f: 16.54 pred: -0.75213826 err: 104.55%\n",
      "i:-58 f: 15.97 pred: -0.7530495 err: 104.72%\n",
      "i:-57 f: 15.41 pred: -0.75396687 err: 104.89%\n",
      "i:-56 f: 14.86 pred: -0.754889 err: 105.08%\n",
      "i:-55 f: 14.32 pred: -0.7558156 err: 105.28%\n",
      "i:-54 f: 13.79 pred: -0.7567462 err: 105.49%\n",
      "i:-53 f: 13.27 pred: -0.7576795 err: 105.71%\n",
      "i:-52 f: 12.76 pred: -0.758615 err: 105.95%\n",
      "i:-51 f: 12.26 pred: -0.75955135 err: 106.2%\n",
      "i:-50 f: 11.77 pred: -0.7604875 err: 106.46%\n",
      "i:-49 f: 11.29 pred: -0.76142126 err: 106.74%\n",
      "i:-48 f: 10.82 pred: -0.7623516 err: 107.05%\n",
      "i:-47 f: 10.36 pred: -0.76327574 err: 107.37%\n",
      "i:-46 f: 9.91 pred: -0.7641916 err: 107.71%\n",
      "i:-45 f: 9.47 pred: -0.7650957 err: 108.08%\n",
      "i:-44 f: 9.04 pred: -0.76598513 err: 108.47%\n",
      "i:-43 f: 8.62 pred: -0.7668552 err: 108.9%\n",
      "i:-42 f: 8.21 pred: -0.7677006 err: 109.35%\n",
      "i:-41 f: 7.81 pred: -0.76851547 err: 109.84%\n",
      "i:-40 f: 7.42 pred: -0.7692929 err: 110.37%\n",
      "i:-39 f: 7.04 pred: -0.770024 err: 110.94%\n",
      "i:-38 f: 6.67 pred: -0.77069867 err: 111.55%\n",
      "i:-37 f: 6.31 pred: -0.7713042 err: 112.22%\n",
      "i:-36 f: 5.96 pred: -0.7718267 err: 112.95%\n",
      "i:-35 f: 5.62 pred: -0.7722478 err: 113.74%\n",
      "i:-34 f: 5.29 pred: -0.7725464 err: 114.6%\n",
      "i:-33 f: 4.97 pred: -0.77269775 err: 115.55%\n",
      "i:-32 f: 4.66 pred: -0.77267057 err: 116.58%\n",
      "i:-31 f: 4.36 pred: -0.77242875 err: 117.72%\n",
      "i:-30 f: 4.07 pred: -0.7719279 err: 118.97%\n",
      "i:-29 f: 3.79 pred: -0.7711158 err: 120.35%\n",
      "i:-28 f: 3.52 pred: -0.7699282 err: 121.87%\n",
      "i:-27 f: 3.26 pred: -0.7682886 err: 123.57%\n",
      "i:-26 f: 3.01 pred: -0.76610553 err: 125.45%\n",
      "i:-25 f: 2.77 pred: -0.76326764 err: 127.55%\n",
      "i:-24 f: 2.54 pred: -0.75964206 err: 129.91%\n",
      "i:-23 f: 2.32 pred: -0.7550696 err: 132.55%\n",
      "i:-22 f: 2.11 pred: -0.749358 err: 135.51%\n",
      "i:-21 f: 1.91 pred: -0.74228 err: 138.86%\n",
      "i:-20 f: 1.72 pred: -0.7335608 err: 142.65%\n",
      "i:-19 f: 1.54 pred: -0.722878 err: 146.94%\n",
      "i:-18 f: 1.37 pred: -0.7098479 err: 151.81%\n",
      "i:-17 f: 1.21 pred: -0.69402343 err: 157.36%\n",
      "i:-16 f: 1.06 pred: -0.6748862 err: 163.67%\n",
      "i:-15 f: 0.92 pred: -0.65184516 err: 170.85%\n",
      "i:-14 f: 0.79 pred: -0.624242 err: 179.02%\n",
      "i:-13 f: 0.67 pred: -0.5913699 err: 188.26%\n",
      "i:-12 f: 0.56 pred: -0.55250597 err: 198.66%\n",
      "i:-11 f: 0.46 pred: -0.50698155 err: 210.21%\n",
      "i:-10 f: 0.37 pred: -0.45429114 err: 222.78%\n",
      "i:-9 f: 0.29 pred: -0.39426464 err: 235.95%\n",
      "i:-8 f: 0.22 pred: -0.32731855 err: 248.78%\n",
      "i:-7 f: 0.16 pred: -0.25478792 err: 259.24%\n",
      "i:-6 f: 0.11 pred: -0.1793122 err: 263.01%\n",
      "i:-5 f: 0.07 pred: -0.105142005 err: 250.2%\n",
      "i:-4 f: 0.04 pred: -0.03810347 err: 195.26%\n",
      "i:-3 f: 0.02 pred: 0.015011916 err: 24.94%\n",
      "i:-2 f: 0.01 pred: 0.047429927 err: -374.3%\n",
      "i:-1 f: 0.01 pred: 0.054119334 err: -441.19%\n",
      "i:0 f: 0.02 pred: 0.039500594 err: -97.5%\n",
      "i:1 f: 0.04 pred: 0.029499257 err: 26.25%\n",
      "i:2 f: 0.07 pred: 0.044971965 err: 35.75%\n",
      "i:3 f: 0.11 pred: 0.08538512 err: 22.38%\n",
      "i:4 f: 0.16 pred: 0.14521158 err: 9.24%\n",
      "i:5 f: 0.22 pred: 0.21813537 err: 0.85%\n",
      "i:6 f: 0.29 pred: 0.29761446 err: -2.63%\n",
      "i:7 f: 0.37 pred: 0.37790608 err: -2.14%\n",
      "i:8 f: 0.46 pred: 0.4547832 err: 1.13%\n",
      "i:9 f: 0.56 pred: 0.5256175 err: 6.14%\n",
      "i:10 f: 0.67 pred: 0.58908826 err: 12.08%\n",
      "i:11 f: 0.79 pred: 0.6448014 err: 18.38%\n",
      "i:12 f: 0.92 pred: 0.6929569 err: 24.68%\n",
      "i:13 f: 1.06 pred: 0.734095 err: 30.75%\n",
      "i:14 f: 1.21 pred: 0.76892155 err: 36.45%\n",
      "i:15 f: 1.37 pred: 0.79819536 err: 41.74%\n",
      "i:16 f: 1.54 pred: 0.82265997 err: 46.58%\n",
      "i:17 f: 1.72 pred: 0.8430055 err: 50.99%\n",
      "i:18 f: 1.91 pred: 0.85985214 err: 54.98%\n",
      "i:19 f: 2.11 pred: 0.8737448 err: 58.59%\n",
      "i:20 f: 2.32 pred: 0.88515335 err: 61.85%\n",
      "i:21 f: 2.54 pred: 0.89448106 err: 64.78%\n",
      "i:22 f: 2.77 pred: 0.9020686 err: 67.43%\n",
      "i:23 f: 3.01 pred: 0.9082034 err: 69.83%\n",
      "i:24 f: 3.26 pred: 0.9131279 err: 71.99%\n",
      "i:25 f: 3.52 pred: 0.9170433 err: 73.95%\n",
      "i:26 f: 3.79 pred: 0.9201192 err: 75.72%\n",
      "i:27 f: 4.07 pred: 0.9224964 err: 77.33%\n",
      "i:28 f: 4.36 pred: 0.924292 err: 78.8%\n",
      "i:29 f: 4.66 pred: 0.9256043 err: 80.14%\n",
      "i:30 f: 4.97 pred: 0.9265142 err: 81.36%\n",
      "i:31 f: 5.29 pred: 0.9270898 err: 82.47%\n",
      "i:32 f: 5.62 pred: 0.92738783 err: 83.5%\n",
      "i:33 f: 5.96 pred: 0.92745435 err: 84.44%\n",
      "i:34 f: 6.31 pred: 0.9273296 err: 85.3%\n",
      "i:35 f: 6.67 pred: 0.92704564 err: 86.1%\n",
      "i:36 f: 7.04 pred: 0.92662984 err: 86.84%\n",
      "i:37 f: 7.42 pred: 0.9261045 err: 87.52%\n",
      "i:38 f: 7.81 pred: 0.9254891 err: 88.15%\n",
      "i:39 f: 8.21 pred: 0.9247993 err: 88.74%\n",
      "i:40 f: 8.62 pred: 0.92404836 err: 89.28%\n",
      "i:41 f: 9.04 pred: 0.9232472 err: 89.79%\n",
      "i:42 f: 9.47 pred: 0.9224055 err: 90.26%\n",
      "i:43 f: 9.91 pred: 0.9215303 err: 90.7%\n",
      "i:44 f: 10.36 pred: 0.92062867 err: 91.11%\n",
      "i:45 f: 10.82 pred: 0.91970646 err: 91.5%\n",
      "i:46 f: 11.29 pred: 0.918767 err: 91.86%\n",
      "i:47 f: 11.77 pred: 0.91781515 err: 92.2%\n",
      "i:48 f: 12.26 pred: 0.91685444 err: 92.52%\n",
      "i:49 f: 12.76 pred: 0.91588646 err: 92.82%\n",
      "i:50 f: 13.27 pred: 0.9149149 err: 93.11%\n",
      "i:51 f: 13.79 pred: 0.913941 err: 93.37%\n",
      "i:52 f: 14.32 pred: 0.9129661 err: 93.62%\n",
      "i:53 f: 14.86 pred: 0.91199225 err: 93.86%\n",
      "i:54 f: 15.41 pred: 0.9110208 err: 94.09%\n",
      "i:55 f: 15.97 pred: 0.910052 err: 94.3%\n",
      "i:56 f: 16.54 pred: 0.9090871 err: 94.5%\n",
      "i:57 f: 17.12 pred: 0.9081272 err: 94.7%\n",
      "i:58 f: 17.71 pred: 0.90717244 err: 94.88%\n",
      "i:59 f: 18.31 pred: 0.90622365 err: 95.05%\n",
      "i:60 f: 18.92 pred: 0.90528107 err: 95.22%\n",
      "i:61 f: 19.54 pred: 0.9043455 err: 95.37%\n",
      "i:62 f: 20.17 pred: 0.903417 err: 95.52%\n",
      "i:63 f: 20.81 pred: 0.9024957 err: 95.66%\n",
      "i:64 f: 21.46 pred: 0.90158236 err: 95.8%\n",
      "i:65 f: 22.12 pred: 0.9006766 err: 95.93%\n",
      "i:66 f: 22.79 pred: 0.89977914 err: 96.05%\n",
      "i:67 f: 23.47 pred: 0.8988897 err: 96.17%\n",
      "i:68 f: 24.16 pred: 0.8980089 err: 96.28%\n",
      "i:69 f: 24.86 pred: 0.8971367 err: 96.39%\n",
      "i:70 f: 25.57 pred: 0.89627296 err: 96.49%\n",
      "i:71 f: 26.29 pred: 0.89541787 err: 96.59%\n",
      "i:72 f: 27.02 pred: 0.89457166 err: 96.69%\n",
      "i:73 f: 27.76 pred: 0.89373416 err: 96.78%\n",
      "i:74 f: 28.51 pred: 0.8929057 err: 96.87%\n",
      "i:75 f: 29.27 pred: 0.8920859 err: 96.95%\n",
      "i:76 f: 30.04 pred: 0.89127505 err: 97.03%\n",
      "i:77 f: 30.82 pred: 0.8904734 err: 97.11%\n",
      "i:78 f: 31.61 pred: 0.8896803 err: 97.19%\n",
      "i:79 f: 32.41 pred: 0.8888966 err: 97.26%\n",
      "i:80 f: 33.22 pred: 0.8881215 err: 97.33%\n",
      "i:81 f: 34.04 pred: 0.88735545 err: 97.39%\n",
      "i:82 f: 34.87 pred: 0.88659847 err: 97.46%\n",
      "i:83 f: 35.71 pred: 0.88585013 err: 97.52%\n",
      "i:84 f: 36.56 pred: 0.885111 err: 97.58%\n",
      "i:85 f: 37.42 pred: 0.8843806 err: 97.64%\n",
      "i:86 f: 38.29 pred: 0.88365895 err: 97.69%\n",
      "i:87 f: 39.17 pred: 0.8829459 err: 97.75%\n",
      "i:88 f: 40.06 pred: 0.882242 err: 97.8%\n",
      "i:89 f: 40.96 pred: 0.8815464 err: 97.85%\n",
      "i:90 f: 41.87 pred: 0.8808596 err: 97.9%\n",
      "i:91 f: 42.79 pred: 0.8801812 err: 97.94%\n",
      "i:92 f: 43.72 pred: 0.8795114 err: 97.99%\n",
      "i:93 f: 44.66 pred: 0.8788502 err: 98.03%\n",
      "i:94 f: 45.61 pred: 0.8781973 err: 98.07%\n",
      "i:95 f: 46.57 pred: 0.87755305 err: 98.12%\n",
      "i:96 f: 47.54 pred: 0.87691694 err: 98.16%\n",
      "i:97 f: 48.52 pred: 0.87628835 err: 98.19%\n",
      "i:98 f: 49.51 pred: 0.8756687 err: 98.23%\n",
      "i:99 f: 50.51 pred: 0.8750568 err: 98.27%\n",
      "i:100 f: 51.52 pred: 0.8744527 err: 98.3%\n"
     ]
    }
   ],
   "source": [
    "# codigo acima, os resultados como visto no grafico acima de resumo a na tabela abaixo (para uma funcao) foram péssimos quando tentamos extrapolar.\n",
    "for i in range(-100,101):\n",
    "    pred = model.predict([i])[0][0]\n",
    "    f= f2(i)\n",
    "    er = (f-pred)/f*100\n",
    "    print(\"i:\" +str(i) + \" f: \" + str(f) + \" pred: \" + str(pred)+ \" err: \" + str(round(er,2)) + \"%\")"
   ]
  },
  {
   "cell_type": "markdown",
   "metadata": {},
   "source": [
    "\n",
    "**<font color='red'> Sua resposta aqui </font>**"
   ]
  },
  {
   "cell_type": "markdown",
   "metadata": {},
   "source": [
    "# Prevendo se vai chover na Austrália"
   ]
  },
  {
   "cell_type": "markdown",
   "metadata": {},
   "source": [
    "## Pré processamento dos dados\n",
    "Já definimos uma função basica para lhe ajudar a explorar os dados, você precisara escrever uma função para carregar os dados, uma de pré-processamento e outra para fazer a separação em teste e treino."
   ]
  },
  {
   "cell_type": "code",
   "execution_count": 510,
   "metadata": {},
   "outputs": [],
   "source": [
    "def visualize_data(data):\n",
    "    \"\"\"Gera graficos das distribuicoes das features e salva em disco\"\"\"\n",
    "\n",
    "    ibm_pltt = ['#648FFF', '#785EF0', '#DC267F',\n",
    "                '#FE6100', '#FFB000']  # Paleta colorblind-friendly\n",
    "    plt.figure(figsize=(8, 6))\n",
    "\n",
    "    # RainToday:\n",
    "    sns.set()\n",
    "    sns.set_palette(sns.color_palette([ibm_pltt[2], ibm_pltt[0]]))\n",
    "    sns.countplot(data.RainToday)\n",
    "    plt.xlabel('Choveu Hoje?')\n",
    "    plt.ylabel('Contagem')\n",
    "    plt.title(\"Valores de 'RainToday' para os dados pré-processados\")\n",
    "    plt.savefig('data_RainToday.png')\n",
    "    plt.clf()\n",
    "\n",
    "    # RainTomorrow:\n",
    "    sns.set()\n",
    "    sns.set_palette(sns.color_palette([ibm_pltt[3], ibm_pltt[1]]))\n",
    "    sns.countplot(data.RainTomorrow)\n",
    "    plt.xlabel('Choverá Amanhã?')\n",
    "    plt.ylabel('Contagem')\n",
    "    plt.title(\"Valores de 'RainTomorrow' para os dados pré-processados\")\n",
    "    plt.savefig('data_Rainomorrow.png')\n",
    "    plt.clf()\n",
    "\n",
    "    # Humidity3pm:\n",
    "    sns.set()\n",
    "    sns.distplot(data.Humidity3pm, color=ibm_pltt[0])\n",
    "    plt.xlabel('Umidade às 3PM')\n",
    "    plt.ylabel('Densidade normalizada')\n",
    "    plt.title(\"Distribuição da variável 'Humidity3pm' para os dados pré-processados\")\n",
    "    plt.savefig('data_Humidity3pm.png')\n",
    "    plt.clf()\n",
    "\n",
    "    # Pressure9am:\n",
    "    sns.set()\n",
    "    sns.distplot(data.Pressure9am, color=ibm_pltt[4])\n",
    "    plt.xlabel('Pressão atmosférica às 9AM')\n",
    "    plt.ylabel('Densidade normalizada')\n",
    "    plt.title(\"Distribuição da variável 'Pressure9amm' para os dados pré-processados\")\n",
    "    plt.savefig('data_Pressure9am.png')\n",
    "    plt.clf()\n",
    "\n",
    "    # Rainfall:\n",
    "    sns.set()\n",
    "    sns.distplot(data.Rainfall, color=ibm_pltt[1], bins=500, kde=False)\n",
    "    plt.xlim(0, 10)\n",
    "    plt.xlabel('Pluviosidade')\n",
    "    plt.ylabel('Densidade normalizada')\n",
    "    plt.title(\"Distribuição da variável 'Rainfall' para os dados pré-processados\")\n",
    "    plt.savefig('data_Rainfall.png')\n",
    "    plt.clf()\n",
    "\n",
    "    return\n"
   ]
  },
  {
   "cell_type": "markdown",
   "metadata": {},
   "source": [
    "# <font color='blue'>Questão 3 </font>\n",
    "Complete as funções aqui descritas seguindo a assinatura sugerida\n",
    "\n",
    "Para separar em treino e teste, de uma olhada na função [train_test_split()](https://scikit-learn.org/stable/modules/generated/sklearn.model_selection.train_test_split.html) do Scikit-Learn"
   ]
  },
  {
   "cell_type": "code",
   "execution_count": 511,
   "metadata": {},
   "outputs": [],
   "source": [
    "def load_data(data_path='data/weatherAUS.csv')-> pd.DataFrame:\n",
    "    \"\"\"Funcao que importa dados de um arquivo csv, usando pandas\"\"\"\n",
    "    #Seu código aqui\n",
    "\n",
    "    return raw_data\n",
    "\n",
    "def pre_processing(raw_data:pd.DataFrame)-> pd.DataFrame:\n",
    "    \"\"\"Funcao que filtra e limpa os dados meteorologicos para o treinamento\"\"\"\n",
    "    #Seu código aqui\n",
    "    \n",
    "\n",
    "    return processed_data\n",
    "\n",
    "\n",
    "def split_data(data:pd.DataFrame, val_size= 0.2)-> np.array:\n",
    "    \"\"\"Funcao que separa seus dados em teste e treino conforme a proporcao val_size\"\"\"\n",
    "    #Seu código aqui\n",
    "    \n",
    "   \n",
    "    return x_train, x_val, y_train, y_val\n"
   ]
  },
  {
   "cell_type": "code",
   "execution_count": 512,
   "metadata": {},
   "outputs": [
    {
     "ename": "NameError",
     "evalue": "name 'raw_data' is not defined",
     "output_type": "error",
     "traceback": [
      "\u001b[0;31m---------------------------------------------------------------------------\u001b[0m",
      "\u001b[0;31mNameError\u001b[0m                                 Traceback (most recent call last)",
      "\u001b[0;32m<ipython-input-512-94a1eb75bb36>\u001b[0m in \u001b[0;36m<module>\u001b[0;34m\u001b[0m\n\u001b[0;32m----> 1\u001b[0;31m \u001b[0mdf\u001b[0m \u001b[0;34m=\u001b[0m \u001b[0mload_data\u001b[0m\u001b[0;34m(\u001b[0m\u001b[0;34m)\u001b[0m\u001b[0;34m\u001b[0m\u001b[0;34m\u001b[0m\u001b[0m\n\u001b[0m\u001b[1;32m      2\u001b[0m \u001b[0mvisualize_data\u001b[0m\u001b[0;34m(\u001b[0m\u001b[0mdf\u001b[0m\u001b[0;34m)\u001b[0m\u001b[0;34m\u001b[0m\u001b[0;34m\u001b[0m\u001b[0m\n\u001b[1;32m      3\u001b[0m \u001b[0mdf\u001b[0m \u001b[0;34m=\u001b[0m \u001b[0mpre_processing\u001b[0m\u001b[0;34m(\u001b[0m\u001b[0mdf\u001b[0m\u001b[0;34m)\u001b[0m\u001b[0;34m\u001b[0m\u001b[0;34m\u001b[0m\u001b[0m\n\u001b[1;32m      4\u001b[0m \u001b[0mx_train\u001b[0m\u001b[0;34m,\u001b[0m \u001b[0mx_val\u001b[0m\u001b[0;34m,\u001b[0m \u001b[0my_train\u001b[0m\u001b[0;34m,\u001b[0m \u001b[0my_val\u001b[0m \u001b[0;34m=\u001b[0m \u001b[0msplit_data\u001b[0m\u001b[0;34m(\u001b[0m\u001b[0mdf\u001b[0m\u001b[0;34m,\u001b[0m\u001b[0;34m)\u001b[0m\u001b[0;34m\u001b[0m\u001b[0;34m\u001b[0m\u001b[0m\n",
      "\u001b[0;32m<ipython-input-511-358ac40f2c5a>\u001b[0m in \u001b[0;36mload_data\u001b[0;34m(data_path)\u001b[0m\n\u001b[1;32m      3\u001b[0m     \u001b[0;31m#Seu código aqui\u001b[0m\u001b[0;34m\u001b[0m\u001b[0;34m\u001b[0m\u001b[0;34m\u001b[0m\u001b[0m\n\u001b[1;32m      4\u001b[0m \u001b[0;34m\u001b[0m\u001b[0m\n\u001b[0;32m----> 5\u001b[0;31m     \u001b[0;32mreturn\u001b[0m \u001b[0mraw_data\u001b[0m\u001b[0;34m\u001b[0m\u001b[0;34m\u001b[0m\u001b[0m\n\u001b[0m\u001b[1;32m      6\u001b[0m \u001b[0;34m\u001b[0m\u001b[0m\n\u001b[1;32m      7\u001b[0m \u001b[0;32mdef\u001b[0m \u001b[0mpre_processing\u001b[0m\u001b[0;34m(\u001b[0m\u001b[0mraw_data\u001b[0m\u001b[0;34m:\u001b[0m\u001b[0mpd\u001b[0m\u001b[0;34m.\u001b[0m\u001b[0mDataFrame\u001b[0m\u001b[0;34m)\u001b[0m\u001b[0;34m->\u001b[0m \u001b[0mpd\u001b[0m\u001b[0;34m.\u001b[0m\u001b[0mDataFrame\u001b[0m\u001b[0;34m:\u001b[0m\u001b[0;34m\u001b[0m\u001b[0;34m\u001b[0m\u001b[0m\n",
      "\u001b[0;31mNameError\u001b[0m: name 'raw_data' is not defined"
     ]
    }
   ],
   "source": [
    "df = load_data()\n",
    "visualize_data(df)\n",
    "df = pre_processing(df)\n",
    "x_train, x_val, y_train, y_val = split_data(df,)"
   ]
  },
  {
   "cell_type": "markdown",
   "metadata": {},
   "source": [
    "# <font color='blue'>Questão 4 </font>\n",
    "Agora que você ja ganhou uma familiaridade com a API Keras, escreva sozinho do começo ao fim um modelo que ira dizer se amanhã vai chover ou não e avalie sua performance.\n"
   ]
  },
  {
   "cell_type": "markdown",
   "metadata": {},
   "source": [
    "# Seu código aqui"
   ]
  }
 ],
 "metadata": {
  "kernelspec": {
   "display_name": "Python 3",
   "language": "python",
   "name": "python3"
  },
  "language_info": {
   "codemirror_mode": {
    "name": "ipython",
    "version": 3
   },
   "file_extension": ".py",
   "mimetype": "text/x-python",
   "name": "python",
   "nbconvert_exporter": "python",
   "pygments_lexer": "ipython3",
   "version": "3.8.2"
  }
 },
 "nbformat": 4,
 "nbformat_minor": 4
}
