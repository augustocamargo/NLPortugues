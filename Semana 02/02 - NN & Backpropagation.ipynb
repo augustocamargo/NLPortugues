{
 "cells": [
  {
   "cell_type": "markdown",
   "metadata": {},
   "source": [
    "<img src=\"https://raw.githubusercontent.com/alan-barzilay/NLPortugues/master/imagens/logo_nlportugues.png\"  style=\"height:65%\" align=\"right\">\n",
    "\n",
    "\n",
    "# Lista 2 - NN & Backpropagation\n",
    "**Nome:**\n",
    "\n",
    "**Numero Usp:**\n",
    "\n",
    "\n",
    "_________________________________________\n",
    "\n",
    "Antes de começar o exercício,  não se esqueça de instalar todos os pacotes necessários para a sua execução.  "
   ]
  },
  {
   "cell_type": "code",
   "execution_count": 449,
   "metadata": {},
   "outputs": [
    {
     "data": {
      "text/plain": [
       "'2.3.0'"
      ]
     },
     "execution_count": 449,
     "metadata": {},
     "output_type": "execute_result"
    }
   ],
   "source": [
    "import tensorflow as tf\n",
    "tf.get_logger().setLevel('INFO')\n",
    "import tensorflow_addons as tfa\n",
    "import pandas as pd\n",
    "import numpy as np\n",
    "import matplotlib.pyplot as plt\n",
    "import seaborn as sns\n",
    "from tensorflow import keras\n",
    "from tensorflow.python.keras.layers import LeakyReLU\n",
    "from sklearn.model_selection import train_test_split\n",
    "from tqdm import tqdm, tqdm_notebook\n",
    "%matplotlib inline\n",
    "tf.__version__"
   ]
  },
  {
   "cell_type": "markdown",
   "metadata": {},
   "source": [
    "## Perceptron\n",
    "\n",
    "O perceptron é uma \"rede neural\" de um só neurônio.  No nosso caso, temos a rede mais simpes possível, com uma só entrada e uma só saída, sem ativação.\n",
    "\n",
    "Temos 100 dados que serão usados para treinar 300 épocas do percéptron.\n",
    "\n",
    "Vamos utilizar o modelo perceptron para aprender uma simples regressão linear, o objetivo é faze-lo aprender uma simples equação linear e tambem se acostumar com a sintaxe e funcionamento do TensorFlow\n"
   ]
  },
  {
   "cell_type": "code",
   "execution_count": 450,
   "metadata": {},
   "outputs": [],
   "source": [
    "def f1(x):\n",
    "    '''\n",
    "    Funcao a ser aprendida\n",
    "    '''\n",
    "    return 5 + 10*x"
   ]
  },
  {
   "cell_type": "code",
   "execution_count": 451,
   "metadata": {},
   "outputs": [
    {
     "name": "stdout",
     "output_type": "stream",
     "text": [
      "100 xs= [ 0.          0.1010101   0.2020202   0.3030303   0.4040404   0.50505051\n",
      "  0.60606061  0.70707071  0.80808081  0.90909091  1.01010101  1.11111111\n",
      "  1.21212121  1.31313131  1.41414141  1.51515152  1.61616162  1.71717172\n",
      "  1.81818182  1.91919192  2.02020202  2.12121212  2.22222222  2.32323232\n",
      "  2.42424242  2.52525253  2.62626263  2.72727273  2.82828283  2.92929293\n",
      "  3.03030303  3.13131313  3.23232323  3.33333333  3.43434343  3.53535354\n",
      "  3.63636364  3.73737374  3.83838384  3.93939394  4.04040404  4.14141414\n",
      "  4.24242424  4.34343434  4.44444444  4.54545455  4.64646465  4.74747475\n",
      "  4.84848485  4.94949495  5.05050505  5.15151515  5.25252525  5.35353535\n",
      "  5.45454545  5.55555556  5.65656566  5.75757576  5.85858586  5.95959596\n",
      "  6.06060606  6.16161616  6.26262626  6.36363636  6.46464646  6.56565657\n",
      "  6.66666667  6.76767677  6.86868687  6.96969697  7.07070707  7.17171717\n",
      "  7.27272727  7.37373737  7.47474747  7.57575758  7.67676768  7.77777778\n",
      "  7.87878788  7.97979798  8.08080808  8.18181818  8.28282828  8.38383838\n",
      "  8.48484848  8.58585859  8.68686869  8.78787879  8.88888889  8.98989899\n",
      "  9.09090909  9.19191919  9.29292929  9.39393939  9.49494949  9.5959596\n",
      "  9.6969697   9.7979798   9.8989899  10.        ]\n",
      "100 ys= [  5.           6.01010101   7.02020202   8.03030303   9.04040404\n",
      "  10.05050505  11.06060606  12.07070707  13.08080808  14.09090909\n",
      "  15.1010101   16.11111111  17.12121212  18.13131313  19.14141414\n",
      "  20.15151515  21.16161616  22.17171717  23.18181818  24.19191919\n",
      "  25.2020202   26.21212121  27.22222222  28.23232323  29.24242424\n",
      "  30.25252525  31.26262626  32.27272727  33.28282828  34.29292929\n",
      "  35.3030303   36.31313131  37.32323232  38.33333333  39.34343434\n",
      "  40.35353535  41.36363636  42.37373737  43.38383838  44.39393939\n",
      "  45.4040404   46.41414141  47.42424242  48.43434343  49.44444444\n",
      "  50.45454545  51.46464646  52.47474747  53.48484848  54.49494949\n",
      "  55.50505051  56.51515152  57.52525253  58.53535354  59.54545455\n",
      "  60.55555556  61.56565657  62.57575758  63.58585859  64.5959596\n",
      "  65.60606061  66.61616162  67.62626263  68.63636364  69.64646465\n",
      "  70.65656566  71.66666667  72.67676768  73.68686869  74.6969697\n",
      "  75.70707071  76.71717172  77.72727273  78.73737374  79.74747475\n",
      "  80.75757576  81.76767677  82.77777778  83.78787879  84.7979798\n",
      "  85.80808081  86.81818182  87.82828283  88.83838384  89.84848485\n",
      "  90.85858586  91.86868687  92.87878788  93.88888889  94.8989899\n",
      "  95.90909091  96.91919192  97.92929293  98.93939394  99.94949495\n",
      " 100.95959596 101.96969697 102.97979798 103.98989899 105.        ]\n"
     ]
    }
   ],
   "source": [
    "xs = np.linspace(0,10,100)  # gera 100 valores no intervalo [0.10]\n",
    "ys = f1(xs)                 # computa o valor de f1 nestes 100 valores\n",
    "print(len(xs), \"xs=\", xs)\n",
    "print(len(ys), \"ys=\", ys)\n"
   ]
  },
  {
   "cell_type": "code",
   "execution_count": 452,
   "metadata": {
    "scrolled": true
   },
   "outputs": [],
   "source": [
    "#Definindo, compilando e treinando nosso modelo\n",
    "model = tf.keras.Sequential([\n",
    "    keras.Input(shape=(1,)),\n",
    "    keras.layers.Dense(units=1),\n",
    "])\n",
    "\n",
    "model.compile(optimizer=\"sgd\", loss=\"mean_squared_error\")\n",
    "# model.fit(xs,ys,epochs=300)"
   ]
  },
  {
   "cell_type": "code",
   "execution_count": 453,
   "metadata": {},
   "outputs": [
    {
     "name": "stdout",
     "output_type": "stream",
     "text": [
      "Model: \"sequential_74\"\n",
      "_________________________________________________________________\n",
      "Layer (type)                 Output Shape              Param #   \n",
      "=================================================================\n",
      "dense_209 (Dense)            (None, 1)                 2         \n",
      "=================================================================\n",
      "Total params: 2\n",
      "Trainable params: 2\n",
      "Non-trainable params: 0\n",
      "_________________________________________________________________\n"
     ]
    }
   ],
   "source": [
    "model.summary()"
   ]
  },
  {
   "cell_type": "code",
   "execution_count": 454,
   "metadata": {},
   "outputs": [
    {
     "name": "stdout",
     "output_type": "stream",
     "text": [
      "prediction: [[5.95287]]      real value: 175\n"
     ]
    }
   ],
   "source": [
    "print(\"prediction: \"+ str(model.predict([17]))+\"      real value: \" + str(f1(17)))"
   ]
  },
  {
   "cell_type": "code",
   "execution_count": 455,
   "metadata": {},
   "outputs": [
    {
     "name": "stdout",
     "output_type": "stream",
     "text": [
      "WARNING:tensorflow:6 out of the last 11 calls to <function Model.make_test_function.<locals>.test_function at 0x7fac806daee0> triggered tf.function retracing. Tracing is expensive and the excessive number of tracings could be due to (1) creating @tf.function repeatedly in a loop, (2) passing tensors with different shapes, (3) passing Python objects instead of tensors. For (1), please define your @tf.function outside of the loop. For (2), @tf.function has experimental_relax_shapes=True option that relaxes argument shapes that can avoid unnecessary retracing. For (3), please refer to https://www.tensorflow.org/tutorials/customization/performance#python_or_tensor_args and https://www.tensorflow.org/api_docs/python/tf/function for  more details.\n",
      "2/2 [==============================] - 0s 534us/step - loss: 3636.4983\n"
     ]
    },
    {
     "data": {
      "text/plain": [
       "3636.498291015625"
      ]
     },
     "execution_count": 455,
     "metadata": {},
     "output_type": "execute_result"
    }
   ],
   "source": [
    "val = np.linspace(0,10,63)\n",
    "model.evaluate(x=val, y=f1(val))"
   ]
  },
  {
   "cell_type": "markdown",
   "metadata": {},
   "source": [
    "A função `evaluate` retorna o \"custo\" (loss) da avaliação, definido na compilação.  Nesse caso, o valor reportado é o erro quadrático médio (MSE). "
   ]
  },
  {
   "cell_type": "markdown",
   "metadata": {},
   "source": [
    "## Aprendendo uma função não linear"
   ]
  },
  {
   "cell_type": "code",
   "execution_count": 456,
   "metadata": {},
   "outputs": [],
   "source": [
    "def f2(x):\n",
    "    '''\n",
    "    Funcao não linear a ser aprendida\n",
    "    '''\n",
    "    return (x**2 + x*3 + 4)/200"
   ]
  },
  {
   "cell_type": "code",
   "execution_count": 457,
   "metadata": {},
   "outputs": [],
   "source": [
    "x = np.linspace(0,10,100)\n",
    "y = f2(x)"
   ]
  },
  {
   "cell_type": "markdown",
   "metadata": {},
   "source": [
    "# <font color='blue'>Questão 1 </font>\n",
    "Defina as camadas para esta rede neural e treine seu modelo, note que a saída unitária _não deve_ ter função de ativação (por que?)."
   ]
  },
  {
   "cell_type": "code",
   "execution_count": 458,
   "metadata": {},
   "outputs": [],
   "source": [
    "# A saída unitária não deve ter função de ativação pq não iremos normalizar os dados de saída."
   ]
  },
  {
   "cell_type": "code",
   "execution_count": null,
   "metadata": {},
   "outputs": [],
   "source": []
  },
  {
   "cell_type": "code",
   "execution_count": 459,
   "metadata": {},
   "outputs": [],
   "source": [
    "def job(activation,optimizer,loss):\n",
    "        #create model\n",
    "        model = tf.keras.Sequential([    \n",
    "            keras.Input(shape=(1,)),\n",
    "            keras.layers.Dense(units=32,activation=activation),\n",
    "            keras.layers.Dense(units=16,activation=activation),\n",
    "            keras.layers.Dense(units=8,activation=activation),\n",
    "            keras.layers.Dense(units=1),\n",
    "        ])\n",
    "\n",
    "        #compile model\n",
    "        model.compile(optimizer=optimizer, loss=loss)     \n",
    "\n",
    "        #fit model\n",
    "        history = model.fit(x,y,epochs=400,verbose=0)\n",
    "\n",
    "        # list all data in history\n",
    "        #    print(history.history.keys())\n",
    "        \n",
    "        #summary = model.summary()\n",
    "        x_val = np.linspace(0,10,63)\n",
    "        y_val = f2(x_val)\n",
    "        x_val_tensor =  tf.convert_to_tensor(x_val)\n",
    "        loss = model.evaluate(x=x_val_tensor,y=y_val)\n",
    "        \n",
    "        fx_= np.array([])\n",
    "        pred_ =  np.array([])\n",
    "        for i in range(-100,100):\n",
    "            pred = model.predict([i])[0][0]\n",
    "            f= f2(i)\n",
    "            fx_ = np.insert(fx_,0,f)\n",
    "            pred_ = np.insert(pred_,0,pred)\n",
    "        er = (f-pred)/f*100\n",
    "        \n",
    "        \n",
    "        \n",
    "        \n",
    "        return history, loss, fx_, pred_\n",
    "        "
   ]
  },
  {
   "cell_type": "code",
   "execution_count": null,
   "metadata": {},
   "outputs": [
    {
     "name": "stdout",
     "output_type": "stream",
     "text": [
      "WARNING:tensorflow:6 out of the last 11 calls to <function Model.make_test_function.<locals>.test_function at 0x7fac8025a8b0> triggered tf.function retracing. Tracing is expensive and the excessive number of tracings could be due to (1) creating @tf.function repeatedly in a loop, (2) passing tensors with different shapes, (3) passing Python objects instead of tensors. For (1), please define your @tf.function outside of the loop. For (2), @tf.function has experimental_relax_shapes=True option that relaxes argument shapes that can avoid unnecessary retracing. For (3), please refer to https://www.tensorflow.org/tutorials/customization/performance#python_or_tensor_args and https://www.tensorflow.org/api_docs/python/tf/function for  more details.\n",
      "2/2 [==============================] - 0s 505us/step - loss: 4.4737e-05\n"
     ]
    }
   ],
   "source": [
    "history_relu, loss_relu, fx_relu, pred_relu=job(\"relu\",\"adam\",\"mean_squared_error\")\n",
    "\n",
    "history_sigmoid, loss_sigmoid, fx_sigmoid, pred_sigmoid=job(\"sigmoid\",\"adam\",\"mean_squared_error\")\n",
    "history_tanh, loss_tanh, fx_tanh, pred_tanh=job(\"tanh\",\"adam\",\"mean_squared_error\")"
   ]
  },
  {
   "cell_type": "code",
   "execution_count": null,
   "metadata": {},
   "outputs": [],
   "source": [
    "print(\"loss_relu: \" + str(loss_relu))\n",
    "print(\"loss_sigmoid: \" + str(loss_sigmoid))\n",
    "print(\"loss_tanh:\" + str(loss_tanh))"
   ]
  },
  {
   "cell_type": "code",
   "execution_count": null,
   "metadata": {},
   "outputs": [],
   "source": [
    "# summarize history for loss\n",
    "line, = plt.plot(history_relu.history['loss'], label='relu')\n",
    "plt.legend()\n",
    "line, = plt.plot(history_sigmoid.history['loss'], label= 'sigmoid')\n",
    "plt.legend()\n",
    "line, = plt.plot(history_tanh.history['loss'], label= 'tanh')\n",
    "plt.legend()\n",
    "plt.title('model loss')\n",
    "plt.ylabel('loss')\n",
    "plt.xlabel('epoch')\n",
    "plt.rcParams[\"figure.figsize\"] = (15,20)\n",
    "plt.show()"
   ]
  },
  {
   "cell_type": "code",
   "execution_count": null,
   "metadata": {},
   "outputs": [],
   "source": []
  },
  {
   "cell_type": "code",
   "execution_count": null,
   "metadata": {},
   "outputs": [],
   "source": []
  },
  {
   "cell_type": "code",
   "execution_count": null,
   "metadata": {},
   "outputs": [],
   "source": [
    "\n"
   ]
  },
  {
   "cell_type": "markdown",
   "metadata": {},
   "source": [
    "____________________________\n",
    "# <font color='blue'>Questão 2 </font>\n",
    "\n",
    "\n",
    "\n",
    "O que acontece se você muda as funções de ativação? Teste algumas diferentes e descreva seus resultados, em especial a tangente hiperbolica\n",
    "\n"
   ]
  },
  {
   "cell_type": "markdown",
   "metadata": {},
   "source": [
    "\n",
    "**<font color='red'> Sua resposta aqui </font>**"
   ]
  },
  {
   "cell_type": "markdown",
   "metadata": {},
   "source": [
    "\n",
    "O que acontece se você mudar a função de otimização? Teste diferentes funções e descreva seus resultados, em especial as funções SDG e RMSprop\n"
   ]
  },
  {
   "cell_type": "markdown",
   "metadata": {},
   "source": [
    "Volte a primeira parte desse notebook e troque a função de ativação da rede de uma camada (pérceptron) de sdg para adam, o que acontece?\n",
    "\n"
   ]
  },
  {
   "cell_type": "markdown",
   "metadata": {},
   "source": [
    "\n",
    "**<font color='red'> Sua resposta aqui </font>**"
   ]
  },
  {
   "cell_type": "markdown",
   "metadata": {},
   "source": [
    "A avaliação de performance que realizamos foi apenas para pontos contidos no mesmo intervalo que o conjunto de treino, ou seja, foi apenas uma interpolação. Sem alterar sua rede repita o teste realizando uma extrapolação, com pontos fora do intervalo [0;10] e descreva seus resultados. O que aconteceu com a performance?"
   ]
  },
  {
   "cell_type": "code",
   "execution_count": null,
   "metadata": {},
   "outputs": [],
   "source": [
    "\n",
    "\n",
    "# Exeperimentos feitos com pontos [-100,100] com o código abaixo e com 3 funções de ativação mostraram que resultados das predições tentando extraploar os dados\n",
    "# foram péssimos. Vide gráfico acima.\n",
    "f_= np.array([])\n",
    "p =  np.array([])\n",
    "result=[]\n",
    "for i in range(-100,100):\n",
    "    pred = model.predict([i])[0][0]\n",
    "    f= f2(i)\n",
    "    f_ = np.insert(f_,0,f)\n",
    "    p = np.insert(p,0,pred)\n",
    "    er = (f-pred)/f*100\n",
    "    result.append(f-pred)\n",
    "    #print(np.mean(result))\n",
    "    #print(np.std(result))\n",
    "    std=np.std(result)\n",
    "    avg=np.mean(result)\n",
    "    #print(\"avg:\" + str(avg))\n",
    "    #print(\"cv:\" + str(std/avg*100))\n",
    "    #print(\"i:\" +str(i) + \" f: \" + str(f) + \" pred: \" + str(pred)+ \" err: \" + str(round(er,2)) + \"%\")\n",
    "z=(f_-p)/f*100\n",
    "z_=(f_-p)\n",
    "#print('\\nfx')\n",
    "#print(f_)\n",
    "#rint('\\npred')\n",
    "#print(p)\n",
    "#print('\\nvariacao%')\n",
    "#print(z)\n",
    "#print('\\nerr std')\n",
    "#print(np.std(z_))\n",
    "#print('\\nerr avg')\n",
    "#print(np.mean(z_))\n",
    "#print('\\nerr cv%')\n",
    "#print(np.std(z_)/np.mean(z_)*100)\n",
    "line, = plt.plot(f_, label='f(x)')\n",
    "plt.legend()\n",
    "line, = plt.plot(p,label='prediction')\n",
    "plt.legend()\n",
    "plt.rcParams[\"figure.figsize\"] = (15,20)\n",
    "plt.show()\n"
   ]
  },
  {
   "cell_type": "markdown",
   "metadata": {},
   "source": [
    "\n",
    "**<font color='red'> Sua resposta aqui </font>**"
   ]
  },
  {
   "cell_type": "markdown",
   "metadata": {},
   "source": [
    "# Prevendo se vai chover na Austrália"
   ]
  },
  {
   "cell_type": "markdown",
   "metadata": {},
   "source": [
    "## Pré processamento dos dados\n",
    "Já definimos uma função basica para lhe ajudar a explorar os dados, você precisara escrever uma função para carregar os dados, uma de pré-processamento e outra para fazer a separação em teste e treino."
   ]
  },
  {
   "cell_type": "code",
   "execution_count": null,
   "metadata": {},
   "outputs": [],
   "source": [
    "def visualize_data(data):\n",
    "    \"\"\"Gera graficos das distribuicoes das features e salva em disco\"\"\"\n",
    "\n",
    "    ibm_pltt = ['#648FFF', '#785EF0', '#DC267F',\n",
    "                '#FE6100', '#FFB000']  # Paleta colorblind-friendly\n",
    "    plt.figure(figsize=(8, 6))\n",
    "\n",
    "    # RainToday:\n",
    "    sns.set()\n",
    "    sns.set_palette(sns.color_palette([ibm_pltt[2], ibm_pltt[0]]))\n",
    "    sns.countplot(data.RainToday)\n",
    "    plt.xlabel('Choveu Hoje?')\n",
    "    plt.ylabel('Contagem')\n",
    "    plt.title(\"Valores de 'RainToday' para os dados pré-processados\")\n",
    "    plt.savefig('data_RainToday.png')\n",
    "    plt.clf()\n",
    "\n",
    "    # RainTomorrow:\n",
    "    sns.set()\n",
    "    sns.set_palette(sns.color_palette([ibm_pltt[3], ibm_pltt[1]]))\n",
    "    sns.countplot(data.RainTomorrow)\n",
    "    plt.xlabel('Choverá Amanhã?')\n",
    "    plt.ylabel('Contagem')\n",
    "    plt.title(\"Valores de 'RainTomorrow' para os dados pré-processados\")\n",
    "    plt.savefig('data_Rainomorrow.png')\n",
    "    plt.clf()\n",
    "\n",
    "    # Humidity3pm:\n",
    "    sns.set()\n",
    "    sns.distplot(data.Humidity3pm, color=ibm_pltt[0])\n",
    "    plt.xlabel('Umidade às 3PM')\n",
    "    plt.ylabel('Densidade normalizada')\n",
    "    plt.title(\"Distribuição da variável 'Humidity3pm' para os dados pré-processados\")\n",
    "    plt.savefig('data_Humidity3pm.png')\n",
    "    plt.clf()\n",
    "\n",
    "    # Pressure9am:\n",
    "    sns.set()\n",
    "    sns.distplot(data.Pressure9am, color=ibm_pltt[4])\n",
    "    plt.xlabel('Pressão atmosférica às 9AM')\n",
    "    plt.ylabel('Densidade normalizada')\n",
    "    plt.title(\"Distribuição da variável 'Pressure9amm' para os dados pré-processados\")\n",
    "    plt.savefig('data_Pressure9am.png')\n",
    "    plt.clf()\n",
    "\n",
    "    # Rainfall:\n",
    "    sns.set()\n",
    "    sns.distplot(data.Rainfall, color=ibm_pltt[1], bins=500, kde=False)\n",
    "    plt.xlim(0, 10)\n",
    "    plt.xlabel('Pluviosidade')\n",
    "    plt.ylabel('Densidade normalizada')\n",
    "    plt.title(\"Distribuição da variável 'Rainfall' para os dados pré-processados\")\n",
    "    plt.savefig('data_Rainfall.png')\n",
    "    plt.clf()\n",
    "\n",
    "    return\n"
   ]
  },
  {
   "cell_type": "markdown",
   "metadata": {},
   "source": [
    "# <font color='blue'>Questão 3 </font>\n",
    "Complete as funções aqui descritas seguindo a assinatura sugerida\n",
    "\n",
    "Para separar em treino e teste, de uma olhada na função [train_test_split()](https://scikit-learn.org/stable/modules/generated/sklearn.model_selection.train_test_split.html) do Scikit-Learn"
   ]
  },
  {
   "cell_type": "code",
   "execution_count": null,
   "metadata": {},
   "outputs": [],
   "source": [
    "def load_data(data_path='data/weatherAUS.csv')-> pd.DataFrame:\n",
    "    \"\"\"Funcao que importa dados de um arquivo csv, usando pandas\"\"\"\n",
    "    #Seu código aqui\n",
    "\n",
    "    return raw_data\n",
    "\n",
    "def pre_processing(raw_data:pd.DataFrame)-> pd.DataFrame:\n",
    "    \"\"\"Funcao que filtra e limpa os dados meteorologicos para o treinamento\"\"\"\n",
    "    #Seu código aqui\n",
    "    \n",
    "\n",
    "    return processed_data\n",
    "\n",
    "\n",
    "def split_data(data:pd.DataFrame, val_size= 0.2)-> np.array:\n",
    "    \"\"\"Funcao que separa seus dados em teste e treino conforme a proporcao val_size\"\"\"\n",
    "    #Seu código aqui\n",
    "    \n",
    "   \n",
    "    return x_train, x_val, y_train, y_val\n"
   ]
  },
  {
   "cell_type": "code",
   "execution_count": null,
   "metadata": {},
   "outputs": [],
   "source": [
    "df = load_data()\n",
    "visualize_data(df)\n",
    "df = pre_processing(df)\n",
    "x_train, x_val, y_train, y_val = split_data(df,)"
   ]
  },
  {
   "cell_type": "markdown",
   "metadata": {},
   "source": [
    "# <font color='blue'>Questão 4 </font>\n",
    "Agora que você ja ganhou uma familiaridade com a API Keras, escreva sozinho do começo ao fim um modelo que ira dizer se amanhã vai chover ou não e avalie sua performance.\n"
   ]
  },
  {
   "cell_type": "markdown",
   "metadata": {},
   "source": [
    "# Seu código aqui"
   ]
  }
 ],
 "metadata": {
  "kernelspec": {
   "display_name": "Python 3",
   "language": "python",
   "name": "python3"
  },
  "language_info": {
   "codemirror_mode": {
    "name": "ipython",
    "version": 3
   },
   "file_extension": ".py",
   "mimetype": "text/x-python",
   "name": "python",
   "nbconvert_exporter": "python",
   "pygments_lexer": "ipython3",
   "version": "3.8.2"
  }
 },
 "nbformat": 4,
 "nbformat_minor": 4
}
