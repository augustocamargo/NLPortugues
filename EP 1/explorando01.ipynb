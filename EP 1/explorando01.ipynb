{
 "cells": [
  {
   "cell_type": "code",
   "execution_count": 1,
   "metadata": {},
   "outputs": [],
   "source": [
    "import numpy as np\n",
    "import random\n",
    "import matplotlib.pyplot as plt\n",
    "from utils.utils import normalizeRows, softmax\n",
    "from pprint import pprint\n",
    "\n",
    "random.seed(31415)\n",
    "np.random.seed(9265)"
   ]
  },
  {
   "cell_type": "code",
   "execution_count": 10,
   "metadata": {},
   "outputs": [
    {
     "data": {
      "text/plain": [
       "{'a': 0, 'b': 1, 'c': 2, 'd': 3, 'e': 4}"
      ]
     },
     "execution_count": 10,
     "metadata": {},
     "output_type": "execute_result"
    }
   ],
   "source": [
    "dummy_vectors = normalizeRows(np.random.randn(10, 3))\n",
    "dummy_tokens = dict([(\"a\", 0), (\"b\", 1), (\"c\", 2), (\"d\", 3), (\"e\", 4)])\n",
    "# dummy_vectors\n",
    "dummy_tokens"
   ]
  },
  {
   "cell_type": "code",
   "execution_count": 2,
   "metadata": {},
   "outputs": [
    {
     "name": "stdout",
     "output_type": "stream",
     "text": [
      "'dataset.getRandomContext(2)'\n",
      "('e', ['c', 'd', 'a', 'e'])\n",
      "'dataset.sampleTokenIdx()'\n",
      "4\n",
      "'dummy_vectors'\n",
      "array([[-0.96735714, -0.02182641,  0.25247529],\n",
      "       [ 0.73663029, -0.48088687, -0.47552459],\n",
      "       [-0.27323645,  0.12538062,  0.95374082],\n",
      "       [-0.56713774, -0.27178229, -0.77748902],\n",
      "       [-0.59609459,  0.7795666 ,  0.19221644],\n",
      "       [-0.6831809 , -0.04200519,  0.72904007],\n",
      "       [ 0.18289107,  0.76098587, -0.62245591],\n",
      "       [-0.61517874,  0.5147624 , -0.59713884],\n",
      "       [-0.33867074, -0.80966534, -0.47931635],\n",
      "       [-0.52629529, -0.78190408,  0.33412466]])\n",
      "'dummy_tokens'\n",
      "{'a': 0, 'b': 1, 'c': 2, 'd': 3, 'e': 4}\n"
     ]
    }
   ],
   "source": [
    "dataset = type('dummy', (), {})()\n",
    "\n",
    "def dummySampleTokenIdx():\n",
    "    return random.randint(0, 4)\n",
    "\n",
    "def getRandomContext(C):\n",
    "    tokens = [\"a\", \"b\", \"c\", \"d\", \"e\"]\n",
    "    return tokens[random.randint(0,4)], \\\n",
    "        [tokens[random.randint(0,4)] for i in range(2*C)]\n",
    "\n",
    "dataset.sampleTokenIdx = dummySampleTokenIdx\n",
    "dataset.getRandomContext = getRandomContext\n",
    "\n",
    "random.seed(31415)\n",
    "np.random.seed(9265)\n",
    "dummy_vectors = normalizeRows(np.random.randn(10, 3))\n",
    "dummy_tokens = dict([(\"a\", 0), (\"b\", 1), (\"c\", 2), (\"d\", 3), (\"e\", 4)])\n",
    "\n",
    "pprint( \"dataset.getRandomContext(2)\" )\n",
    "pprint( dataset.getRandomContext(2) )\n",
    "pprint( \"dataset.sampleTokenIdx()\" )\n",
    "pprint( dataset.sampleTokenIdx() )\n",
    "pprint( \"dummy_vectors\" )\n",
    "pprint( dummy_vectors )\n",
    "pprint( \"dummy_tokens\" )\n",
    "pprint( dummy_tokens )"
   ]
  },
  {
   "cell_type": "markdown",
   "metadata": {},
   "source": [
    "# Implementando a sigmoid"
   ]
  },
  {
   "cell_type": "code",
   "execution_count": 16,
   "metadata": {},
   "outputs": [
    {
     "data": {
      "text/plain": [
       "array([0.73105858])"
      ]
     },
     "execution_count": 16,
     "metadata": {},
     "output_type": "execute_result"
    }
   ],
   "source": [
    "def sigmoid(x):\n",
    "    \"\"\"\n",
    "    Computa a função sigmóide para a entrada.\n",
    "     Argumentos:\n",
    "     x - um escalar ou um numpy array\n",
    "     Retorna:\n",
    "     s - sigmóide (x)\n",
    "    \"\"\"\n",
    "\n",
    "    ### Seu código aqui (~1 Linha)\n",
    "    s = 1 / ( 1 + np.exp(-x) )\n",
    "\n",
    "    ### Fim do seu código\n",
    "\n",
    "    return s\n",
    "\n",
    "a = np.array([1])\n",
    "\n",
    "sigmoid(a)"
   ]
  },
  {
   "cell_type": "code",
   "execution_count": 59,
   "metadata": {},
   "outputs": [
    {
     "data": {
      "image/png": "[encoded data removed]",
      "text/plain": [
       "<Figure size 432x288 with 1 Axes>"
      ]
     },
     "metadata": {
      "needs_background": "light"
     },
     "output_type": "display_data"
    }
   ],
   "source": [
    "step = 100\n",
    "x1 = np.linspace(-10, 10, step, endpoint=True)\n",
    "x2 = sigmoid(x1)\n",
    "plt.plot(x1, x2)\n",
    "plt.show()"
   ]
  },
  {
   "cell_type": "code",
   "execution_count": 6,
   "metadata": {},
   "outputs": [],
   "source": [
    "# Argumentos:\n",
    "# centerWordVec - numpy ndarray, vetor da palavra central\n",
    "#                 com shape (comprimento do vetor da palavra,)\n",
    "#                 (v_c no enunciado pdf)\n",
    "# outsideWordIdx - inteiro, o índice da palavra externa\n",
    "#                 (o de u_o no enunciado pdf)\n",
    "# outsideVectors - matriz de vetores externos com shape (número de palavras no vocabulário, dimensão do embedding)\n",
    "#                 para todas as palavras do vocabulário, cada linha um vetor (U (|V| x n) no folheto em pdf)\n",
    "# dataset - necessário para amostragem negativa, não utilizado aqui.\n",
    "\n",
    "\n",
    "# v_c\n",
    "centerWordVec = np.array([1,2,3])\n",
    "# o de u_o\n",
    "outsideWordIdx = 1\n",
    "# U de shape |V| x n, onde n o tamanho arbitrario.\n",
    "outsideVectors = np.array([(1,2,3), (4,5,6), (7,8,9), (10,11,12)], dtype = float)\n",
    "\n",
    "windowSize1 = random.randint(1, 5)\n",
    "centerWord, context = dataset.getRandomContext(windowSize1)\n"
   ]
  },
  {
   "cell_type": "code",
   "execution_count": 8,
   "metadata": {},
   "outputs": [
    {
     "name": "stdout",
     "output_type": "stream",
     "text": [
      "'y    :[0. 1. 0. 0.]'\n",
      "'y_hat:[3.53262852e-24 2.31952279e-16 1.52299795e-08 9.99999985e-01]'\n",
      "('y_hat_w=o - 1:[ 3.53262852e-24 -1.00000000e+00  1.52299795e-08  '\n",
      " '9.99999985e-01]')\n",
      "'v_c :[1 2 3]'\n",
      "'UT :[[ 1.  2.  3.]\\n [ 4.  5.  6.]\\n [ 7.  8.  9.]\\n [10. 11. 12.]]'\n",
      "'vc_UT :[-54. -36. -18.   0.]'\n",
      "'y_hat :[ 3.53262852e-24 -1.00000000e+00  1.52299795e-08  9.99999985e-01]'\n",
      "'--------------------------------------------------'\n",
      "'loss: 36.00000001522998'\n",
      "'dJ_dv: [5.99999995 5.99999995 5.99999995]'\n",
      "'dJ_du:'\n"
     ]
    },
    {
     "data": {
      "text/plain": [
       "array([[ 3.53262852e-24,  7.06525704e-24,  1.05978856e-23],\n",
       "       [-1.00000000e+00, -2.00000000e+00, -3.00000000e+00],\n",
       "       [ 1.52299795e-08,  3.04599590e-08,  4.56899385e-08],\n",
       "       [ 9.99999985e-01,  1.99999997e+00,  2.99999995e+00]])"
      ]
     },
     "execution_count": 8,
     "metadata": {},
     "output_type": "execute_result"
    }
   ],
   "source": [
    "outsideVectors = np.array([(1,2,3), (4,5,6), (7,8,9), (10,11,12)], dtype = float)\n",
    "v_c = centerWordVec\n",
    "V_size = outsideVectors.shape[0]\n",
    "o = outsideWordIdx\n",
    "U = outsideVectors\n",
    "\n",
    "vc_UT = v_c.dot(U.T)\n",
    "y_hat = softmax( vc_UT )\n",
    "\n",
    "loss = -np.log( y_hat[outsideWordIdx] ) \n",
    "\n",
    "y = np.zeros(V_size)\n",
    "y[outsideWordIdx] = 1\n",
    "\n",
    "pprint(f\"y    :{y}\" )\n",
    "pprint(f\"y_hat:{y_hat}\" )\n",
    "\n",
    "y_diff = y_hat - y\n",
    "dJ_dv = U.T.dot( y_diff ) # dJ_dv = gradCenterVec\n",
    "# --- ok ate aqui\n",
    "\n",
    "\n",
    "y_hat[ outsideWordIdx ] = y_hat[ outsideWordIdx ] - 1\n",
    "pprint(f\"y_hat_w=o - 1:{y_hat}\" )\n",
    "\n",
    "dJ_du = np.zeros(outsideVectors.shape)\n",
    "for o in range(V_size):\n",
    "#     v_o = outsideVectors[o]\n",
    "    dJ_du[o] = v_c.dot(  y_diff[o] )\n",
    "\n",
    "\n",
    "pprint(f\"v_c :{v_c}\" )\n",
    "pprint(f\"UT :{U}\" )\n",
    "\n",
    "pprint(f\"vc_UT :{vc_UT}\" )\n",
    "pprint(f\"y_hat :{y_hat}\" )\n",
    "\n",
    "pprint(\"-\" * 50)\n",
    "\n",
    "pprint(f\"loss: {loss}\")\n",
    "pprint(f\"dJ_dv: {dJ_dv}\")\n",
    "pprint(\"dJ_du:\")\n",
    "dJ_du\n",
    "# U.shape\n",
    "# np.arange(V_size)"
   ]
  },
  {
   "cell_type": "code",
   "execution_count": 401,
   "metadata": {},
   "outputs": [
    {
     "name": "stdout",
     "output_type": "stream",
     "text": [
      "36.00000001522998\n",
      "[5.99999995 5.99999995 5.99999995]\n",
      "[[ 3.53262852e-24  7.06525704e-24  1.05978856e-23]\n",
      " [-1.00000000e+00 -2.00000000e+00 -3.00000000e+00]\n",
      " [ 1.52299795e-08  3.04599590e-08  4.56899385e-08]\n",
      " [ 9.99999985e-01  1.99999997e+00  2.99999995e+00]]\n"
     ]
    }
   ],
   "source": [
    "y_hat = softmax(np.dot(centerWordVec, outsideVectors.T))\n",
    "\n",
    "# loss = -np.log(softmax(np.dot(outsideVectors[outsideWordIdx], centerWordVec))) # wrong answer\n",
    "loss = -np.log(y_hat)[outsideWordIdx] # not sure why...???\n",
    "\n",
    "delta = y_hat.copy() # y_hat - y\n",
    "delta[outsideWordIdx] -= 1\n",
    "# part (b) of written part\n",
    "gradCenterVec = np.dot(outsideVectors.T, delta)\n",
    "# part (c) of written part\n",
    "gradOutsideVecs = np.dot(delta[:, np.newaxis], centerWordVec[np.newaxis, :]) # not sure why...???\n",
    "\n",
    "\n",
    "print( loss )\n",
    "print( gradCenterVec)\n",
    "print(gradOutsideVecs )"
   ]
  },
  {
   "cell_type": "code",
   "execution_count": 403,
   "metadata": {},
   "outputs": [
    {
     "name": "stdout",
     "output_type": "stream",
     "text": [
      "36.00000001522998\n",
      "[5.99999995 5.99999995 5.99999995]\n",
      "[[ 3.53262852e-24  7.06525704e-24  1.05978856e-23]\n",
      " [-1.00000000e+00 -2.00000000e+00 -3.00000000e+00]\n",
      " [ 1.52299795e-08  3.04599590e-08  4.56899385e-08]\n",
      " [ 9.99999985e-01  1.99999997e+00  2.99999995e+00]]\n"
     ]
    }
   ],
   "source": [
    "scores = outsideVectors @ centerWordVec\n",
    "prob = softmax(scores)[:, np.newaxis]\n",
    "\n",
    "loss = float(-np.log(prob[outsideWordIdx]))\n",
    "\n",
    "trueOutsideVec = outsideVectors[outsideWordIdx]\n",
    "gradCenterVec = -trueOutsideVec + np.sum(outsideVectors * prob, axis=0)\n",
    "\n",
    "gradOutsideVecs = np.dot(prob, centerWordVec[:, np.newaxis].T)\n",
    "gradOutsideVecs[outsideWordIdx] -= centerWordVec\n",
    "\n",
    "print( loss )\n",
    "print( gradCenterVec)\n",
    "print(gradOutsideVecs )"
   ]
  },
  {
   "cell_type": "markdown",
   "metadata": {},
   "source": [
    "# negSamplingLossAndGradient"
   ]
  },
  {
   "cell_type": "code",
   "execution_count": 9,
   "metadata": {},
   "outputs": [],
   "source": [
    "# Argumentos:\n",
    "# centerWordVec - numpy ndarray, vetor da palavra central\n",
    "#                 com shape (comprimento do vetor da palavra,)\n",
    "#                 (v_c no enunciado pdf)\n",
    "# outsideWordIdx - inteiro, o índice da palavra externa\n",
    "#                 (o de u_o no enunciado pdf)\n",
    "# outsideVectors - matriz de vetores externos com shape (número de palavras no vocabulário, dimensão do embedding)\n",
    "#                 para todas as palavras do vocabulário, cada linha um vetor (U (|V| x n) no folheto em pdf)\n",
    "# dataset - necessário para amostragem negativa, não utilizado aqui.\n",
    "\n",
    "#     Retorna:\n",
    "#     loss  -  naive softmax loss\n",
    "#     gradCenterVec - o gradiente em relação ao vetor da palavra central\n",
    "#                      com shape (dimensão do embedding,)\n",
    "#                      (dJ / dv_c no enunciado pdf)\n",
    "#     gradOutsideVecs - o gradiente em relação a todos os vetores de palavras externos\n",
    "#                     com shape (num palavras no vocabulário, dimensão do embedding)\n",
    "#                     (dJ / dU)\n",
    "#     \"\"\"\n",
    "\n",
    "# v_c\n",
    "centerWordVec = np.array([1,2,3])\n",
    "# o de u_o\n",
    "outsideWordIdx = 1\n",
    "# U de shape |V| x n, onde n o tamanho arbitrario.\n",
    "outsideVectors = np.array([(1,2,3), (4,5,6), (7,8,9), (10,11,12)], dtype = float)\n",
    "\n",
    "windowSize1 = random.randint(1, 5)\n",
    "centerWord, context = dataset.getRandomContext(windowSize1)"
   ]
  },
  {
   "cell_type": "code",
   "execution_count": 27,
   "metadata": {},
   "outputs": [
    {
     "name": "stdout",
     "output_type": "stream",
     "text": [
      "'v_c :[1 2 3]'\n",
      "'u_o :[4. 5. 6.]'\n",
      "'UT :[[ 1.  2.  3.]\\n [ 4.  5.  6.]\\n [ 7.  8.  9.]\\n [10. 11. 12.]]'\n",
      "'vc_UT :[-54. -36. -18.   0.]'\n",
      "'y_hat :[3.53262852e-24 2.31952279e-16 1.52299795e-08 9.99999985e-01]'\n",
      "'--------------------------------------------------'\n",
      "'loss: 36.00000001522998'\n"
     ]
    },
    {
     "data": {
      "text/plain": [
       "15"
      ]
     },
     "execution_count": 27,
     "metadata": {},
     "output_type": "execute_result"
    }
   ],
   "source": [
    "outsideVectors = np.array([(1,2,3), (4,5,6), (7,8,9), (10,11,12)], dtype = float)\n",
    "v_c = centerWordVec\n",
    "V_size = outsideVectors.shape[0]\n",
    "o = outsideWordIdx\n",
    "U = outsideVectors\n",
    "\n",
    "u_o = outsideVectors[outsideWordIdx]\n",
    "\n",
    "vc_UT = v_c.dot(U.T)\n",
    "y_hat = softmax( vc_UT )\n",
    "\n",
    "loss = -np.log( y_hat[outsideWordIdx] )\n",
    "\n",
    "\n",
    "pprint(f\"v_c :{v_c}\" )\n",
    "pprint(f\"u_o :{u_o}\" )\n",
    "\n",
    "pprint(f\"UT :{U}\" )\n",
    "\n",
    "pprint(f\"vc_UT :{vc_UT}\" )\n",
    "pprint(f\"y_hat :{y_hat}\" )\n",
    "\n",
    "pprint(\"-\" * 50)\n",
    "\n",
    "pprint(f\"loss: {loss}\")\n",
    "# pprint(f\"dJ_dv: {dJ_dv}\")\n",
    "# pprint(\"dJ_du:\")\n",
    "# dJ_du\n",
    "# U.shape\n",
    "# np.arange(V_size)\n",
    "\n",
    "- np.log( sigmoid( v_c.dot(u_o) ) )\n",
    "[1,2,3,4,5]\n",
    "np.sum([1,2,3,4,5])"
   ]
  },
  {
   "cell_type": "code",
   "execution_count": 60,
   "metadata": {},
   "outputs": [
    {
     "data": {
      "text/plain": [
       "array([-0.54822123,  0.36443576, -0.54822123, -0.46615005, -0.46615005,\n",
       "       -0.33688521,  0.36443576, -0.46615005, -0.33688521,  0.36443576])"
      ]
     },
     "execution_count": 60,
     "metadata": {},
     "output_type": "execute_result"
    }
   ],
   "source": [
    "vc = np.array( [-0.27323645,  0.12538062,  0.95374082] )\n",
    "uk = np.array(\n",
    "[[ 0.18289107,  0.76098587, -0.62245591],\n",
    " [-0.52629529, -0.78190408,  0.33412466],\n",
    " [ 0.18289107,  0.76098587, -0.62245591],\n",
    " [-0.33857074, -0.80966534, -0.47931635],\n",
    " [-0.33857074, -0.80966534, -0.47931635],\n",
    " [-0.61517874,  0.5147624,  -0.59713884],\n",
    " [-0.52629529, -0.78190408,  0.33412466],\n",
    " [-0.33857074, -0.80966534, -0.47931635],\n",
    " [-0.61517874,  0.5147624, -0.59713884],\n",
    " [-0.52629529, -0.78190408,  0.33412466]])\n",
    "uk_vc = np.array(\n",
    "    [-0.54822123,  0.36443576, -0.54822123, -0.46615005, -0.46615005, -0.33688521,\n",
    "      0.36443576, -0.46615005, -0.33688521,  0.36443576])\n",
    "\n",
    "uo = vc\n",
    "vc\n",
    "uk\n",
    "uk_vc"
   ]
  },
  {
   "attachments": {
    "image.png": {
     "image/png": "[encoded data removed]"
    }
   },
   "cell_type": "markdown",
   "metadata": {},
   "source": [
    "![image.png](attachment:image.png)"
   ]
  },
  {
   "cell_type": "code",
   "execution_count": 64,
   "metadata": {},
   "outputs": [
    {
     "data": {
      "text/plain": [
       "array([ 0.54822123, -0.36443576,  0.54822123,  0.46615005,  0.46615005,\n",
       "        0.33688521, -0.36443576,  0.46615005,  0.33688521, -0.36443576])"
      ]
     },
     "execution_count": 64,
     "metadata": {},
     "output_type": "execute_result"
    }
   ],
   "source": [
    "# -uo * (1 - sigmoid(uo_vc)) + np.sum(np.expand_dims(1 - sigmoid(-uk_vc), axis=1) * uk, axis=0)\n",
    "# np.expand_dims(1 - sigmoid(-uk_vc), axis=1)\n",
    "np.expand_dims(1 - sigmoid(-uk_vc), axis=1)\n",
    "-uk_vc"
   ]
  },
  {
   "cell_type": "code",
   "execution_count": 78,
   "metadata": {},
   "outputs": [
    {
     "data": {
      "text/plain": [
       "array([[0.3662772 ],\n",
       "       [0.59011378],\n",
       "       [0.3662772 ],\n",
       "       [0.38552788],\n",
       "       [0.38552788],\n",
       "       [0.41656629],\n",
       "       [0.59011378],\n",
       "       [0.38552788],\n",
       "       [0.41656629],\n",
       "       [0.59011378]])"
      ]
     },
     "execution_count": 78,
     "metadata": {},
     "output_type": "execute_result"
    }
   ],
   "source": [
    "np.expand_dims(1 - sigmoid(-uk_vc), axis=1) "
   ]
  },
  {
   "cell_type": "code",
   "execution_count": 72,
   "metadata": {},
   "outputs": [
    {
     "data": {
      "text/plain": [
       "array([[ 0.18289107,  0.76098587, -0.62245591],\n",
       "       [-0.52629529, -0.78190408,  0.33412466],\n",
       "       [ 0.18289107,  0.76098587, -0.62245591],\n",
       "       [-0.33857074, -0.80966534, -0.47931635],\n",
       "       [-0.33857074, -0.80966534, -0.47931635],\n",
       "       [-0.61517874,  0.5147624 , -0.59713884],\n",
       "       [-0.52629529, -0.78190408,  0.33412466],\n",
       "       [-0.33857074, -0.80966534, -0.47931635],\n",
       "       [-0.61517874,  0.5147624 , -0.59713884],\n",
       "       [-0.52629529, -0.78190408,  0.33412466]])"
      ]
     },
     "execution_count": 72,
     "metadata": {},
     "output_type": "execute_result"
    }
   ],
   "source": [
    "uk"
   ]
  },
  {
   "cell_type": "code",
   "execution_count": 76,
   "metadata": {},
   "outputs": [
    {
     "data": {
      "text/plain": [
       "array([[ 0.06698883,  0.27873177, -0.22799141],\n",
       "       [-0.3105741 , -0.46141237,  0.19717157],\n",
       "       [ 0.06698883,  0.27873177, -0.22799141],\n",
       "       [-0.13052846, -0.31214856, -0.18478982],\n",
       "       [-0.13052846, -0.31214856, -0.18478982],\n",
       "       [-0.25626273,  0.21443267, -0.24874791],\n",
       "       [-0.3105741 , -0.46141237,  0.19717157],\n",
       "       [-0.13052846, -0.31214856, -0.18478982],\n",
       "       [-0.25626273,  0.21443267, -0.24874791],\n",
       "       [-0.3105741 , -0.46141237,  0.19717157]])"
      ]
     },
     "execution_count": 76,
     "metadata": {},
     "output_type": "execute_result"
    }
   ],
   "source": [
    "np.expand_dims(1 - sigmoid(-uk_vc), axis=1) * uk"
   ]
  },
  {
   "cell_type": "code",
   "execution_count": 77,
   "metadata": {},
   "outputs": [
    {
     "data": {
      "text/plain": [
       "array([-1.70185549, -1.33435393, -0.91633339])"
      ]
     },
     "execution_count": 77,
     "metadata": {},
     "output_type": "execute_result"
    }
   ],
   "source": [
    "np.sum(np.expand_dims(1 - sigmoid(-uk_vc), axis=1) * uk, axis=0)"
   ]
  },
  {
   "cell_type": "code",
   "execution_count": 85,
   "metadata": {},
   "outputs": [
    {
     "data": {
      "text/plain": [
       "array([[ 0.18289107,  0.76098587, -0.62245591],\n",
       "       [-0.52629529, -0.78190408,  0.33412466],\n",
       "       [ 0.18289107,  0.76098587, -0.62245591],\n",
       "       [-0.33857074, -0.80966534, -0.47931635],\n",
       "       [-0.33857074, -0.80966534, -0.47931635],\n",
       "       [-0.61517874,  0.5147624 , -0.59713884],\n",
       "       [-0.52629529, -0.78190408,  0.33412466],\n",
       "       [-0.33857074, -0.80966534, -0.47931635],\n",
       "       [-0.61517874,  0.5147624 , -0.59713884],\n",
       "       [-0.52629529, -0.78190408,  0.33412466]])"
      ]
     },
     "execution_count": 85,
     "metadata": {},
     "output_type": "execute_result"
    }
   ],
   "source": [
    "# -uo * (1 - sigmoid(uo_vc)) \n",
    "uk"
   ]
  },
  {
   "cell_type": "code",
   "execution_count": 92,
   "metadata": {},
   "outputs": [
    {
     "name": "stdout",
     "output_type": "stream",
     "text": [
      "[ 0.18289107  0.76098587 -0.62245591]\n"
     ]
    },
    {
     "ename": "IndexError",
     "evalue": "arrays used as indices must be of integer (or boolean) type",
     "output_type": "error",
     "traceback": [
      "\u001b[0;31m---------------------------------------------------------------------------\u001b[0m",
      "\u001b[0;31mIndexError\u001b[0m                                Traceback (most recent call last)",
      "\u001b[0;32m<ipython-input-92-f0fb2e8324ec>\u001b[0m in \u001b[0;36m<module>\u001b[0;34m\u001b[0m\n\u001b[1;32m      1\u001b[0m \u001b[0;32mfor\u001b[0m \u001b[0mi\u001b[0m \u001b[0;32min\u001b[0m \u001b[0muk\u001b[0m\u001b[0;34m:\u001b[0m\u001b[0;34m\u001b[0m\u001b[0;34m\u001b[0m\u001b[0m\n\u001b[1;32m      2\u001b[0m     \u001b[0mprint\u001b[0m\u001b[0;34m(\u001b[0m\u001b[0mi\u001b[0m\u001b[0;34m)\u001b[0m\u001b[0;34m\u001b[0m\u001b[0;34m\u001b[0m\u001b[0m\n\u001b[0;32m----> 3\u001b[0;31m     \u001b[0muk\u001b[0m\u001b[0;34m[\u001b[0m\u001b[0mi\u001b[0m\u001b[0;34m]\u001b[0m \u001b[0;34m=\u001b[0m \u001b[0;36m0\u001b[0m\u001b[0;34m\u001b[0m\u001b[0;34m\u001b[0m\u001b[0m\n\u001b[0m",
      "\u001b[0;31mIndexError\u001b[0m: arrays used as indices must be of integer (or boolean) type"
     ]
    }
   ],
   "source": [
    "for i in uk:\n",
    "    print(i)\n",
    "    uk[i] = 0"
   ]
  }
 ],
 "metadata": {
  "kernelspec": {
   "display_name": "Python 3",
   "language": "python",
   "name": "python3"
  },
  "language_info": {
   "codemirror_mode": {
    "name": "ipython",
    "version": 3
   },
   "file_extension": ".py",
   "mimetype": "text/x-python",
   "name": "python",
   "nbconvert_exporter": "python",
   "pygments_lexer": "ipython3",
   "version": "3.7.4"
  }
 },
 "nbformat": 4,
 "nbformat_minor": 4
}
