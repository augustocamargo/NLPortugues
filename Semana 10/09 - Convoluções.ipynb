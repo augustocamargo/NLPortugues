{
 "cells": [
  {
   "cell_type": "markdown",
   "metadata": {},
   "source": [
    "<img src=\"https://github.com/alan-barzilay/NLPortugues/blob/master/imagens/logo_nlportugues.png?raw=true\"  style=\"height:65%\" align=\"right\">\n",
    "\n",
    "\n",
    "# Lista 9 -  Convoluções\n",
    "**Nome: Augusto Cesar de Camargo Neto**\n",
    "\n",
    "**Numero Usp: 11891023**\n",
    "\n",
    "\n",
    "\n",
    "\n",
    "\n",
    "\n",
    "\n",
    "\n",
    "\n",
    "______________\n",
    "\n"
   ]
  },
  {
   "cell_type": "markdown",
   "metadata": {},
   "source": [
    "\n",
    "O objetivo desta lista é fazer com que vocês se familiarizem com redes convolucionais, vocês ja tiveram um contato breve com essa arquitetura algumas listas atrás mas dessa vez vocês cuidarão sozinhos da implementação e deverão tomar medidas para evitar overfitting. Novamente, as questões 1 2 e 3 podem ser copiadas de listas anteriores."
   ]
  },
  {
   "cell_type": "code",
   "execution_count": 28,
   "metadata": {},
   "outputs": [],
   "source": [
    "import tensorflow as tf\n",
    "import numpy as np\n",
    "import pandas as pd\n",
    "import matplotlib.pyplot as plt\n",
    "from sklearn.model_selection import train_test_split\n",
    "from tensorflow.keras.layers.experimental.preprocessing import TextVectorization\n",
    "from unidecode import unidecode\n",
    "from tensorflow.keras.models import Sequential\n",
    "from tensorflow.keras.layers import Conv1D, MaxPooling1D, AveragePooling1D, Flatten, Dense, Dropout, Input, Embedding\n",
    "import nltk"
   ]
  },
  {
   "cell_type": "code",
   "execution_count": 2,
   "metadata": {},
   "outputs": [
    {
     "data": {
      "text/plain": [
       "'2.2.1'"
      ]
     },
     "execution_count": 2,
     "metadata": {},
     "output_type": "execute_result"
    }
   ],
   "source": [
    "tf.__version__"
   ]
  },
  {
   "cell_type": "markdown",
   "metadata": {},
   "source": [
    "### Importando os dados como um dataframe\n",
    "\n",
    "Para esta lista nós utilizaremos o dataset **B2W-Reviews01** que consiste em avaliações de mais de 130k compras online no site Americanas.com e [esta disponivel no github](https://github.com/b2wdigital/b2w-reviews01) sob a licensa CC BY-NC-SA 4.01."
   ]
  },
  {
   "cell_type": "code",
   "execution_count": 3,
   "metadata": {
    "scrolled": true
   },
   "outputs": [
    {
     "data": {
      "text/html": [
       "<div>\n",
       "<style scoped>\n",
       "    .dataframe tbody tr th:only-of-type {\n",
       "        vertical-align: middle;\n",
       "    }\n",
       "\n",
       "    .dataframe tbody tr th {\n",
       "        vertical-align: top;\n",
       "    }\n",
       "\n",
       "    .dataframe thead th {\n",
       "        text-align: right;\n",
       "    }\n",
       "</style>\n",
       "<table border=\"1\" class=\"dataframe\">\n",
       "  <thead>\n",
       "    <tr style=\"text-align: right;\">\n",
       "      <th></th>\n",
       "      <th>recommend_to_a_friend</th>\n",
       "      <th>review_text</th>\n",
       "    </tr>\n",
       "  </thead>\n",
       "  <tbody>\n",
       "    <tr>\n",
       "      <th>0</th>\n",
       "      <td>Yes</td>\n",
       "      <td>estou contente com a compra entrega rapida o u...</td>\n",
       "    </tr>\n",
       "    <tr>\n",
       "      <th>1</th>\n",
       "      <td>Yes</td>\n",
       "      <td>por apenas r$1994.20,eu consegui comprar esse ...</td>\n",
       "    </tr>\n",
       "    <tr>\n",
       "      <th>2</th>\n",
       "      <td>Yes</td>\n",
       "      <td>supera em agilidade e praticidade outras panel...</td>\n",
       "    </tr>\n",
       "    <tr>\n",
       "      <th>3</th>\n",
       "      <td>Yes</td>\n",
       "      <td>meu filho amou! parece de verdade com tantos d...</td>\n",
       "    </tr>\n",
       "    <tr>\n",
       "      <th>4</th>\n",
       "      <td>Yes</td>\n",
       "      <td>a entrega foi no prazo, as americanas estao de...</td>\n",
       "    </tr>\n",
       "  </tbody>\n",
       "</table>\n",
       "</div>"
      ],
      "text/plain": [
       "  recommend_to_a_friend                                        review_text\n",
       "0                   Yes  estou contente com a compra entrega rapida o u...\n",
       "1                   Yes  por apenas r$1994.20,eu consegui comprar esse ...\n",
       "2                   Yes  supera em agilidade e praticidade outras panel...\n",
       "3                   Yes  meu filho amou! parece de verdade com tantos d...\n",
       "4                   Yes  a entrega foi no prazo, as americanas estao de..."
      ]
     },
     "execution_count": 3,
     "metadata": {},
     "output_type": "execute_result"
    }
   ],
   "source": [
    "b2wCorpus = pd.read_csv(\"../Semana 03/data/B2W-Reviews01.csv\",\";\",usecols=['review_text','recommend_to_a_friend'], encoding='utf-8')\n",
    "for i, row in b2wCorpus.iterrows():\n",
    "    ifor_val = unidecode(row['review_text']).lower()\n",
    "    b2wCorpus.at[i,'review_text']= ifor_val\n",
    "b2wCorpus.head()"
   ]
  },
  {
   "cell_type": "code",
   "execution_count": 4,
   "metadata": {},
   "outputs": [
    {
     "data": {
      "text/plain": [
       "0         estou contente com a compra entrega rapida o u...\n",
       "1         por apenas r$1994.20,eu consegui comprar esse ...\n",
       "2         supera em agilidade e praticidade outras panel...\n",
       "3         meu filho amou! parece de verdade com tantos d...\n",
       "4         a entrega foi no prazo, as americanas estao de...\n",
       "                                ...                        \n",
       "132368    vale muito, estou usando no controle do xbox e...\n",
       "132369    pratico e barato, super indico o produto para ...\n",
       "132370    chegou antes do prazo previsto e corresponde a...\n",
       "132371    material fraco, poderia ser melhor. ficou deve...\n",
       "132372    comprei esse produto, quando chegou estava com...\n",
       "Name: review_text, Length: 132373, dtype: object"
      ]
     },
     "execution_count": 4,
     "metadata": {},
     "output_type": "execute_result"
    }
   ],
   "source": [
    "b2wCorpus[\"review_text\"]"
   ]
  },
  {
   "cell_type": "markdown",
   "metadata": {},
   "source": [
    "\n",
    "### Pré-processamento\n",
    "Seria util nos livrarmos das colunas que não são relevantes para o nosso problema e tambem verificar se não tem nada de esquisito nas colunas que vamos utilizar. \n",
    "Por exemplo, se fossemos utilizar a coluna \"reviewer_gender\" nós precisariamos nos livrar desses valores esquisitos:"
   ]
  },
  {
   "cell_type": "code",
   "execution_count": 5,
   "metadata": {},
   "outputs": [],
   "source": [
    "#b2wCorpus[\"reviewer_gender\"].value_counts()"
   ]
  },
  {
   "cell_type": "markdown",
   "metadata": {},
   "source": [
    "## <font color='blue'>Questão 1 </font>\n",
    "\n",
    "a) Selecione apenas as colunas relevantes: \"review_text\" e \"recommend_to_a_friend\". \n",
    "\n",
    "b) Converta a coluna \"recommend_to_a_friend\" de uma coluna de `str` para uma coluna de `int`:\n",
    "\n",
    "- \"Yes\"-> 1\n",
    "- \"No\" -> 0\n"
   ]
  },
  {
   "cell_type": "code",
   "execution_count": 6,
   "metadata": {},
   "outputs": [
    {
     "data": {
      "text/plain": [
       "1    96368\n",
       "0    36005\n",
       "Name: recommend_to_a_friend, dtype: int64"
      ]
     },
     "execution_count": 6,
     "metadata": {},
     "output_type": "execute_result"
    }
   ],
   "source": [
    "b2wCorpus['recommend_to_a_friend'] = b2wCorpus['recommend_to_a_friend'].apply(lambda word : 1 if str(word).lower() == 'yes' else 0)\n",
    "b2wCorpus.head()\n",
    "b2wCorpus[\"recommend_to_a_friend\"].value_counts()"
   ]
  },
  {
   "cell_type": "code",
   "execution_count": 7,
   "metadata": {},
   "outputs": [],
   "source": [
    "SEQUENCE_MAXLEN = 50\n"
   ]
  },
  {
   "cell_type": "markdown",
   "metadata": {},
   "source": [
    "### Separando em teste e treino\n",
    "## <font color='blue'>Questão 2 </font>\n",
    "\n",
    "Agora com o dataset já pré-processado, separe o em 2 partes, um conjunto de teste e um conjunto de treino. Novamente você pode utilizar a função [train_test_split()](https://scikit-learn.org/stable/modules/generated/sklearn.model_selection.train_test_split.html) do Scikit-Learn como na lista passada."
   ]
  },
  {
   "cell_type": "code",
   "execution_count": 8,
   "metadata": {},
   "outputs": [
    {
     "data": {
      "text/plain": [
       "1    96368\n",
       "0    36005\n",
       "Name: recommend_to_a_friend, dtype: int64"
      ]
     },
     "execution_count": 8,
     "metadata": {},
     "output_type": "execute_result"
    }
   ],
   "source": [
    "RANDOM_SEED = 42\n",
    "b2wCorpus.dropna(how='all')\n",
    "x = b2wCorpus['review_text'].values.astype('str')\n",
    "b2wCorpus['recommend_to_a_friend'] = b2wCorpus[['recommend_to_a_friend']].values.astype('int')\n",
    "y = b2wCorpus['recommend_to_a_friend'].values.astype('int')\n",
    "np.random.seed(RANDOM_SEED)\n",
    "x_train, x_val, y_train, y_val = train_test_split(x, y, test_size=0.2, random_state=RANDOM_SEED)\n",
    "b2wCorpus['recommend_to_a_friend'].value_counts()\n"
   ]
  },
  {
   "cell_type": "code",
   "execution_count": 31,
   "metadata": {},
   "outputs": [
    {
     "data": {
      "text/plain": [
       "1    83401\n",
       "0    27110\n",
       "Name: recommend_to_a_friend, dtype: int64"
      ]
     },
     "execution_count": 31,
     "metadata": {},
     "output_type": "execute_result"
    }
   ],
   "source": [
    "# Filtra somente frases com  10<tamanho do palavras<SEQUENCE_MAXLENb2wCorpus['ord'] = b2wCorpus.apply(lambda row: len(nltk.word_tokenize(row.review_text)), axis=1)\n",
    "b2wCorpus = b2wCorpus.drop(b2wCorpus[b2wCorpus.ord < 10].index)\n",
    "b2wCorpus = b2wCorpus.drop(b2wCorpus[b2wCorpus.ord > SEQUENCE_MAXLEN].index)\n",
    "b2wCorpus.reset_index(drop=True, inplace=True)\n",
    "b2wCorpus['recommend_to_a_friend'].value_counts()"
   ]
  },
  {
   "cell_type": "markdown",
   "metadata": {},
   "source": [
    "### Tokenizando\n",
    "\n",
    "Para alimentarmos os reviews a camada de embedding nós precisamos quebrar cada review em uma serie de tokens. Existem diversas maneiras de se realizar isso e poderiamos até mesmo usar outras bibliotecas como o spaCy. \n",
    "\n",
    "Por exemplo, o objeto [`Tokenizer`](https://www.tensorflow.org/api_docs/python/tf/keras/preprocessing/text/Tokenizer) oferece um método `tokenize` para quebrar as palavras em tokens individuais ao mesmo tempo que filtra caracteres indesejados (por default os caracteres filtrados são: !\"#$\\%&()*+,-./:;<=>?@[\\\\]^_\\`{|}~\\t\\n).\n",
    "\n",
    "\n",
    "Para essa lista utilizaremos a camada [`TextVectorization`](https://www.tensorflow.org/api_docs/python/tf/keras/layers/experimental/preprocessing/TextVectorization) para automaticamente passar os reviews para caixa-baixa, extrair caracteres especiais e tokenizar as palavras de maneira a serem passadas para a camada de embedding. Ao tornarmos a etapa de tokenização uma camada de rede neural nós podemos incluir esse processamento dos reviews no proprio modelo.\n"
   ]
  },
  {
   "cell_type": "markdown",
   "metadata": {},
   "source": [
    "## <font color='blue'>Questão 3 </font>\n",
    "Utilizando a camada `TextVectorization` tokenize os inputs.\n",
    "Declare a camada e então chame a função `adapt()` para adequar o seu vocabulário aos reviews.\n",
    "\n",
    "Não se esqueça de se certificar que todas os reviews tenham o mesmo comprimento, seja por meio do uso de padding, truncamento ou uma mistura dos dois. Plotamos um histograma do comprimento dos reviews para lhe auxiliar nessa decisão."
   ]
  },
  {
   "cell_type": "code",
   "execution_count": 32,
   "metadata": {},
   "outputs": [
    {
     "data": {
      "image/png": "[encoded data removed]",
      "text/plain": [
       "<Figure size 432x288 with 1 Axes>"
      ]
     },
     "metadata": {
      "needs_background": "light"
     },
     "output_type": "display_data"
    }
   ],
   "source": [
    "plt.hist([len(linha.split()) for linha in b2wCorpus[\"review_text\"]])\n",
    "plt.show()"
   ]
  },
  {
   "cell_type": "code",
   "execution_count": 33,
   "metadata": {},
   "outputs": [
    {
     "name": "stdout",
     "output_type": "stream",
     "text": [
      "60105\n"
     ]
    }
   ],
   "source": [
    "vectorize_layer = TextVectorization(\n",
    "                                        max_tokens=60106,\n",
    "                                        standardize='lower_and_strip_punctuation',\n",
    "                                        output_mode='int',\n",
    "                                        pad_to_max_tokens=False,\n",
    "                                        output_sequence_length=SEQUENCE_MAXLEN\n",
    "                                        )\n",
    "\n",
    "vectorize_layer.adapt(x_train)\n",
    "vocab_size = len(vectorize_layer.get_vocabulary())\n",
    "print(vocab_size)"
   ]
  },
  {
   "cell_type": "markdown",
   "metadata": {},
   "source": [
    "### Montando o modelo\n",
    "\n",
    "Agora vamos juntar a camada do tokenizador a nossa camada [Embedding](https://www.tensorflow.org/api_docs/python/tf/keras/layers/Embedding) e definir o resto de nosso modelo.\n",
    "\n",
    "##  <font color='blue'>Questão 4 </font>\n",
    "\n",
    "Defina seu modelo.\n",
    "\n",
    "Como analise de sentimentos pode ser visto como um problema de classificação, é interessante também registrar algumas métricas como acurácia `metrics=[\"acc\"]` .\n",
    "\n",
    "Seu modelo deve começar com a seguinte estrutura:\n",
    " - Camada de Input\n",
    " - Camada de Tokenização\n",
    " - Camada de Embedding\n",
    " \n",
    "Já definimos as camadas seguintes da rede por você.\n",
    " \n",
    "Atenção a dimensão do input da camada de embedding, lembre se que < OOV > e < PAD > possuem seus próprios tokens.\n"
   ]
  },
  {
   "cell_type": "code",
   "execution_count": 34,
   "metadata": {},
   "outputs": [],
   "source": [
    "dim = 128\n",
    "#model = Sequential()\n",
    "#model.add(Input(shape=(1, ), dtype=tf.string))\n",
    "#model.add(vectorize_layer)\n",
    "#model.add(Embedding(vocab_size + 2, dim, input_length=SEQUENCE_MAXLEN))\n",
    "\n",
    "#model.add(Conv1D(filters=32, kernel_size=16, activation='relu', input_shape=(SEQUENCE_MAXLEN, dim), padding='same'))\n",
    "#model.add(AveragePooling1D(pool_size=3, padding='valid'))\n",
    "\n",
    "#model.add(Conv1D(filters=32, kernel_size=16, activation='relu', input_shape=(SEQUENCE_MAXLEN, dim), padding='same'))\n",
    "#model.add(AveragePooling1D(pool_size=3, padding='valid'))\n",
    "\n",
    "#model.add(Dropout(0.5))\n",
    "#model.add(Dense(1, activation='sigmoid'))\n",
    "    \n"
   ]
  },
  {
   "cell_type": "code",
   "execution_count": 35,
   "metadata": {},
   "outputs": [
    {
     "name": "stdout",
     "output_type": "stream",
     "text": [
      "Model: \"sequential_4\"\n",
      "_________________________________________________________________\n",
      "Layer (type)                 Output Shape              Param #   \n",
      "=================================================================\n",
      "text_vectorization_1 (TextVe (None, 50)                0         \n",
      "_________________________________________________________________\n",
      "embedding_4 (Embedding)      (None, 50, 64)            3846848   \n",
      "_________________________________________________________________\n",
      "conv1d_4 (Conv1D)            (None, 35, 24)            24600     \n",
      "_________________________________________________________________\n",
      "max_pooling1d_4 (MaxPooling1 (None, 17, 24)            0         \n",
      "_________________________________________________________________\n",
      "dropout_8 (Dropout)          (None, 17, 24)            0         \n",
      "_________________________________________________________________\n",
      "dense_8 (Dense)              (None, 17, 32)            800       \n",
      "_________________________________________________________________\n",
      "dropout_9 (Dropout)          (None, 17, 32)            0         \n",
      "_________________________________________________________________\n",
      "dense_9 (Dense)              (None, 17, 1)             33        \n",
      "=================================================================\n",
      "Total params: 3,872,281\n",
      "Trainable params: 3,872,281\n",
      "Non-trainable params: 0\n",
      "_________________________________________________________________\n",
      "None\n"
     ]
    }
   ],
   "source": [
    "# define model\n",
    "model = Sequential()\n",
    "model.add(Input(shape=(1, ), dtype=tf.string))\n",
    "model.add(vectorize_layer)\n",
    "model.add(Embedding(vocab_size+2, 64, input_length=SEQUENCE_MAXLEN))\n",
    "model.add(Conv1D(filters=24, kernel_size=16, activation='relu'))\n",
    "model.add(MaxPooling1D(pool_size=2, padding='valid'))\n",
    "model.add(Dropout(0.5))\n",
    "#model.add(Conv1D(filters=14, kernel_size=16, activation='relu'))\n",
    "#model.add(MaxPooling1D(pool_size=2, padding='valid'))\n",
    "#model.add(Dropout(0.5))\n",
    "#model.add(Flatten())\n",
    "model.add(Dense(32, activation='relu'))\n",
    "model.add(Dropout(0.5))\n",
    "model.add(Dense(1, activation='sigmoid'))\n",
    "print(model.summary())"
   ]
  },
  {
   "cell_type": "markdown",
   "metadata": {},
   "source": [
    "### Treinando e avaliando seu modelo\n",
    "\n",
    "##  <font color='blue'>Questão 5 </font>\n",
    "\n",
    "Com seu modelo definido, treine e avalie sua performance no conjunto de testes, utilize camadas [Conv1D](https://keras.io/api/layers/convolution_layers/convolution1d/) na sua rede.\n",
    "\n"
   ]
  },
  {
   "cell_type": "code",
   "execution_count": 36,
   "metadata": {},
   "outputs": [
    {
     "name": "stdout",
     "output_type": "stream",
     "text": [
      "Epoch 1/40\n",
      "3310/3310 [==============================] - 17s 5ms/step - loss: 0.5728 - accuracy: 0.7272 - val_loss: 0.5544 - val_accuracy: 0.7302\n",
      "Epoch 2/40\n",
      "3310/3310 [==============================] - 16s 5ms/step - loss: 0.5641 - accuracy: 0.7275 - val_loss: 0.5506 - val_accuracy: 0.7302\n",
      "Epoch 3/40\n",
      "3310/3310 [==============================] - 16s 5ms/step - loss: 0.5597 - accuracy: 0.7283 - val_loss: 0.5448 - val_accuracy: 0.7303\n",
      "Epoch 4/40\n",
      "3310/3310 [==============================] - 17s 5ms/step - loss: 0.5494 - accuracy: 0.7342 - val_loss: 0.5242 - val_accuracy: 0.7521\n",
      "Epoch 5/40\n",
      "3310/3310 [==============================] - 16s 5ms/step - loss: 0.5307 - accuracy: 0.7478 - val_loss: 0.5010 - val_accuracy: 0.7731\n",
      "Epoch 6/40\n",
      "3310/3310 [==============================] - 17s 5ms/step - loss: 0.5149 - accuracy: 0.7595 - val_loss: 0.4848 - val_accuracy: 0.7840\n",
      "Epoch 7/40\n",
      "3310/3310 [==============================] - 17s 5ms/step - loss: 0.5027 - accuracy: 0.7686 - val_loss: 0.4732 - val_accuracy: 0.7913\n",
      "Epoch 8/40\n",
      "3310/3310 [==============================] - 17s 5ms/step - loss: 0.4926 - accuracy: 0.7762 - val_loss: 0.4624 - val_accuracy: 0.7990\n",
      "Epoch 9/40\n",
      "3310/3310 [==============================] - 16s 5ms/step - loss: 0.4841 - accuracy: 0.7833 - val_loss: 0.4545 - val_accuracy: 0.8041\n",
      "Epoch 10/40\n",
      "3310/3310 [==============================] - 16s 5ms/step - loss: 0.4775 - accuracy: 0.7887 - val_loss: 0.4480 - val_accuracy: 0.8094\n",
      "Epoch 11/40\n",
      "3310/3310 [==============================] - 16s 5ms/step - loss: 0.4722 - accuracy: 0.7931 - val_loss: 0.4437 - val_accuracy: 0.8111\n",
      "Epoch 12/40\n",
      "3310/3310 [==============================] - 16s 5ms/step - loss: 0.4677 - accuracy: 0.7969 - val_loss: 0.4541 - val_accuracy: 0.8083\n",
      "Epoch 13/40\n",
      "3310/3310 [==============================] - 16s 5ms/step - loss: 0.4644 - accuracy: 0.7995 - val_loss: 0.4369 - val_accuracy: 0.8160\n",
      "Epoch 14/40\n",
      "3310/3310 [==============================] - 16s 5ms/step - loss: 0.4611 - accuracy: 0.8018 - val_loss: 0.4432 - val_accuracy: 0.8126\n",
      "Epoch 15/40\n",
      "3310/3310 [==============================] - 15s 4ms/step - loss: 0.4580 - accuracy: 0.8039 - val_loss: 0.4420 - val_accuracy: 0.8139\n",
      "Epoch 16/40\n",
      "3310/3310 [==============================] - 17s 5ms/step - loss: 0.4558 - accuracy: 0.8053 - val_loss: 0.4313 - val_accuracy: 0.8193\n",
      "Epoch 17/40\n",
      "3310/3310 [==============================] - 17s 5ms/step - loss: 0.4535 - accuracy: 0.8071 - val_loss: 0.4482 - val_accuracy: 0.7993\n",
      "Epoch 18/40\n",
      "3310/3310 [==============================] - 17s 5ms/step - loss: 0.4515 - accuracy: 0.8084 - val_loss: 0.4319 - val_accuracy: 0.8191\n",
      "Epoch 19/40\n",
      "3310/3310 [==============================] - 17s 5ms/step - loss: 0.4499 - accuracy: 0.8095 - val_loss: 0.4363 - val_accuracy: 0.8136\n",
      "Epoch 20/40\n",
      "3310/3310 [==============================] - 17s 5ms/step - loss: 0.4484 - accuracy: 0.8108 - val_loss: 0.4292 - val_accuracy: 0.8203\n",
      "Epoch 21/40\n",
      "3310/3310 [==============================] - 17s 5ms/step - loss: 0.4472 - accuracy: 0.8118 - val_loss: 0.4344 - val_accuracy: 0.8187\n",
      "Epoch 22/40\n",
      "3310/3310 [==============================] - 17s 5ms/step - loss: 0.4454 - accuracy: 0.8131 - val_loss: 0.4497 - val_accuracy: 0.8141\n",
      "Epoch 23/40\n",
      "3310/3310 [==============================] - 17s 5ms/step - loss: 0.4441 - accuracy: 0.8139 - val_loss: 0.4272 - val_accuracy: 0.8202\n",
      "Epoch 24/40\n",
      "3310/3310 [==============================] - 17s 5ms/step - loss: 0.4433 - accuracy: 0.8145 - val_loss: 0.4227 - val_accuracy: 0.8236\n",
      "Epoch 25/40\n",
      "3310/3310 [==============================] - 17s 5ms/step - loss: 0.4420 - accuracy: 0.8151 - val_loss: 0.4218 - val_accuracy: 0.8239\n",
      "Epoch 26/40\n",
      "3310/3310 [==============================] - 17s 5ms/step - loss: 0.4406 - accuracy: 0.8164 - val_loss: 0.4263 - val_accuracy: 0.8227\n",
      "Epoch 27/40\n",
      "3310/3310 [==============================] - 17s 5ms/step - loss: 0.4396 - accuracy: 0.8169 - val_loss: 0.4213 - val_accuracy: 0.8249\n",
      "Epoch 28/40\n",
      "3310/3310 [==============================] - 17s 5ms/step - loss: 0.4389 - accuracy: 0.8176 - val_loss: 0.4332 - val_accuracy: 0.8114\n",
      "Epoch 29/40\n",
      "3310/3310 [==============================] - 17s 5ms/step - loss: 0.4378 - accuracy: 0.8184 - val_loss: 0.4280 - val_accuracy: 0.8175\n",
      "Epoch 30/40\n",
      "3310/3310 [==============================] - 17s 5ms/step - loss: 0.4372 - accuracy: 0.8190 - val_loss: 0.4267 - val_accuracy: 0.8175\n",
      "Epoch 31/40\n",
      "3310/3310 [==============================] - 17s 5ms/step - loss: 0.4362 - accuracy: 0.8195 - val_loss: 0.4195 - val_accuracy: 0.8259\n",
      "Epoch 32/40\n",
      "3310/3310 [==============================] - 17s 5ms/step - loss: 0.4352 - accuracy: 0.8201 - val_loss: 0.4251 - val_accuracy: 0.8240\n",
      "Epoch 33/40\n",
      "3310/3310 [==============================] - 17s 5ms/step - loss: 0.4348 - accuracy: 0.8206 - val_loss: 0.4186 - val_accuracy: 0.8264\n",
      "Epoch 34/40\n",
      "3310/3310 [==============================] - 17s 5ms/step - loss: 0.4340 - accuracy: 0.8209 - val_loss: 0.4256 - val_accuracy: 0.8239\n",
      "Epoch 35/40\n",
      "3310/3310 [==============================] - 17s 5ms/step - loss: 0.4335 - accuracy: 0.8216 - val_loss: 0.4178 - val_accuracy: 0.8264\n",
      "Epoch 36/40\n",
      "3310/3310 [==============================] - 17s 5ms/step - loss: 0.4329 - accuracy: 0.8219 - val_loss: 0.4200 - val_accuracy: 0.8266\n",
      "Epoch 37/40\n",
      "3310/3310 [==============================] - 17s 5ms/step - loss: 0.4322 - accuracy: 0.8223 - val_loss: 0.4337 - val_accuracy: 0.8101\n",
      "Epoch 38/40\n",
      "3310/3310 [==============================] - 17s 5ms/step - loss: 0.4320 - accuracy: 0.8225 - val_loss: 0.4186 - val_accuracy: 0.8271\n",
      "Epoch 39/40\n",
      "3310/3310 [==============================] - 17s 5ms/step - loss: 0.4308 - accuracy: 0.8235 - val_loss: 0.4228 - val_accuracy: 0.8248\n",
      "Epoch 40/40\n",
      "3310/3310 [==============================] - 17s 5ms/step - loss: 0.4302 - accuracy: 0.8238 - val_loss: 0.4180 - val_accuracy: 0.8266\n"
     ]
    }
   ],
   "source": [
    "#opt = tf.keras.optimizers.SGD(lr=0.01, momentum=0.9, clipvalue=5.0)\n",
    "#opt= \"adam\"\n",
    "#opt = tf.keras.optimizers.Adam(learning_rate=0.01)\n",
    "initial_learning_rate = 0.01\n",
    "lr_schedule = tf.keras.optimizers.schedules.ExponentialDecay(\n",
    "    initial_learning_rate,\n",
    "    decay_steps=100000,\n",
    "    decay_rate=0.96,\n",
    "   staircase=True)\n",
    "opt = tf.keras.optimizers.SGD(learning_rate=lr_schedule)\n",
    "#opt = tf.keras.optimizers.RMSprop(\n",
    "#    learning_rate=0.3,\n",
    "#    rho=0.9,\n",
    "#    momentum=0.5,\n",
    "#    epsilon=1e-07,\n",
    "#    centered=False,\n",
    "#    name=\"RMSprop\"\n",
    "#)\n",
    "model.compile(optimizer=opt, loss=\"binary_crossentropy\", metrics=[\"accuracy\"])\n",
    "history = model.fit(\n",
    "    x_train, y_train, batch_size=16, epochs=50, validation_data=(x_val, y_val)\n",
    ")"
   ]
  },
  {
   "cell_type": "code",
   "execution_count": 38,
   "metadata": {},
   "outputs": [
    {
     "data": {
      "image/png": "[encoded data removed]",
      "text/plain": [
       "<Figure size 432x288 with 1 Axes>"
      ]
     },
     "metadata": {
      "needs_background": "light"
     },
     "output_type": "display_data"
    },
    {
     "data": {
      "image/png": "[encoded data removed]",
      "text/plain": [
       "<Figure size 432x288 with 1 Axes>"
      ]
     },
     "metadata": {
      "needs_background": "light"
     },
     "output_type": "display_data"
    },
    {
     "data": {
      "text/plain": [
       "<Figure size 432x288 with 0 Axes>"
      ]
     },
     "metadata": {},
     "output_type": "display_data"
    }
   ],
   "source": [
    "    plt.title('Loss')\n",
    "    plt.xlabel('epochs')\n",
    "    plt.ylabel('Loss')\n",
    "    plt.plot(history.history['loss'], label='train')\n",
    "    plt.plot(history.history['val_loss'], label='valid')\n",
    "    plt.legend()\n",
    "    plt.show()\n",
    "    plt.clf()\n",
    "\n",
    "    plt.title('Accuracy')\n",
    "    plt.xlabel('epochs')\n",
    "    plt.ylabel('accuracy')\n",
    "    plt.plot(history.history['accuracy'], label='train')\n",
    "    plt.plot(history.history['val_accuracy'], label='valid')\n",
    "    plt.legend()\n",
    "    plt.show()\n",
    "    plt.clf()"
   ]
  },
  {
   "cell_type": "code",
   "execution_count": null,
   "metadata": {},
   "outputs": [],
   "source": []
  },
  {
   "cell_type": "code",
   "execution_count": null,
   "metadata": {},
   "outputs": [],
   "source": []
  },
  {
   "cell_type": "code",
   "execution_count": null,
   "metadata": {},
   "outputs": [],
   "source": []
  },
  {
   "cell_type": "code",
   "execution_count": null,
   "metadata": {},
   "outputs": [],
   "source": []
  }
 ],
 "metadata": {
  "kernelspec": {
   "display_name": "Python 3",
   "language": "python",
   "name": "python3"
  },
  "language_info": {
   "codemirror_mode": {
    "name": "ipython",
    "version": 3
   },
   "file_extension": ".py",
   "mimetype": "text/x-python",
   "name": "python",
   "nbconvert_exporter": "python",
   "pygments_lexer": "ipython3",
   "version": "3.8.5"
  }
 },
 "nbformat": 4,
 "nbformat_minor": 4
}
