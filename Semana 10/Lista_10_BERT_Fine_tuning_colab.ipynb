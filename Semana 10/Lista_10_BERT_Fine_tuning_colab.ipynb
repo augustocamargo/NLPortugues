{
 "cells": [
  {
   "cell_type": "markdown",
   "metadata": {
    "id": "iYf9kDk_cYiF"
   },
   "source": [
    "<img src=\"https://github.com/alan-barzilay/NLPortugues/blob/master/imagens/logo_nlportugues.png?raw=true\"  style=\"height:65%\" align=\"right\">\n",
    "\n",
    "\n",
    "# Lista10 - BERT\n",
    "**Nome: Augusto Cesar de Camargo** \n",
    "\n",
    "**Numero Usp: 11823558** \n",
    "\n",
    "\n",
    "\n",
    "\n",
    "\n",
    "\n",
    "\n",
    "\n",
    "\n",
    "______________\n",
    "\n"
   ]
  },
  {
   "cell_type": "markdown",
   "metadata": {
    "id": "iG-MVF4QcYiH"
   },
   "source": [
    "\n",
    "O objetivo desta lista é fazer com que vocês se familiarizem com o BERT por meio da biblioteca HuggingFace. Novamente, as questões 1 2 e 3 podem ser copiadas de listas anteriores."
   ]
  },
  {
   "cell_type": "code",
   "execution_count": null,
   "metadata": {
    "colab": {
     "base_uri": "https://localhost:8080/"
    },
    "id": "LELNdqcOcYiH",
    "outputId": "f76872a7-09d7-40d9-a94f-fffce9d6809c"
   },
   "outputs": [],
   "source": []
  },
  {
   "cell_type": "code",
   "execution_count": 1,
   "metadata": {
    "colab": {
     "base_uri": "https://localhost:8080/"
    },
    "id": "aNfBUlGzcYiM",
    "outputId": "35dac899-4ce3-4eb6-a01c-71f9be4b8099"
   },
   "outputs": [
    {
     "name": "stdout",
     "output_type": "stream",
     "text": [
      "Sun Nov 08 12:29:11 2020       \n",
      "+-----------------------------------------------------------------------------+\n",
      "| NVIDIA-SMI 456.38       Driver Version: 456.38       CUDA Version: 11.1     |\n",
      "|-------------------------------+----------------------+----------------------+\n",
      "| GPU  Name            TCC/WDDM | Bus-Id        Disp.A | Volatile Uncorr. ECC |\n",
      "| Fan  Temp  Perf  Pwr:Usage/Cap|         Memory-Usage | GPU-Util  Compute M. |\n",
      "|===============================+======================+======================|\n",
      "|   0  GeForce RTX 2060   WDDM  | 00000000:01:00.0 Off |                  N/A |\n",
      "| N/A   51C    P8    12W /  N/A |    164MiB /  6144MiB |      0%      Default |\n",
      "+-------------------------------+----------------------+----------------------+\n",
      "                                                                               \n",
      "+-----------------------------------------------------------------------------+\n",
      "| Processes:                                                                  |\n",
      "|  GPU   GI   CI        PID   Type   Process name                  GPU Memory |\n",
      "|        ID   ID                                                   Usage      |\n",
      "|=============================================================================|\n",
      "|  No running processes found                                                 |\n",
      "+-----------------------------------------------------------------------------+\n"
     ]
    }
   ],
   "source": [
    "!nvidia-smi"
   ]
  },
  {
   "cell_type": "code",
   "execution_count": 2,
   "metadata": {
    "id": "bSfvQH9qcYiQ"
   },
   "outputs": [],
   "source": [
    "import tensorflow as tf\n",
    "import numpy as np\n",
    "import pandas as pd\n",
    "import matplotlib.pyplot as plt\n",
    "from transformers import (\n",
    "    BertTokenizer,\n",
    "    TFBertForSequenceClassification,\n",
    "    TFTrainer,\n",
    "    TFTrainingArguments,\n",
    ")\n",
    "from sklearn.model_selection import train_test_split"
   ]
  },
  {
   "cell_type": "markdown",
   "metadata": {
    "id": "a9JIpB1icYiT"
   },
   "source": [
    "### Importando os dados como um dataframe\n",
    "\n",
    "Para esta lista nós utilizaremos o dataset **B2W-Reviews01** que consiste em avaliações de mais de 130k compras online no site Americanas.com e [esta disponivel no github](https://github.com/b2wdigital/b2w-reviews01) sob a licensa CC BY-NC-SA 4.01."
   ]
  },
  {
   "cell_type": "code",
   "execution_count": 3,
   "metadata": {
    "colab": {
     "base_uri": "https://localhost:8080/",
     "height": 600
    },
    "id": "S0cdGK9dcYiT",
    "outputId": "843af6c8-f053-43f9-8f9c-823140e4607d",
    "scrolled": true
   },
   "outputs": [
    {
     "data": {
      "text/html": [
       "<div>\n",
       "<style scoped>\n",
       "    .dataframe tbody tr th:only-of-type {\n",
       "        vertical-align: middle;\n",
       "    }\n",
       "\n",
       "    .dataframe tbody tr th {\n",
       "        vertical-align: top;\n",
       "    }\n",
       "\n",
       "    .dataframe thead th {\n",
       "        text-align: right;\n",
       "    }\n",
       "</style>\n",
       "<table border=\"1\" class=\"dataframe\">\n",
       "  <thead>\n",
       "    <tr style=\"text-align: right;\">\n",
       "      <th></th>\n",
       "      <th>recommend_to_a_friend</th>\n",
       "      <th>review_text</th>\n",
       "    </tr>\n",
       "  </thead>\n",
       "  <tbody>\n",
       "    <tr>\n",
       "      <th>0</th>\n",
       "      <td>Yes</td>\n",
       "      <td>estou contente com a compra entrega rápida o ú...</td>\n",
       "    </tr>\n",
       "    <tr>\n",
       "      <th>1</th>\n",
       "      <td>Yes</td>\n",
       "      <td>por apenas r$1994.20,eu consegui comprar esse ...</td>\n",
       "    </tr>\n",
       "    <tr>\n",
       "      <th>2</th>\n",
       "      <td>Yes</td>\n",
       "      <td>supera em agilidade e praticidade outras panel...</td>\n",
       "    </tr>\n",
       "    <tr>\n",
       "      <th>3</th>\n",
       "      <td>Yes</td>\n",
       "      <td>meu filho amou! parece de verdade com tantos d...</td>\n",
       "    </tr>\n",
       "    <tr>\n",
       "      <th>4</th>\n",
       "      <td>Yes</td>\n",
       "      <td>a entrega foi no prazo, as americanas estão de...</td>\n",
       "    </tr>\n",
       "  </tbody>\n",
       "</table>\n",
       "</div>"
      ],
      "text/plain": [
       "  recommend_to_a_friend                                        review_text\n",
       "0                   Yes  estou contente com a compra entrega rápida o ú...\n",
       "1                   Yes  por apenas r$1994.20,eu consegui comprar esse ...\n",
       "2                   Yes  supera em agilidade e praticidade outras panel...\n",
       "3                   Yes  meu filho amou! parece de verdade com tantos d...\n",
       "4                   Yes  a entrega foi no prazo, as americanas estão de..."
      ]
     },
     "execution_count": 3,
     "metadata": {},
     "output_type": "execute_result"
    }
   ],
   "source": [
    "b2wCorpus = pd.read_csv(\"../Semana 03/data/B2W-Reviews01.csv\",\";\",usecols=['review_text','recommend_to_a_friend'], encoding='utf-8')\n",
    "for i, row in b2wCorpus.iterrows():\n",
    "    ifor_val = row['review_text'].lower()\n",
    "    b2wCorpus.at[i,'review_text']= ifor_val\n",
    "b2wCorpus.head()"
   ]
  },
  {
   "cell_type": "code",
   "execution_count": 4,
   "metadata": {
    "colab": {
     "base_uri": "https://localhost:8080/"
    },
    "id": "cTIdMGJEcYiX",
    "outputId": "c7288625-aea0-4b18-f794-367838e33c1f"
   },
   "outputs": [
    {
     "data": {
      "text/plain": [
       "0         estou contente com a compra entrega rápida o ú...\n",
       "1         por apenas r$1994.20,eu consegui comprar esse ...\n",
       "2         supera em agilidade e praticidade outras panel...\n",
       "3         meu filho amou! parece de verdade com tantos d...\n",
       "4         a entrega foi no prazo, as americanas estão de...\n",
       "                                ...                        \n",
       "132368    vale muito, estou usando no controle do xbox e...\n",
       "132369    prático e barato, super indico o produto para ...\n",
       "132370    chegou antes do prazo previsto e corresponde a...\n",
       "132371    material fraco, poderia ser melhor. ficou deve...\n",
       "132372    comprei esse produto, quando chegou estava com...\n",
       "Name: review_text, Length: 132373, dtype: object"
      ]
     },
     "execution_count": 4,
     "metadata": {},
     "output_type": "execute_result"
    }
   ],
   "source": [
    "b2wCorpus[\"review_text\"]"
   ]
  },
  {
   "cell_type": "markdown",
   "metadata": {
    "id": "iQ3HBW4GcYia"
   },
   "source": [
    "\n",
    "### Pré-processamento\n",
    "Seria util nos livrarmos das colunas que não são relevantes para o nosso problema e tambem verificar se não tem nada de esquisito nas colunas que vamos utilizar. \n",
    "Por exemplo, se fossemos utilizar a coluna \"reviewer_gender\" nós precisariamos nos livrar desses valores esquisitos:"
   ]
  },
  {
   "cell_type": "code",
   "execution_count": null,
   "metadata": {
    "colab": {
     "base_uri": "https://localhost:8080/"
    },
    "id": "xzFjJTIZcYib",
    "outputId": "8b0f05aa-8e66-4b95-8eda-f13d202de3f5"
   },
   "outputs": [],
   "source": []
  },
  {
   "cell_type": "markdown",
   "metadata": {
    "id": "cTlJBilFcYie"
   },
   "source": [
    "## <font color='blue'>Questão 1 </font>\n",
    "\n",
    "a) Selecione apenas as colunas relevantes: \"review_text\" e \"recommend_to_a_friend\". \n",
    "\n",
    "b) Converta a coluna \"recommend_to_a_friend\" de uma coluna de `str` para uma coluna de `int`:\n",
    "\n",
    "- \"Yes\"-> 1\n",
    "- \"No\" -> 0\n"
   ]
  },
  {
   "cell_type": "code",
   "execution_count": 5,
   "metadata": {
    "id": "SaSK4tNzcYif"
   },
   "outputs": [],
   "source": [
    "b2wCorpus['recommend_to_a_friend'] = b2wCorpus['recommend_to_a_friend'].apply(lambda word : 1 if str(word).lower() == 'yes' else 0)\n",
    "x = b2wCorpus['review_text'].values.astype('str')\n",
    "y = b2wCorpus['recommend_to_a_friend'].values"
   ]
  },
  {
   "cell_type": "markdown",
   "metadata": {
    "id": "QovmCsSjcYii"
   },
   "source": [
    "### Separando em teste e treino\n",
    "## <font color='blue'>Questão 2 </font>\n",
    "\n",
    "Agora com o dataset já pré-processado, separe o em 2 partes, um conjunto de teste e um conjunto de treino. Novamente você pode utilizar a função [train_test_split()](https://scikit-learn.org/stable/modules/generated/sklearn.model_selection.train_test_split.html) do Scikit-Learn como na lista passada."
   ]
  },
  {
   "cell_type": "code",
   "execution_count": 6,
   "metadata": {
    "id": "IfsQV-krcYij"
   },
   "outputs": [],
   "source": [
    "x_train, x_val, y_train, y_val = train_test_split(x, y, test_size=0.3)"
   ]
  },
  {
   "cell_type": "markdown",
   "metadata": {
    "id": "T2D8ZThAcYil"
   },
   "source": [
    "### Tokenizando\n",
    "\n",
    "Para aplicar o processo de _Tokenize_ dos nossos dados, diferente das listas anteriores, utilizaremos a classe [BertTokenizer](https://huggingface.co/transformers/master/model_doc/bert.html#berttokenizer) da biblioteca [transformers](https://github.com/huggingface/transformers) do HuggingFace.\n",
    "\n",
    "Para isso, veja o exemplo abaixo:\n"
   ]
  },
  {
   "cell_type": "code",
   "execution_count": 7,
   "metadata": {
    "id": "9eJ23t5McYim"
   },
   "outputs": [],
   "source": [
    "#REF_MODEL = 'neuralmind/bert-base-portuguese-cased'\n",
    "#tokenizer = BertTokenizer.from_pretrained(REF_MODEL)\n",
    "#text = pd.DataFrame([\"isso é um text\", \"o rato roeu a roupa\", \"do rei de Roma\"])"
   ]
  },
  {
   "cell_type": "code",
   "execution_count": 8,
   "metadata": {
    "id": "N7kzmQaVcYip"
   },
   "outputs": [],
   "source": [
    "#SEQ_LEN=5\n",
    "#encoded_text = tokenizer(\n",
    "#    text.values.tolist(),\n",
    "#    text_pair=None,\n",
    "#    is_split_into_words=True,\n",
    "#    padding=\"max_length\",\n",
    "#    truncation=True,\n",
    "#    max_length=SEQ_LEN,\n",
    "#    pad_to_max_length=True,\n",
    "#    return_tensors='tf'\n",
    "#)\n",
    "#encoded_text_labels = np.array([0,0,1])"
   ]
  },
  {
   "cell_type": "code",
   "execution_count": 9,
   "metadata": {
    "id": "NvB5s_zTcYir"
   },
   "outputs": [],
   "source": [
    "#encoded_text"
   ]
  },
  {
   "cell_type": "markdown",
   "metadata": {
    "id": "nqWYdOtfcYiu"
   },
   "source": [
    "Como é possível ver, o resultado gera um dicionário com 3 chaves, representando diferentes tensores:\n",
    "\n",
    "    - input_ids (os arrays de entrada convertidos para inteiro)\n",
    "    - token_type_ids (Indicação se pertence a sentença A ou B [0 é sentença A e 1 é sentença B])\n",
    "    - attention_mask (indicando quais tokens foram mascarados. Como todos os tokens **não** foram mascarados, o valor aqui sempre é 1)"
   ]
  },
  {
   "cell_type": "markdown",
   "metadata": {
    "id": "rT4SM5u_cYiv"
   },
   "source": [
    "## <font color='blue'>Questão 3 </font>\n",
    "\n",
    "Aplique o tokenizer nos dados de treino e teste, gerando duas variáveis **encoded_train** e **encoded_test**, considerando o max_length como o tamanho da sentença ideal. Plotamos um histograma do comprimento dos reviews para lhe auxiliar nessa decisão."
   ]
  },
  {
   "cell_type": "code",
   "execution_count": 10,
   "metadata": {
    "colab": {
     "base_uri": "https://localhost:8080/",
     "height": 265
    },
    "id": "WvyL96-KcYiv",
    "outputId": "c2a19eed-03b5-4b98-8491-6c4858ba6de7"
   },
   "outputs": [
    {
     "data": {
      "image/png": "[encoded data removed]",
      "text/plain": [
       "<Figure size 432x288 with 1 Axes>"
      ]
     },
     "metadata": {
      "needs_background": "light"
     },
     "output_type": "display_data"
    }
   ],
   "source": [
    "plt.hist([len(linha.split()) for linha in b2wCorpus[\"review_text\"]])\n",
    "plt.show()"
   ]
  },
  {
   "cell_type": "code",
   "execution_count": 11,
   "metadata": {
    "id": "RA1q5qOhcYiy"
   },
   "outputs": [],
   "source": [
    "#REF_MODEL = \"bert-base-multilingual-cased\"\n",
    "REF_MODEL = 'neuralmind/bert-base-portuguese-cased'\n",
    "tokenizer = BertTokenizer.from_pretrained(REF_MODEL)"
   ]
  },
  {
   "cell_type": "code",
   "execution_count": 12,
   "metadata": {
    "id": "1itnzlREcYi1",
    "scrolled": true
   },
   "outputs": [
    {
     "name": "stdout",
     "output_type": "stream",
     "text": [
      "{'input_ids': array([[ 101, 2080, 1075, ...,    0,    0,    0],\n",
      "       [ 101, 4171, 3575, ...,    0,    0,    0],\n",
      "       [ 101, 3576,  785, ..., 3506,  119,  102],\n",
      "       ...,\n",
      "       [ 101, 1941, 1021, ...,    0,    0,    0],\n",
      "       [ 101, 3576, 2281, ...,    0,    0,    0],\n",
      "       [ 101,  122,  785, ...,    0,    0,    0]]), 'token_type_ids': array([[0, 0, 0, ..., 0, 0, 0],\n",
      "       [0, 0, 0, ..., 0, 0, 0],\n",
      "       [0, 0, 0, ..., 0, 0, 0],\n",
      "       ...,\n",
      "       [0, 0, 0, ..., 0, 0, 0],\n",
      "       [0, 0, 0, ..., 0, 0, 0],\n",
      "       [0, 0, 0, ..., 0, 0, 0]]), 'attention_mask': array([[1, 1, 1, ..., 0, 0, 0],\n",
      "       [1, 1, 1, ..., 0, 0, 0],\n",
      "       [1, 1, 1, ..., 1, 1, 1],\n",
      "       ...,\n",
      "       [1, 1, 1, ..., 0, 0, 0],\n",
      "       [1, 1, 1, ..., 0, 0, 0],\n",
      "       [1, 1, 1, ..., 0, 0, 0]])}\n"
     ]
    }
   ],
   "source": [
    "SEQUENCE_MAXLEN = 50\n",
    "\n",
    "encoded_train = tokenizer(\n",
    "    [[line] for line in x_train],\n",
    "    text_pair=None,\n",
    "    is_split_into_words=True,\n",
    "    padding=\"max_length\",\n",
    "    truncation=True,\n",
    "    max_length=SEQUENCE_MAXLEN,\n",
    "    pad_to_max_length=True,\n",
    "    return_tensors='np'\n",
    ")\n",
    "print(encoded_train)"
   ]
  },
  {
   "cell_type": "code",
   "execution_count": 13,
   "metadata": {
    "id": "9kf9wGcMcYi5"
   },
   "outputs": [],
   "source": [
    "encoded_valid = tokenizer(\n",
    "   [[line] for line in x_val],\n",
    "    text_pair=None,\n",
    "    is_split_into_words=True,\n",
    "    padding=\"max_length\",\n",
    "    truncation=True,\n",
    "    max_length=SEQUENCE_MAXLEN,\n",
    "    pad_to_max_length=True,\n",
    "    return_tensors='np'\n",
    ")"
   ]
  },
  {
   "cell_type": "code",
   "execution_count": 14,
   "metadata": {
    "colab": {
     "base_uri": "https://localhost:8080/"
    },
    "id": "BP_4QMaecYi7",
    "outputId": "2c712552-bb37-4dab-fb06-5fd2cea77f03"
   },
   "outputs": [
    {
     "data": {
      "text/plain": [
       "dict_keys(['input_ids', 'token_type_ids', 'attention_mask'])"
      ]
     },
     "execution_count": 14,
     "metadata": {},
     "output_type": "execute_result"
    }
   ],
   "source": [
    "encoded_train.keys()"
   ]
  },
  {
   "cell_type": "code",
   "execution_count": 15,
   "metadata": {
    "colab": {
     "base_uri": "https://localhost:8080/"
    },
    "id": "rNYHn-05cYi_",
    "outputId": "40959541-b006-4ab1-90a6-1f362837193b"
   },
   "outputs": [
    {
     "data": {
      "text/plain": [
       "(92661, 50)"
      ]
     },
     "execution_count": 15,
     "metadata": {},
     "output_type": "execute_result"
    }
   ],
   "source": [
    "encoded_train['input_ids'].shape"
   ]
  },
  {
   "cell_type": "markdown",
   "metadata": {
    "id": "KBAoGVTycYjB"
   },
   "source": [
    "### Montando o modelo\n",
    "\n",
    "Para montar o modelo, iremos utilizar a classe TFBertForSequenceClassification, do HuggingFace\n",
    "\n",
    "Aqui tem um exemplo de código para vocês seguirem!\n"
   ]
  },
  {
   "cell_type": "code",
   "execution_count": 16,
   "metadata": {
    "id": "-XlAuvvscYjC"
   },
   "outputs": [],
   "source": [
    "#bert_model = TFBertForSequenceClassification.from_pretrained(REF_MODEL, from_pt=True, num_labels=2)\n",
    "#input_ids = tf.keras.layers.Input(shape=(SEQ_LEN,), name='input_token', dtype='int32')\n",
    "#input_masks_ids = tf.keras.layers.Input(shape=(SEQ_LEN,), name='masked_token', dtype='int32')#\n",
    "\n",
    "#X = bert_model(input_ids, input_masks_ids)"
   ]
  },
  {
   "cell_type": "code",
   "execution_count": 17,
   "metadata": {
    "id": "hcM9GXR7cYjF"
   },
   "outputs": [],
   "source": [
    "#model = tf.keras.Model(inputs=[input_ids, input_masks_ids], outputs = X)\n",
    "#model.summary()"
   ]
  },
  {
   "cell_type": "code",
   "execution_count": 18,
   "metadata": {
    "id": "8GdoItuqcYjH"
   },
   "outputs": [],
   "source": [
    "#opt = tf.keras.optimizers.RMSprop(learning_rate=1e-5)\n",
    "#my_callbacks = [tf.keras.callbacks.EarlyStopping(patience=2)]\n",
    "#model.compile(opt, \"sparse_categorical_crossentropy\", metrics=[\"acc\"])"
   ]
  },
  {
   "cell_type": "code",
   "execution_count": 19,
   "metadata": {
    "id": "0PTLerypcYjK"
   },
   "outputs": [],
   "source": [
    "#history = model.fit(\n",
    "#    [encoded_text[\"input_ids\"], encoded_text[\"attention_mask\"]],\n",
    "#    encoded_text_labels,\n",
    "#    batch_size=32,\n",
    "#    epochs=2,\n",
    "#    callbacks=my_callbacks,\n",
    "#)"
   ]
  },
  {
   "cell_type": "markdown",
   "metadata": {
    "id": "1LDf2uAkcYjM"
   },
   "source": [
    "## Treinando e avaliando seu modelo\n",
    "\n",
    "###  <font color='blue'>Questão 4 </font>\n",
    "\n",
    "Defina e treine seu modelo.\n",
    "\n",
    "**Lembre-se de tambem adicionar os dados de validação do modelo**"
   ]
  },
  {
   "cell_type": "code",
   "execution_count": null,
   "metadata": {
    "colab": {
     "base_uri": "https://localhost:8080/"
    },
    "id": "YOK5q2jAcYjN",
    "outputId": "65fb829d-36fc-42ad-d413-71c35e8ac4ce"
   },
   "outputs": [
    {
     "name": "stderr",
     "output_type": "stream",
     "text": [
      "Some weights of the PyTorch model were not used when initializing the TF 2.0 model TFBertForSequenceClassification: ['cls.predictions.bias', 'cls.predictions.transform.LayerNorm.bias', 'cls.predictions.transform.dense.weight', 'cls.predictions.transform.dense.bias', 'cls.seq_relationship.bias', 'cls.seq_relationship.weight', 'cls.predictions.transform.LayerNorm.weight', 'cls.predictions.decoder.weight']\n",
      "- This IS expected if you are initializing TFBertForSequenceClassification from a PyTorch model trained on another task or with another architecture (e.g. initializing a TFBertForSequenceClassification model from a BertForPretraining model).\n",
      "- This IS NOT expected if you are initializing TFBertForSequenceClassification from a PyTorch model that you expect to be exactly identical (e.g. initializing a TFBertForSequenceClassification model from a BertForSequenceClassification model).\n",
      "Some weights or buffers of the TF 2.0 model TFBertForSequenceClassification were not initialized from the PyTorch model and are newly initialized: ['classifier.weight', 'classifier.bias']\n",
      "You should probably TRAIN this model on a down-stream task to be able to use it for predictions and inference.\n"
     ]
    },
    {
     "name": "stdout",
     "output_type": "stream",
     "text": [
      "Epoch 1/5\n",
      "2896/2896 [==============================] - ETA: 0s - loss: 0.6027 - accuracy: 0.7203WARNING:tensorflow:Callbacks method `on_test_batch_end` is slow compared to the batch time (batch time: 0.0060s vs `on_test_batch_end` time: 0.0890s). Check your callbacks.\n",
      "2896/2896 [==============================] - 3111s 1s/step - loss: 0.6027 - accuracy: 0.7203 - val_loss: 0.5867 - val_accuracy: 0.7287\n",
      "Epoch 2/5\n",
      "2896/2896 [==============================] - 1077s 372ms/step - loss: 0.5881 - accuracy: 0.7275 - val_loss: 0.5855 - val_accuracy: 0.7287\n",
      "Epoch 3/5\n",
      "2760/2896 [===========================>..] - ETA: 45s - loss: 0.5879 - accuracy: 0.7276"
     ]
    }
   ],
   "source": [
    "physical_devices = tf.config.list_physical_devices('GPU') \n",
    "tf.config.experimental.set_memory_growth(physical_devices[0], True)\n",
    "with tf.device('GPU:0'):\n",
    "    bert_model = TFBertForSequenceClassification.from_pretrained(REF_MODEL, from_pt=True, num_labels=2)\n",
    "    input_ids = tf.keras.layers.Input(shape=(SEQUENCE_MAXLEN,), name='input_token', dtype='int32')\n",
    "    input_masks_ids = tf.keras.layers.Input(shape=(SEQUENCE_MAXLEN,), name='masked_token', dtype='int32')\n",
    "\n",
    "    X = bert_model(input_ids, input_masks_ids)\n",
    "    model = tf.keras.Model(inputs=[input_ids, input_masks_ids], outputs = X)\n",
    "    my_callbacks = [tf.keras.callbacks.EarlyStopping(patience=2)]\n",
    "    loss = tf.keras.losses.SparseCategoricalCrossentropy(from_logits=True)\n",
    "    metrics = tf.keras.metrics.SparseCategoricalAccuracy('accuracy')\n",
    "    #opt = tf.keras.optimizers.Adam(learning_rate=0.3)\n",
    "    opt=tf.keras.optimizers.RMSprop(\n",
    "    learning_rate=0.001,\n",
    "    rho=0.9,\n",
    "    momentum=0.0,\n",
    "    epsilon=1e-07,\n",
    "    centered=False,\n",
    "    name=\"RMSprop\")\n",
    "    model.compile(opt, loss=loss, metrics=metrics)\n",
    "    history = model.fit(\n",
    "        [encoded_train[\"input_ids\"],\n",
    "         encoded_train[\"attention_mask\"]],\n",
    "        y_train,\n",
    "        batch_size=32,\n",
    "        epochs=5,\n",
    "        callbacks=my_callbacks,\n",
    "        validation_data = ([encoded_valid[\"input_ids\"],\n",
    "                           encoded_valid[\"attention_mask\"]],\n",
    "                           y_val)\n",
    "    )"
   ]
  },
  {
   "cell_type": "code",
   "execution_count": null,
   "metadata": {},
   "outputs": [],
   "source": []
  },
  {
   "cell_type": "code",
   "execution_count": null,
   "metadata": {},
   "outputs": [],
   "source": []
  }
 ],
 "metadata": {
  "accelerator": "GPU",
  "colab": {
   "collapsed_sections": [],
   "name": "Lista 10 - BERT Fine-tuning.ipynb",
   "provenance": []
  },
  "kernelspec": {
   "display_name": "Python 3",
   "language": "python",
   "name": "python3"
  },
  "language_info": {
   "codemirror_mode": {
    "name": "ipython",
    "version": 3
   },
   "file_extension": ".py",
   "mimetype": "text/x-python",
   "name": "python",
   "nbconvert_exporter": "python",
   "pygments_lexer": "ipython3",
   "version": "3.8.5"
  }
 },
 "nbformat": 4,
 "nbformat_minor": 4
}
